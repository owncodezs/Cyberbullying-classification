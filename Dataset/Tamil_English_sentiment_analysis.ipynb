{
  "nbformat": 4,
  "nbformat_minor": 0,
  "metadata": {
    "colab": {
      "provenance": [],
      "cell_execution_strategy": "setup"
    },
    "kernelspec": {
      "name": "python3",
      "display_name": "Python 3"
    },
    "language_info": {
      "name": "python"
    },
    "accelerator": "TPU"
  },
  "cells": [
    {
      "cell_type": "code",
      "execution_count": null,
      "metadata": {
        "id": "dRmXBdcj9QIb"
      },
      "outputs": [],
      "source": [
        "\n",
        "import pandas as pd\n",
        "import numpy as np\n",
        "import string\n",
        "from nltk.corpus import stopwords\n",
        "import spacy\n",
        "from tqdm import tqdm\n",
        "import copy\n",
        "from sklearn.metrics import classification_report, confusion_matrix"
      ]
    },
    {
      "cell_type": "code",
      "source": [
        "!wget https://raw.githubusercontent.com/owncodezs/Cyberbullying-classification/main/Dataset.csv"
      ],
      "metadata": {
        "id": "FbZILaWzF-Va",
        "outputId": "eeef0fea-19a1-4ef1-c9ed-6fb58ae45085",
        "colab": {
          "base_uri": "https://localhost:8080/"
        }
      },
      "execution_count": null,
      "outputs": [
        {
          "output_type": "stream",
          "name": "stdout",
          "text": [
            "--2023-07-17 14:07:44--  https://raw.githubusercontent.com/owncodezs/Cyberbullying-classification/main/Dataset.csv\n",
            "Resolving raw.githubusercontent.com (raw.githubusercontent.com)... 185.199.109.133, 185.199.108.133, 185.199.111.133, ...\n",
            "Connecting to raw.githubusercontent.com (raw.githubusercontent.com)|185.199.109.133|:443... connected.\n",
            "HTTP request sent, awaiting response... 200 OK\n",
            "Length: 880938 (860K) [text/plain]\n",
            "Saving to: ‘Dataset.csv’\n",
            "\n",
            "Dataset.csv         100%[===================>] 860.29K  --.-KB/s    in 0.05s   \n",
            "\n",
            "2023-07-17 14:07:44 (17.9 MB/s) - ‘Dataset.csv’ saved [880938/880938]\n",
            "\n"
          ]
        }
      ]
    },
    {
      "cell_type": "code",
      "source": [
        "#df = pd.read_csv('eng-tam_3_train.csv',sep='\\t',names=['category','text']) # separator was not given properly\n",
        "# !wget https://raw.githubusercontent.com/owncodezs/Cyberbullying-classification/main/Dataset.csv\n",
        "# from google.colab import drive\n",
        "# drive.mount('/content/gdrive')\n",
        "df = pd.read_csv('/content/Dataset.csv')\n",
        "#df = pd.read_csv('eng-tam_3_train.csv')\n",
        "text=df[['text']]\n",
        "labels=df[['category']]"
      ],
      "metadata": {
        "id": "9eH_Fuzl9wfg"
      },
      "execution_count": null,
      "outputs": []
    },
    {
      "cell_type": "code",
      "source": [
        "text"
      ],
      "metadata": {
        "colab": {
          "base_uri": "https://localhost:8080/",
          "height": 423
        },
        "id": "AXcXUROI4twN",
        "outputId": "3fa07199-095f-414f-8c72-aabe19f4d15d"
      },
      "execution_count": null,
      "outputs": [
        {
          "output_type": "execute_result",
          "data": {
            "text/plain": [
              "                                                    text\n",
              "0      Viswasam trailer paathutu Inka vanthavanga lik...\n",
              "1      Thalaiva.. full Support from kerala Mohanlal Fans\n",
              "2      Paruthiveeran Karthi Back  Lokesh Kangaraj Scr...\n",
              "3      Hey Makkalay yaaru Darbar Motion Poster announ...\n",
              "4      Padaiyatchi nu sonna mattum ungalukku jaathi v...\n",
              "...                                                  ...\n",
              "12590  Aiiiiiiiyo vera leval Hollywood ranguku ierukk...\n",
              "12591  Rip  Sr Prabhu punda mavan... Ne theru Kodi th...\n",
              "12592     Trailer pudichuruku nu solluravunga hit like..\n",
              "12593  Oruthar mela viswasam kaatta yen inoruthara as...\n",
              "12594                         Dhanush fans     like here\n",
              "\n",
              "[12595 rows x 1 columns]"
            ],
            "text/html": [
              "\n",
              "\n",
              "  <div id=\"df-eaf11e75-c475-41bc-85b2-6fb65146d644\">\n",
              "    <div class=\"colab-df-container\">\n",
              "      <div>\n",
              "<style scoped>\n",
              "    .dataframe tbody tr th:only-of-type {\n",
              "        vertical-align: middle;\n",
              "    }\n",
              "\n",
              "    .dataframe tbody tr th {\n",
              "        vertical-align: top;\n",
              "    }\n",
              "\n",
              "    .dataframe thead th {\n",
              "        text-align: right;\n",
              "    }\n",
              "</style>\n",
              "<table border=\"1\" class=\"dataframe\">\n",
              "  <thead>\n",
              "    <tr style=\"text-align: right;\">\n",
              "      <th></th>\n",
              "      <th>text</th>\n",
              "    </tr>\n",
              "  </thead>\n",
              "  <tbody>\n",
              "    <tr>\n",
              "      <th>0</th>\n",
              "      <td>Viswasam trailer paathutu Inka vanthavanga lik...</td>\n",
              "    </tr>\n",
              "    <tr>\n",
              "      <th>1</th>\n",
              "      <td>Thalaiva.. full Support from kerala Mohanlal Fans</td>\n",
              "    </tr>\n",
              "    <tr>\n",
              "      <th>2</th>\n",
              "      <td>Paruthiveeran Karthi Back  Lokesh Kangaraj Scr...</td>\n",
              "    </tr>\n",
              "    <tr>\n",
              "      <th>3</th>\n",
              "      <td>Hey Makkalay yaaru Darbar Motion Poster announ...</td>\n",
              "    </tr>\n",
              "    <tr>\n",
              "      <th>4</th>\n",
              "      <td>Padaiyatchi nu sonna mattum ungalukku jaathi v...</td>\n",
              "    </tr>\n",
              "    <tr>\n",
              "      <th>...</th>\n",
              "      <td>...</td>\n",
              "    </tr>\n",
              "    <tr>\n",
              "      <th>12590</th>\n",
              "      <td>Aiiiiiiiyo vera leval Hollywood ranguku ierukk...</td>\n",
              "    </tr>\n",
              "    <tr>\n",
              "      <th>12591</th>\n",
              "      <td>Rip  Sr Prabhu punda mavan... Ne theru Kodi th...</td>\n",
              "    </tr>\n",
              "    <tr>\n",
              "      <th>12592</th>\n",
              "      <td>Trailer pudichuruku nu solluravunga hit like..</td>\n",
              "    </tr>\n",
              "    <tr>\n",
              "      <th>12593</th>\n",
              "      <td>Oruthar mela viswasam kaatta yen inoruthara as...</td>\n",
              "    </tr>\n",
              "    <tr>\n",
              "      <th>12594</th>\n",
              "      <td>Dhanush fans     like here</td>\n",
              "    </tr>\n",
              "  </tbody>\n",
              "</table>\n",
              "<p>12595 rows × 1 columns</p>\n",
              "</div>\n",
              "      <button class=\"colab-df-convert\" onclick=\"convertToInteractive('df-eaf11e75-c475-41bc-85b2-6fb65146d644')\"\n",
              "              title=\"Convert this dataframe to an interactive table.\"\n",
              "              style=\"display:none;\">\n",
              "\n",
              "  <svg xmlns=\"http://www.w3.org/2000/svg\" height=\"24px\"viewBox=\"0 0 24 24\"\n",
              "       width=\"24px\">\n",
              "    <path d=\"M0 0h24v24H0V0z\" fill=\"none\"/>\n",
              "    <path d=\"M18.56 5.44l.94 2.06.94-2.06 2.06-.94-2.06-.94-.94-2.06-.94 2.06-2.06.94zm-11 1L8.5 8.5l.94-2.06 2.06-.94-2.06-.94L8.5 2.5l-.94 2.06-2.06.94zm10 10l.94 2.06.94-2.06 2.06-.94-2.06-.94-.94-2.06-.94 2.06-2.06.94z\"/><path d=\"M17.41 7.96l-1.37-1.37c-.4-.4-.92-.59-1.43-.59-.52 0-1.04.2-1.43.59L10.3 9.45l-7.72 7.72c-.78.78-.78 2.05 0 2.83L4 21.41c.39.39.9.59 1.41.59.51 0 1.02-.2 1.41-.59l7.78-7.78 2.81-2.81c.8-.78.8-2.07 0-2.86zM5.41 20L4 18.59l7.72-7.72 1.47 1.35L5.41 20z\"/>\n",
              "  </svg>\n",
              "      </button>\n",
              "\n",
              "\n",
              "\n",
              "    <div id=\"df-38a7e78d-f1c2-43d3-9546-38dc906e543a\">\n",
              "      <button class=\"colab-df-quickchart\" onclick=\"quickchart('df-38a7e78d-f1c2-43d3-9546-38dc906e543a')\"\n",
              "              title=\"Suggest charts.\"\n",
              "              style=\"display:none;\">\n",
              "\n",
              "<svg xmlns=\"http://www.w3.org/2000/svg\" height=\"24px\"viewBox=\"0 0 24 24\"\n",
              "     width=\"24px\">\n",
              "    <g>\n",
              "        <path d=\"M19 3H5c-1.1 0-2 .9-2 2v14c0 1.1.9 2 2 2h14c1.1 0 2-.9 2-2V5c0-1.1-.9-2-2-2zM9 17H7v-7h2v7zm4 0h-2V7h2v10zm4 0h-2v-4h2v4z\"/>\n",
              "    </g>\n",
              "</svg>\n",
              "      </button>\n",
              "    </div>\n",
              "\n",
              "<style>\n",
              "  .colab-df-quickchart {\n",
              "    background-color: #E8F0FE;\n",
              "    border: none;\n",
              "    border-radius: 50%;\n",
              "    cursor: pointer;\n",
              "    display: none;\n",
              "    fill: #1967D2;\n",
              "    height: 32px;\n",
              "    padding: 0 0 0 0;\n",
              "    width: 32px;\n",
              "  }\n",
              "\n",
              "  .colab-df-quickchart:hover {\n",
              "    background-color: #E2EBFA;\n",
              "    box-shadow: 0px 1px 2px rgba(60, 64, 67, 0.3), 0px 1px 3px 1px rgba(60, 64, 67, 0.15);\n",
              "    fill: #174EA6;\n",
              "  }\n",
              "\n",
              "  [theme=dark] .colab-df-quickchart {\n",
              "    background-color: #3B4455;\n",
              "    fill: #D2E3FC;\n",
              "  }\n",
              "\n",
              "  [theme=dark] .colab-df-quickchart:hover {\n",
              "    background-color: #434B5C;\n",
              "    box-shadow: 0px 1px 3px 1px rgba(0, 0, 0, 0.15);\n",
              "    filter: drop-shadow(0px 1px 2px rgba(0, 0, 0, 0.3));\n",
              "    fill: #FFFFFF;\n",
              "  }\n",
              "</style>\n",
              "\n",
              "    <script>\n",
              "      async function quickchart(key) {\n",
              "        const containerElement = document.querySelector('#' + key);\n",
              "        const charts = await google.colab.kernel.invokeFunction(\n",
              "            'suggestCharts', [key], {});\n",
              "      }\n",
              "    </script>\n",
              "\n",
              "      <script>\n",
              "\n",
              "function displayQuickchartButton(domScope) {\n",
              "  let quickchartButtonEl =\n",
              "    domScope.querySelector('#df-38a7e78d-f1c2-43d3-9546-38dc906e543a button.colab-df-quickchart');\n",
              "  quickchartButtonEl.style.display =\n",
              "    google.colab.kernel.accessAllowed ? 'block' : 'none';\n",
              "}\n",
              "\n",
              "        displayQuickchartButton(document);\n",
              "      </script>\n",
              "      <style>\n",
              "    .colab-df-container {\n",
              "      display:flex;\n",
              "      flex-wrap:wrap;\n",
              "      gap: 12px;\n",
              "    }\n",
              "\n",
              "    .colab-df-convert {\n",
              "      background-color: #E8F0FE;\n",
              "      border: none;\n",
              "      border-radius: 50%;\n",
              "      cursor: pointer;\n",
              "      display: none;\n",
              "      fill: #1967D2;\n",
              "      height: 32px;\n",
              "      padding: 0 0 0 0;\n",
              "      width: 32px;\n",
              "    }\n",
              "\n",
              "    .colab-df-convert:hover {\n",
              "      background-color: #E2EBFA;\n",
              "      box-shadow: 0px 1px 2px rgba(60, 64, 67, 0.3), 0px 1px 3px 1px rgba(60, 64, 67, 0.15);\n",
              "      fill: #174EA6;\n",
              "    }\n",
              "\n",
              "    [theme=dark] .colab-df-convert {\n",
              "      background-color: #3B4455;\n",
              "      fill: #D2E3FC;\n",
              "    }\n",
              "\n",
              "    [theme=dark] .colab-df-convert:hover {\n",
              "      background-color: #434B5C;\n",
              "      box-shadow: 0px 1px 3px 1px rgba(0, 0, 0, 0.15);\n",
              "      filter: drop-shadow(0px 1px 2px rgba(0, 0, 0, 0.3));\n",
              "      fill: #FFFFFF;\n",
              "    }\n",
              "  </style>\n",
              "\n",
              "      <script>\n",
              "        const buttonEl =\n",
              "          document.querySelector('#df-eaf11e75-c475-41bc-85b2-6fb65146d644 button.colab-df-convert');\n",
              "        buttonEl.style.display =\n",
              "          google.colab.kernel.accessAllowed ? 'block' : 'none';\n",
              "\n",
              "        async function convertToInteractive(key) {\n",
              "          const element = document.querySelector('#df-eaf11e75-c475-41bc-85b2-6fb65146d644');\n",
              "          const dataTable =\n",
              "            await google.colab.kernel.invokeFunction('convertToInteractive',\n",
              "                                                     [key], {});\n",
              "          if (!dataTable) return;\n",
              "\n",
              "          const docLinkHtml = 'Like what you see? Visit the ' +\n",
              "            '<a target=\"_blank\" href=https://colab.research.google.com/notebooks/data_table.ipynb>data table notebook</a>'\n",
              "            + ' to learn more about interactive tables.';\n",
              "          element.innerHTML = '';\n",
              "          dataTable['output_type'] = 'display_data';\n",
              "          await google.colab.output.renderOutput(dataTable, element);\n",
              "          const docLink = document.createElement('div');\n",
              "          docLink.innerHTML = docLinkHtml;\n",
              "          element.appendChild(docLink);\n",
              "        }\n",
              "      </script>\n",
              "    </div>\n",
              "  </div>\n"
            ]
          },
          "metadata": {},
          "execution_count": 4
        }
      ]
    },
    {
      "cell_type": "code",
      "source": [
        "labels"
      ],
      "metadata": {
        "id": "L3qblE3FGUBR",
        "outputId": "6361c727-d1b4-4ed1-f72e-19778db2f56d",
        "colab": {
          "base_uri": "https://localhost:8080/",
          "height": 423
        }
      },
      "execution_count": null,
      "outputs": [
        {
          "output_type": "execute_result",
          "data": {
            "text/plain": [
              "             category\n",
              "0       unknown_state\n",
              "1       unknown_state\n",
              "2       unknown_state\n",
              "3       unknown_state\n",
              "4       unknown_state\n",
              "...               ...\n",
              "12590  Mixed_feelings\n",
              "12591  Mixed_feelings\n",
              "12592  Mixed_feelings\n",
              "12593  Mixed_feelings\n",
              "12594  Mixed_feelings\n",
              "\n",
              "[12595 rows x 1 columns]"
            ],
            "text/html": [
              "\n",
              "\n",
              "  <div id=\"df-d43e0053-05a8-4ac9-8a08-0f53856a0fbd\">\n",
              "    <div class=\"colab-df-container\">\n",
              "      <div>\n",
              "<style scoped>\n",
              "    .dataframe tbody tr th:only-of-type {\n",
              "        vertical-align: middle;\n",
              "    }\n",
              "\n",
              "    .dataframe tbody tr th {\n",
              "        vertical-align: top;\n",
              "    }\n",
              "\n",
              "    .dataframe thead th {\n",
              "        text-align: right;\n",
              "    }\n",
              "</style>\n",
              "<table border=\"1\" class=\"dataframe\">\n",
              "  <thead>\n",
              "    <tr style=\"text-align: right;\">\n",
              "      <th></th>\n",
              "      <th>category</th>\n",
              "    </tr>\n",
              "  </thead>\n",
              "  <tbody>\n",
              "    <tr>\n",
              "      <th>0</th>\n",
              "      <td>unknown_state</td>\n",
              "    </tr>\n",
              "    <tr>\n",
              "      <th>1</th>\n",
              "      <td>unknown_state</td>\n",
              "    </tr>\n",
              "    <tr>\n",
              "      <th>2</th>\n",
              "      <td>unknown_state</td>\n",
              "    </tr>\n",
              "    <tr>\n",
              "      <th>3</th>\n",
              "      <td>unknown_state</td>\n",
              "    </tr>\n",
              "    <tr>\n",
              "      <th>4</th>\n",
              "      <td>unknown_state</td>\n",
              "    </tr>\n",
              "    <tr>\n",
              "      <th>...</th>\n",
              "      <td>...</td>\n",
              "    </tr>\n",
              "    <tr>\n",
              "      <th>12590</th>\n",
              "      <td>Mixed_feelings</td>\n",
              "    </tr>\n",
              "    <tr>\n",
              "      <th>12591</th>\n",
              "      <td>Mixed_feelings</td>\n",
              "    </tr>\n",
              "    <tr>\n",
              "      <th>12592</th>\n",
              "      <td>Mixed_feelings</td>\n",
              "    </tr>\n",
              "    <tr>\n",
              "      <th>12593</th>\n",
              "      <td>Mixed_feelings</td>\n",
              "    </tr>\n",
              "    <tr>\n",
              "      <th>12594</th>\n",
              "      <td>Mixed_feelings</td>\n",
              "    </tr>\n",
              "  </tbody>\n",
              "</table>\n",
              "<p>12595 rows × 1 columns</p>\n",
              "</div>\n",
              "      <button class=\"colab-df-convert\" onclick=\"convertToInteractive('df-d43e0053-05a8-4ac9-8a08-0f53856a0fbd')\"\n",
              "              title=\"Convert this dataframe to an interactive table.\"\n",
              "              style=\"display:none;\">\n",
              "\n",
              "  <svg xmlns=\"http://www.w3.org/2000/svg\" height=\"24px\"viewBox=\"0 0 24 24\"\n",
              "       width=\"24px\">\n",
              "    <path d=\"M0 0h24v24H0V0z\" fill=\"none\"/>\n",
              "    <path d=\"M18.56 5.44l.94 2.06.94-2.06 2.06-.94-2.06-.94-.94-2.06-.94 2.06-2.06.94zm-11 1L8.5 8.5l.94-2.06 2.06-.94-2.06-.94L8.5 2.5l-.94 2.06-2.06.94zm10 10l.94 2.06.94-2.06 2.06-.94-2.06-.94-.94-2.06-.94 2.06-2.06.94z\"/><path d=\"M17.41 7.96l-1.37-1.37c-.4-.4-.92-.59-1.43-.59-.52 0-1.04.2-1.43.59L10.3 9.45l-7.72 7.72c-.78.78-.78 2.05 0 2.83L4 21.41c.39.39.9.59 1.41.59.51 0 1.02-.2 1.41-.59l7.78-7.78 2.81-2.81c.8-.78.8-2.07 0-2.86zM5.41 20L4 18.59l7.72-7.72 1.47 1.35L5.41 20z\"/>\n",
              "  </svg>\n",
              "      </button>\n",
              "\n",
              "\n",
              "\n",
              "    <div id=\"df-647b411c-17ec-46e8-8d9f-6eea3e3def23\">\n",
              "      <button class=\"colab-df-quickchart\" onclick=\"quickchart('df-647b411c-17ec-46e8-8d9f-6eea3e3def23')\"\n",
              "              title=\"Suggest charts.\"\n",
              "              style=\"display:none;\">\n",
              "\n",
              "<svg xmlns=\"http://www.w3.org/2000/svg\" height=\"24px\"viewBox=\"0 0 24 24\"\n",
              "     width=\"24px\">\n",
              "    <g>\n",
              "        <path d=\"M19 3H5c-1.1 0-2 .9-2 2v14c0 1.1.9 2 2 2h14c1.1 0 2-.9 2-2V5c0-1.1-.9-2-2-2zM9 17H7v-7h2v7zm4 0h-2V7h2v10zm4 0h-2v-4h2v4z\"/>\n",
              "    </g>\n",
              "</svg>\n",
              "      </button>\n",
              "    </div>\n",
              "\n",
              "<style>\n",
              "  .colab-df-quickchart {\n",
              "    background-color: #E8F0FE;\n",
              "    border: none;\n",
              "    border-radius: 50%;\n",
              "    cursor: pointer;\n",
              "    display: none;\n",
              "    fill: #1967D2;\n",
              "    height: 32px;\n",
              "    padding: 0 0 0 0;\n",
              "    width: 32px;\n",
              "  }\n",
              "\n",
              "  .colab-df-quickchart:hover {\n",
              "    background-color: #E2EBFA;\n",
              "    box-shadow: 0px 1px 2px rgba(60, 64, 67, 0.3), 0px 1px 3px 1px rgba(60, 64, 67, 0.15);\n",
              "    fill: #174EA6;\n",
              "  }\n",
              "\n",
              "  [theme=dark] .colab-df-quickchart {\n",
              "    background-color: #3B4455;\n",
              "    fill: #D2E3FC;\n",
              "  }\n",
              "\n",
              "  [theme=dark] .colab-df-quickchart:hover {\n",
              "    background-color: #434B5C;\n",
              "    box-shadow: 0px 1px 3px 1px rgba(0, 0, 0, 0.15);\n",
              "    filter: drop-shadow(0px 1px 2px rgba(0, 0, 0, 0.3));\n",
              "    fill: #FFFFFF;\n",
              "  }\n",
              "</style>\n",
              "\n",
              "    <script>\n",
              "      async function quickchart(key) {\n",
              "        const containerElement = document.querySelector('#' + key);\n",
              "        const charts = await google.colab.kernel.invokeFunction(\n",
              "            'suggestCharts', [key], {});\n",
              "      }\n",
              "    </script>\n",
              "\n",
              "      <script>\n",
              "\n",
              "function displayQuickchartButton(domScope) {\n",
              "  let quickchartButtonEl =\n",
              "    domScope.querySelector('#df-647b411c-17ec-46e8-8d9f-6eea3e3def23 button.colab-df-quickchart');\n",
              "  quickchartButtonEl.style.display =\n",
              "    google.colab.kernel.accessAllowed ? 'block' : 'none';\n",
              "}\n",
              "\n",
              "        displayQuickchartButton(document);\n",
              "      </script>\n",
              "      <style>\n",
              "    .colab-df-container {\n",
              "      display:flex;\n",
              "      flex-wrap:wrap;\n",
              "      gap: 12px;\n",
              "    }\n",
              "\n",
              "    .colab-df-convert {\n",
              "      background-color: #E8F0FE;\n",
              "      border: none;\n",
              "      border-radius: 50%;\n",
              "      cursor: pointer;\n",
              "      display: none;\n",
              "      fill: #1967D2;\n",
              "      height: 32px;\n",
              "      padding: 0 0 0 0;\n",
              "      width: 32px;\n",
              "    }\n",
              "\n",
              "    .colab-df-convert:hover {\n",
              "      background-color: #E2EBFA;\n",
              "      box-shadow: 0px 1px 2px rgba(60, 64, 67, 0.3), 0px 1px 3px 1px rgba(60, 64, 67, 0.15);\n",
              "      fill: #174EA6;\n",
              "    }\n",
              "\n",
              "    [theme=dark] .colab-df-convert {\n",
              "      background-color: #3B4455;\n",
              "      fill: #D2E3FC;\n",
              "    }\n",
              "\n",
              "    [theme=dark] .colab-df-convert:hover {\n",
              "      background-color: #434B5C;\n",
              "      box-shadow: 0px 1px 3px 1px rgba(0, 0, 0, 0.15);\n",
              "      filter: drop-shadow(0px 1px 2px rgba(0, 0, 0, 0.3));\n",
              "      fill: #FFFFFF;\n",
              "    }\n",
              "  </style>\n",
              "\n",
              "      <script>\n",
              "        const buttonEl =\n",
              "          document.querySelector('#df-d43e0053-05a8-4ac9-8a08-0f53856a0fbd button.colab-df-convert');\n",
              "        buttonEl.style.display =\n",
              "          google.colab.kernel.accessAllowed ? 'block' : 'none';\n",
              "\n",
              "        async function convertToInteractive(key) {\n",
              "          const element = document.querySelector('#df-d43e0053-05a8-4ac9-8a08-0f53856a0fbd');\n",
              "          const dataTable =\n",
              "            await google.colab.kernel.invokeFunction('convertToInteractive',\n",
              "                                                     [key], {});\n",
              "          if (!dataTable) return;\n",
              "\n",
              "          const docLinkHtml = 'Like what you see? Visit the ' +\n",
              "            '<a target=\"_blank\" href=https://colab.research.google.com/notebooks/data_table.ipynb>data table notebook</a>'\n",
              "            + ' to learn more about interactive tables.';\n",
              "          element.innerHTML = '';\n",
              "          dataTable['output_type'] = 'display_data';\n",
              "          await google.colab.output.renderOutput(dataTable, element);\n",
              "          const docLink = document.createElement('div');\n",
              "          docLink.innerHTML = docLinkHtml;\n",
              "          element.appendChild(docLink);\n",
              "        }\n",
              "      </script>\n",
              "    </div>\n",
              "  </div>\n"
            ]
          },
          "metadata": {},
          "execution_count": 5
        }
      ]
    },
    {
      "cell_type": "code",
      "source": [
        "import re\n",
        "import nltk\n",
        "nltk.download('punkt', 'stopwords')\n",
        "from nltk.corpus import stopwords\n",
        "from nltk.tokenize import word_tokenize\n",
        "from nltk.stem.lancaster import LancasterStemmer\n",
        "lancaster_stemmer = LancasterStemmer()\n",
        "from nltk.stem import WordNetLemmatizer\n",
        "wordnet_lemmatizer = WordNetLemmatizer()"
      ],
      "metadata": {
        "id": "TWDtaRnQ90wl",
        "colab": {
          "base_uri": "https://localhost:8080/"
        },
        "outputId": "1550a3fd-4a78-4a8c-fdbe-30813d01cbed"
      },
      "execution_count": null,
      "outputs": [
        {
          "output_type": "stream",
          "name": "stderr",
          "text": [
            "[nltk_data] Downloading package punkt to stopwords...\n",
            "[nltk_data]   Unzipping tokenizers/punkt.zip.\n"
          ]
        }
      ]
    },
    {
      "cell_type": "code",
      "source": [
        "def take_data_to_shower(tweet):\n",
        "    tweet=str(tweet)\n",
        "\n",
        "    noises = ['URL', '@USER', '\\'ve', 'n\\'t', '\\'s', '\\'m']\n",
        "\n",
        "    for noise in noises:\n",
        "        tweet = tweet.replace(noise, '')\n",
        "\n",
        "    return re.sub(r'[^a-zA-Z]', ' ', tweet)"
      ],
      "metadata": {
        "id": "2zZV9X_tArD1"
      },
      "execution_count": null,
      "outputs": []
    },
    {
      "cell_type": "code",
      "source": [
        "def remove_emoticon(text):\n",
        "        text=str(text)\n",
        "\n",
        "        emoji_pattern = re.compile(\"[\"\n",
        "                           u\"\\U0001F600-\\U0001F64F\"  # emoticons\n",
        "                           u\"\\U0001F300-\\U0001F5FF\"  # symbols & pictographs\n",
        "                           u\"\\U0001F680-\\U0001F6FF\"  # transport & map symbols\n",
        "                           u\"\\U0001F1E0-\\U0001F1FF\"  # flags\n",
        "                           u\"\\U00002702-\\U000027B0\"\n",
        "                           u\"\\U000024C2-\\U0001F251\"\n",
        "                           \"]+\", flags=re.UNICODE)\n",
        "        return emoji_pattern.sub(r'', text)"
      ],
      "metadata": {
        "id": "p5UQk7s1BG4m"
      },
      "execution_count": null,
      "outputs": []
    },
    {
      "cell_type": "code",
      "source": [
        " def remove_punc(text):\n",
        "    text=str(text)\n",
        "    table = str.maketrans(\"\", \"\", string.punctuation)\n",
        "    return text.translate(table)"
      ],
      "metadata": {
        "id": "lPOCSYXoVwNG"
      },
      "execution_count": null,
      "outputs": []
    },
    {
      "cell_type": "code",
      "source": [
        "def tokenize(tweet):\n",
        "   tweet=str(tweet)\n",
        "\n",
        "   lower_tweet = tweet.lower()\n",
        "   return word_tokenize(lower_tweet)"
      ],
      "metadata": {
        "id": "_GGhdI1j-Rg3"
      },
      "execution_count": null,
      "outputs": []
    },
    {
      "cell_type": "code",
      "source": [
        "def remove_stop_words(tokens):\n",
        "   clean_tokens = []\n",
        "   newStopWords = ['rt', 'mkr', 'didn', 'bc', 'n', 'm', 'im', 'll', 'y', 've', 'u', 'ur', 'don', 't', 's', 'co','oru', 'enru', 'matrum', 'indha', 'idhu', 'enru', 'kondu', 'enpathu', 'pala', 'aagum', 'allathu', 'avar', 'naan', 'ullu', 'andha', 'ivar', 'ena', 'muthal', 'enna', 'irundhu', 'sila', 'en', 'pontu', 'venṭum', 'vandhu', 'ithan', 'athu', 'avan', 'thaan', 'palarum', 'ennum', 'melum', 'pinar', 'kondu', 'irukkum', 'thanathu', 'ullathu', 'pothu', 'enrum', 'athan', 'than', 'piragu', 'avargal', 'varai', 'aval', 'nee', 'aagiyathu', 'ullana', 'vandha', 'irundh', 'migavum', 'inggu', 'meethu', 'or', 'ivai', 'indha', 'ithaṉaḷ', 'patri', 'varum', 'veṟu', 'iru', 'ithil', 'pol', 'ippothu', 'avarathu', 'maṭṭum', 'indha', 'enuṁ', 'mel', 'pin', 'cernta', 'ākiyōr', 'enakku', 'innum', 'andha', 'anṟu', 'oṟe', 'miga', 'angu', 'palvēru', 'viṭṭu', 'perum', 'athai', 'paṟṟiya', 'uṉ', 'athik', 'andhak', 'pēr', 'indhaṉāḷ', 'avai', 'athe', 'ēn', 'muṟai', 'yār', 'eṉappaṭum', 'ellām', 'maṭṭumē', 'ingkē', 'angkē', 'iṭam', 'iṭattil', 'athil', 'nām', 'atharku', 'eṉavē', 'piṟa', 'siṟu', 'maṟṟa', 'viṭa', 'endha', 'eṉavum', 'eṉappuṭum', 'eṉiṉum', 'aṭutta', 'ithanai', 'ithai', 'koḷḷa', 'indhath', 'ithaṉāl', 'athāl', 'thavira', 'pol', 'varail', 'caṟṟu', 'eṉak']\n",
        "   stopWords = stopwords.words('english')\n",
        "   stopWords.append(newStopWords)\n",
        "  #  print(stopWords)\n",
        "\n",
        "   for token in tokens:\n",
        "       if token not in stopWords:\n",
        "           if token.replace(' ', '') != '':\n",
        "               if len(token) > 1:\n",
        "                   clean_tokens.append(token)\n",
        "   return clean_tokens"
      ],
      "metadata": {
        "id": "hWdcRG9K-bwe"
      },
      "execution_count": null,
      "outputs": []
    },
    {
      "cell_type": "code",
      "source": [
        "def stem_and_lem(tokens):\n",
        "   clean_tokens = []\n",
        "   for token in tokens:\n",
        "       token = wordnet_lemmatizer.lemmatize(token)\n",
        "       token = lancaster_stemmer.stem(token)\n",
        "       if len(token) > 1:\n",
        "           clean_tokens.append(token)\n",
        "   return clean_tokens\n"
      ],
      "metadata": {
        "id": "kWUiBV1G-euX"
      },
      "execution_count": null,
      "outputs": []
    },
    {
      "cell_type": "code",
      "source": [
        "import nltk\n",
        "nltk.download('punkt')\n",
        "nltk.download('stopwords')\n",
        "nltk.download('wordnet')"
      ],
      "metadata": {
        "colab": {
          "base_uri": "https://localhost:8080/"
        },
        "id": "4RtsST1CJXX_",
        "outputId": "cd439048-37cd-40bc-f714-acdcc1bb4f4b"
      },
      "execution_count": null,
      "outputs": [
        {
          "output_type": "stream",
          "name": "stderr",
          "text": [
            "[nltk_data] Downloading package punkt to /root/nltk_data...\n",
            "[nltk_data]   Unzipping tokenizers/punkt.zip.\n",
            "[nltk_data] Downloading package stopwords to /root/nltk_data...\n",
            "[nltk_data]   Unzipping corpora/stopwords.zip.\n",
            "[nltk_data] Downloading package wordnet to /root/nltk_data...\n"
          ]
        },
        {
          "output_type": "execute_result",
          "data": {
            "text/plain": [
              "True"
            ]
          },
          "metadata": {},
          "execution_count": 13
        }
      ]
    },
    {
      "cell_type": "code",
      "source": [
        "##EMBEDDING##\n",
        "clean_texts = copy.deepcopy(text)\n",
        "tqdm.pandas(desc=\"Cleaning Data Phase I...\")\n",
        "clean_texts['text'] = text['text'].progress_apply(take_data_to_shower)\n",
        "\n",
        "tqdm.pandas(desc=\"removing emoji...\")\n",
        "clean_texts['text'] = text['text'].progress_apply(remove_emoticon)\n",
        "\n",
        "\n",
        "tqdm.pandas(desc=\"removing punctuation...\")\n",
        "clean_texts['text'] = text['text'].progress_apply(remove_punc)\n",
        "\n",
        "\n",
        "\n",
        "tqdm.pandas(desc=\"Tokenizing Data...\")\n",
        "clean_texts['tokens'] = clean_texts['text'].progress_apply(tokenize)\n",
        "\n",
        "tqdm.pandas(desc=\"Cleaning Data Phase II...\")\n",
        "clean_texts['tokens'] = clean_texts['tokens'].progress_apply(remove_stop_words)\n",
        "\n",
        "tqdm.pandas(desc=\"Stemming And Lemmatizing\")\n",
        "clean_texts['tokens'] = clean_texts['tokens'].progress_apply(stem_and_lem)\n",
        "\n",
        "\n",
        "\n",
        "text_vector = clean_texts['tokens'].tolist()"
      ],
      "metadata": {
        "id": "fItdt2OE-k0I",
        "colab": {
          "base_uri": "https://localhost:8080/"
        },
        "outputId": "a3c8477f-f355-46a8-ede1-a03fb130a025"
      },
      "execution_count": null,
      "outputs": [
        {
          "output_type": "stream",
          "name": "stderr",
          "text": [
            "Cleaning Data Phase I...: 100%|██████████| 12595/12595 [00:00<00:00, 72425.74it/s]\n",
            "removing emoji...: 100%|██████████| 12595/12595 [00:00<00:00, 115945.11it/s]\n",
            "removing punctuation...: 100%|██████████| 12595/12595 [00:00<00:00, 97678.30it/s] \n",
            "Tokenizing Data...: 100%|██████████| 12595/12595 [00:02<00:00, 6223.86it/s]\n",
            "Cleaning Data Phase II...: 100%|██████████| 12595/12595 [00:01<00:00, 7226.02it/s]\n",
            "Stemming And Lemmatizing: 100%|██████████| 12595/12595 [00:03<00:00, 3608.27it/s]\n"
          ]
        }
      ]
    },
    {
      "cell_type": "code",
      "source": [
        "\n",
        "from sklearn.feature_extraction.text import TfidfVectorizer\n",
        "\n",
        "def tfid(text_vector):\n",
        "    vectorizer = TfidfVectorizer()\n",
        "    untokenized_data =[' '.join(tweet) for tweet in tqdm(text_vector, \"Vectorizing...\")]\n",
        "    vectorizer = vectorizer.fit(untokenized_data)\n",
        "    vectors = vectorizer.transform(untokenized_data).toarray()\n",
        "    return vectors\n",
        "\n",
        "def get_vectors(vectors, labels, keyword):\n",
        "    if len(vectors) != len(labels):\n",
        "        print(\"Unmatching sizes!\")\n",
        "        return\n",
        "    result = list()\n",
        "    for vector, label in zip(vectors, labels):\n",
        "        if label == keyword:\n",
        "            result.append(vector)\n",
        "    return result"
      ],
      "metadata": {
        "id": "df75IZ4i-o-s"
      },
      "execution_count": null,
      "outputs": []
    },
    {
      "cell_type": "code",
      "source": [
        "vectors_a = tfid(text_vector) # Numerical Vectors A\n",
        "labels_a = labels['category'].values.tolist() # Subtask A Labels"
      ],
      "metadata": {
        "id": "F1o2yKYh-ujK",
        "colab": {
          "base_uri": "https://localhost:8080/"
        },
        "outputId": "b0df245a-76b6-4834-a975-8f78ff0aaa5a"
      },
      "execution_count": null,
      "outputs": [
        {
          "output_type": "stream",
          "name": "stderr",
          "text": [
            "Vectorizing...: 100%|██████████| 12595/12595 [00:00<00:00, 593711.47it/s]\n"
          ]
        }
      ]
    },
    {
      "cell_type": "code",
      "source": [
        "vectors_a"
      ],
      "metadata": {
        "colab": {
          "base_uri": "https://localhost:8080/"
        },
        "id": "oOT380Bv70Ym",
        "outputId": "4b7b3691-884c-48e8-98db-3f2c3c340636"
      },
      "execution_count": null,
      "outputs": [
        {
          "output_type": "execute_result",
          "data": {
            "text/plain": [
              "array([[0., 0., 0., ..., 0., 0., 0.],\n",
              "       [0., 0., 0., ..., 0., 0., 0.],\n",
              "       [0., 0., 0., ..., 0., 0., 0.],\n",
              "       ...,\n",
              "       [0., 0., 0., ..., 0., 0., 0.],\n",
              "       [0., 0., 0., ..., 0., 0., 0.],\n",
              "       [0., 0., 0., ..., 0., 0., 0.]])"
            ]
          },
          "metadata": {},
          "execution_count": 18
        }
      ]
    },
    {
      "cell_type": "code",
      "source": [
        "##CLASSIFING##\n",
        "\n",
        "from sklearn.model_selection import train_test_split\n",
        "from sklearn.neighbors import KNeighborsClassifier\n",
        "from sklearn.svm import SVC\n",
        "from sklearn.naive_bayes import GaussianNB, MultinomialNB\n",
        "from sklearn.tree import DecisionTreeClassifier\n",
        "from sklearn.ensemble import RandomForestClassifier\n",
        "from sklearn.metrics import accuracy_score, confusion_matrix\n",
        "from sklearn.model_selection import GridSearchCV\n",
        "from sklearn.linear_model import LogisticRegression"
      ],
      "metadata": {
        "id": "zhYb6i96-41v"
      },
      "execution_count": null,
      "outputs": []
    },
    {
      "cell_type": "code",
      "source": [
        "import xgboost as xgb\n",
        "from xgboost import XGBClassifier\n",
        "from sklearn.model_selection import StratifiedKFold\n",
        "from sklearn.ensemble import AdaBoostClassifier\n",
        "from sklearn.ensemble import VotingClassifier"
      ],
      "metadata": {
        "id": "eEq0HF1pApfP"
      },
      "execution_count": null,
      "outputs": []
    },
    {
      "cell_type": "code",
      "source": [
        "def classify(vectors, labels, type=\"DT\"):\n",
        "\n",
        "\n",
        "  # Random Splitting With Ratio 3 : 1\n",
        "  train_vectors, test_vectors, train_labels, test_labels = train_test_split(vectors, labels, random_state=5, test_size=0.2)\n",
        "\n",
        "  # Initialize Model\n",
        "  classifier = None\n",
        "  if(type==\"MNB\"):\n",
        "    classifier = MultinomialNB(alpha=0.7)\n",
        "    classifier.fit(train_vectors, train_labels)\n",
        "  elif(type==\"KNN\"):\n",
        "    classifier = KNeighborsClassifier(n_jobs=4)\n",
        "    params = {'n_neighbors': [3], 'weights':['uniform', 'distance']}\n",
        "    classifier = GridSearchCV(classifier, params, cv=3, n_jobs=4)\n",
        "    classifier.fit(train_vectors, train_labels)\n",
        "    classifier = classifier.best_estimator_\n",
        "  elif(type==\"SVM\"):\n",
        "    classifier = SVC()\n",
        "    classifier = GridSearchCV(classifier, {'C':[0.001, 0.01, 0.1, 1, 10]}, cv=3, n_jobs=4)\n",
        "    classifier.fit(train_vectors, train_labels)\n",
        "    classifier = classifier.best_estimator_\n",
        "  elif(type==\"DT\"):\n",
        "    classifier = DecisionTreeClassifier()\n",
        "    #params = {'criterion':['gini','entropy']}\n",
        "    #classifier = GridSearchCV(classifier, params, cv=3, n_jobs=4)\n",
        "    classifier.fit(train_vectors, train_labels)\n",
        "    #classifier = classifier.best_estimator_\n",
        "  elif(type==\"RF\"):\n",
        "    classifier = RandomForestClassifier(max_depth=800, min_samples_split=5)\n",
        "    params = {'n_estimators': [n for n in range(50,200,50)], 'criterion':['gini','entropy'], }\n",
        "    classifier = GridSearchCV(classifier, params, cv=3, n_jobs=4)\n",
        "    classifier.fit(train_vectors, train_labels)\n",
        "    classifier = classifier.best_estimator_\n",
        "  elif(type==\"LR\"):\n",
        "    classifier = LogisticRegression(multi_class='auto', solver='newton-cg')\n",
        "    classifier = GridSearchCV(classifier, {\"C\":np.logspace(-3,3,7), \"penalty\":[\"l2\"]}, cv=3, n_jobs=4)\n",
        "    classifier.fit(train_vectors, train_labels)\n",
        "    classifier = classifier.best_estimator_\n",
        "  elif(type==\"XG\"):\n",
        "    classifier=XGBClassifier()\n",
        "    classifier.fit(train_vectors, train_labels)\n",
        "  elif(type==\"AD\"):\n",
        "    classifier=AdaBoostClassifier()\n",
        "    classifier.fit(train_vectors, train_labels)\n",
        "  elif(type==\"VE\"):\n",
        "    estimators = []\n",
        "    model1 = LogisticRegression()\n",
        "    estimators.append(('logistic', model1))\n",
        "    model2 = DecisionTreeClassifier()\n",
        "    estimators.append(('cart', model2))\n",
        "    classifier = VotingClassifier(estimators)\n",
        "    classifier.fit(train_vectors, train_labels)\n",
        "\n",
        "  else:\n",
        "    print(\"Wrong Classifier Type!\")\n",
        "    return\n",
        "\n",
        "  accuracy = accuracy_score(train_labels, classifier.predict(train_vectors))\n",
        "  print(\"Training Accuracy:\", accuracy)\n",
        "  test_predictions = classifier.predict(test_vectors)\n",
        "  accuracy = accuracy_score(test_labels, test_predictions)\n",
        "  print(\"Test Accuracy:\", accuracy)\n",
        "  print(\"Confusion Matrix:\", )\n",
        "  print(confusion_matrix(test_labels, test_predictions))\n",
        "  print(classification_report([i for i in test_labels],\n",
        "                        [i for i in test_predictions]))"
      ],
      "metadata": {
        "id": "pXjcnmDd_r23"
      },
      "execution_count": null,
      "outputs": []
    },
    {
      "cell_type": "code",
      "source": [
        "print(\"\\nBuilding Model SVM...\")\n",
        "classify(vectors_a, labels_a, \"SVM\") # {MNB, KNN, SVM, DT, RF, LR,XG,AD,VE}"
      ],
      "metadata": {
        "id": "t1QHQVCg_yU_"
      },
      "execution_count": null,
      "outputs": []
    },
    {
      "cell_type": "code",
      "source": [
        "print(\"\\nBuilding Model MNB...\")\n",
        "classify(vectors_a, labels_a, \"MNB\")"
      ],
      "metadata": {
        "id": "VlRx1aAn_4Nu"
      },
      "execution_count": null,
      "outputs": []
    },
    {
      "cell_type": "code",
      "source": [
        "print(\"\\nBuilding Model KNN...\")\n",
        "classify(vectors_a, labels_a, \"KNN\")\n"
      ],
      "metadata": {
        "id": "V9IQvyYQ_8r5",
        "colab": {
          "base_uri": "https://localhost:8080/"
        },
        "outputId": "1944282a-8a21-43aa-8eeb-d3370496d9cb"
      },
      "execution_count": null,
      "outputs": [
        {
          "output_type": "stream",
          "name": "stdout",
          "text": [
            "\n",
            "Building Model KNN...\n"
          ]
        }
      ]
    },
    {
      "cell_type": "code",
      "source": [
        "print(\"\\nBuilding Model DT...\")\n",
        "classify(vectors_a, labels_a, \"DT\")\n"
      ],
      "metadata": {
        "id": "hFpxqjdyABoZ",
        "colab": {
          "base_uri": "https://localhost:8080/"
        },
        "outputId": "25ab4bc9-f668-4997-d3d1-0c558953ab19"
      },
      "execution_count": null,
      "outputs": [
        {
          "output_type": "stream",
          "name": "stdout",
          "text": [
            "\n",
            "Building Model DT...\n",
            "Training Accuracy: 0.9970226280269948\n",
            "Test Accuracy: 0.6081778483525209\n",
            "Confusion Matrix:\n",
            "[[  34   32  200    6   13]\n",
            " [  29   61  214    6   14]\n",
            " [ 125  111 1379   28   35]\n",
            " [   4    2   38   39    2]\n",
            " [   9   10  105    4   19]]\n",
            "                precision    recall  f1-score   support\n",
            "\n",
            "Mixed_feelings       0.17      0.12      0.14       285\n",
            "      Negative       0.28      0.19      0.23       324\n",
            "      Positive       0.71      0.82      0.76      1678\n",
            "     not-Tamil       0.47      0.46      0.46        85\n",
            " unknown_state       0.23      0.13      0.17       147\n",
            "\n",
            "      accuracy                           0.61      2519\n",
            "     macro avg       0.37      0.34      0.35      2519\n",
            "  weighted avg       0.56      0.61      0.58      2519\n",
            "\n"
          ]
        }
      ]
    },
    {
      "cell_type": "code",
      "source": [
        "print(\"\\nBuilding Model RF...\")\n",
        "classify(vectors_a, labels_a, \"RF\")"
      ],
      "metadata": {
        "id": "jF3ndA_5AFiw"
      },
      "execution_count": null,
      "outputs": []
    },
    {
      "cell_type": "code",
      "source": [
        "print(\"\\nBuilding Model LR...\")\n",
        "classify(vectors_a, labels_a, \"LR\")"
      ],
      "metadata": {
        "id": "j9JoGilxAJy4",
        "colab": {
          "base_uri": "https://localhost:8080/"
        },
        "outputId": "bc213711-a960-40d8-9c34-e2f818d91c7c"
      },
      "execution_count": null,
      "outputs": [
        {
          "output_type": "stream",
          "name": "stdout",
          "text": [
            "\n",
            "Building Model LR...\n",
            "Training Accuracy: 0.7379912663755459\n",
            "Test Accuracy: 0.684795553791187\n",
            "Confusion Matrix:\n",
            "[[   0    4  280    1    0]\n",
            " [   1   30  288    2    3]\n",
            " [   3    7 1660    7    1]\n",
            " [   0    1   56   28    0]\n",
            " [   2    3  134    1    7]]\n",
            "                precision    recall  f1-score   support\n",
            "\n",
            "Mixed_feelings       0.00      0.00      0.00       285\n",
            "      Negative       0.67      0.09      0.16       324\n",
            "      Positive       0.69      0.99      0.81      1678\n",
            "     not-Tamil       0.72      0.33      0.45        85\n",
            " unknown_state       0.64      0.05      0.09       147\n",
            "\n",
            "      accuracy                           0.68      2519\n",
            "     macro avg       0.54      0.29      0.30      2519\n",
            "  weighted avg       0.60      0.68      0.58      2519\n",
            "\n"
          ]
        }
      ]
    },
    {
      "cell_type": "code",
      "source": [
        "print(\"\\nBuilding Model XGB...\")\n",
        "classify(vectors_a, labels_a, \"XG\")"
      ],
      "metadata": {
        "id": "5DgaGqzyBEbq"
      },
      "execution_count": null,
      "outputs": []
    },
    {
      "cell_type": "code",
      "source": [
        "print(\"\\nBuilding Model AD...\")\n",
        "classify(vectors_a, labels_a, \"AD\")"
      ],
      "metadata": {
        "id": "uAPKelMhBF3p"
      },
      "execution_count": null,
      "outputs": []
    },
    {
      "cell_type": "code",
      "source": [
        "print(\"\\nBuilding Model VE...\")\n",
        "classify(vectors_a, labels_a, \"VE\")"
      ],
      "metadata": {
        "id": "iyNsoYgbBMH9"
      },
      "execution_count": null,
      "outputs": []
    }
  ]
}