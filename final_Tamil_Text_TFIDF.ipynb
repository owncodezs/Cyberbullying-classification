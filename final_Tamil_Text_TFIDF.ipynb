{
  "nbformat": 4,
  "nbformat_minor": 0,
  "metadata": {
    "colab": {
      "provenance": [],
      "cell_execution_strategy": "setup"
    },
    "kernelspec": {
      "name": "python3",
      "display_name": "Python 3"
    },
    "language_info": {
      "name": "python"
    },
    "accelerator": "TPU"
  },
  "cells": [
    {
      "cell_type": "code",
      "execution_count": 1,
      "metadata": {
        "id": "dRmXBdcj9QIb"
      },
      "outputs": [],
      "source": [
        "import pandas as pd\n",
        "import numpy as np\n",
        "import string\n",
        "from nltk.corpus import stopwords\n",
        "import spacy\n",
        "from tqdm import tqdm\n",
        "import copy\n",
        "from sklearn.metrics import classification_report, confusion_matrix"
      ]
    },
    {
      "cell_type": "code",
      "source": [
        "!wget https://raw.githubusercontent.com/owncodezs/Cyberbullying-classification/main/Tamil/Test.csv\n",
        "!wget https://raw.githubusercontent.com/owncodezs/Cyberbullying-classification/main/Tamil/train.csv\n",
        "!wget https://raw.githubusercontent.com/Natkeeran/automated_tamil_text_classification/master/data/TamilNLP_TamilStopWords.txt\n",
        "!wget https://raw.githubusercontent.com/Natkeeran/automated_tamil_text_classification/master/data/custom_tamil_stop_words.txt\n"
      ],
      "metadata": {
        "id": "FbZILaWzF-Va",
        "colab": {
          "base_uri": "https://localhost:8080/"
        },
        "outputId": "3d11f4c9-3f87-4383-f6ac-0a748129d7e8"
      },
      "execution_count": 2,
      "outputs": [
        {
          "output_type": "stream",
          "name": "stdout",
          "text": [
            "--2023-08-18 18:13:49--  https://raw.githubusercontent.com/owncodezs/Cyberbullying-classification/main/Tamil/Test.csv\n",
            "Resolving raw.githubusercontent.com (raw.githubusercontent.com)... 185.199.108.133, 185.199.109.133, 185.199.110.133, ...\n",
            "Connecting to raw.githubusercontent.com (raw.githubusercontent.com)|185.199.108.133|:443... connected.\n",
            "HTTP request sent, awaiting response... 200 OK\n",
            "Length: 217900 (213K) [text/plain]\n",
            "Saving to: ‘Test.csv’\n",
            "\n",
            "Test.csv            100%[===================>] 212.79K  --.-KB/s    in 0.02s   \n",
            "\n",
            "2023-08-18 18:13:50 (8.42 MB/s) - ‘Test.csv’ saved [217900/217900]\n",
            "\n",
            "--2023-08-18 18:13:50--  https://raw.githubusercontent.com/owncodezs/Cyberbullying-classification/main/Tamil/train.csv\n",
            "Resolving raw.githubusercontent.com (raw.githubusercontent.com)... 185.199.111.133, 185.199.108.133, 185.199.109.133, ...\n",
            "Connecting to raw.githubusercontent.com (raw.githubusercontent.com)|185.199.111.133|:443... connected.\n",
            "HTTP request sent, awaiting response... 200 OK\n",
            "Length: 1859417 (1.8M) [text/plain]\n",
            "Saving to: ‘train.csv’\n",
            "\n",
            "train.csv           100%[===================>]   1.77M  --.-KB/s    in 0.06s   \n",
            "\n",
            "2023-08-18 18:13:50 (30.8 MB/s) - ‘train.csv’ saved [1859417/1859417]\n",
            "\n",
            "--2023-08-18 18:13:50--  https://raw.githubusercontent.com/Natkeeran/automated_tamil_text_classification/master/data/TamilNLP_TamilStopWords.txt\n",
            "Resolving raw.githubusercontent.com (raw.githubusercontent.com)... 185.199.111.133, 185.199.109.133, 185.199.108.133, ...\n",
            "Connecting to raw.githubusercontent.com (raw.githubusercontent.com)|185.199.111.133|:443... connected.\n",
            "HTTP request sent, awaiting response... 200 OK\n",
            "Length: 1963 (1.9K) [text/plain]\n",
            "Saving to: ‘TamilNLP_TamilStopWords.txt’\n",
            "\n",
            "TamilNLP_TamilStopW 100%[===================>]   1.92K  --.-KB/s    in 0s      \n",
            "\n",
            "2023-08-18 18:13:51 (27.3 MB/s) - ‘TamilNLP_TamilStopWords.txt’ saved [1963/1963]\n",
            "\n",
            "--2023-08-18 18:13:51--  https://raw.githubusercontent.com/Natkeeran/automated_tamil_text_classification/master/data/custom_tamil_stop_words.txt\n",
            "Resolving raw.githubusercontent.com (raw.githubusercontent.com)... 185.199.108.133, 185.199.109.133, 185.199.110.133, ...\n",
            "Connecting to raw.githubusercontent.com (raw.githubusercontent.com)|185.199.108.133|:443... connected.\n",
            "HTTP request sent, awaiting response... 200 OK\n",
            "Length: 1723 (1.7K) [text/plain]\n",
            "Saving to: ‘custom_tamil_stop_words.txt’\n",
            "\n",
            "custom_tamil_stop_w 100%[===================>]   1.68K  --.-KB/s    in 0s      \n",
            "\n",
            "2023-08-18 18:13:51 (19.8 MB/s) - ‘custom_tamil_stop_words.txt’ saved [1723/1723]\n",
            "\n"
          ]
        }
      ]
    },
    {
      "cell_type": "code",
      "source": [
        "# import os\n",
        "\n",
        "# # Create a folder to store the downloaded files\n",
        "# folder_path = \"/content/tamil_wiki_data\"\n",
        "# os.makedirs(folder_path, exist_ok=True)\n",
        "\n",
        "# for i in range(22):\n",
        "#     url = f\"https://raw.githubusercontent.com/Natkeeran/automated_tamil_text_classification/master/data/tamil_wiki_data/wiki_{str(i).zfill(2)}\"\n",
        "#     file_path = os.path.join(folder_path, f\"wiki_{str(i).zfill(2)}\")\n",
        "#     !wget -P $folder_path $url"
      ],
      "metadata": {
        "id": "GfSbC91DQAe9"
      },
      "execution_count": 3,
      "outputs": []
    },
    {
      "cell_type": "code",
      "source": [
        "train_set = pd.read_csv(\"/content/train.csv\",\n",
        "                   encoding = \"utf-8\",\n",
        "                   engine = \"python\",\n",
        "                   header = 0)\n",
        "\n",
        "test_set = pd.read_csv(\"/content/Test.csv\",\n",
        "                   encoding = \"utf-8\",\n",
        "                   engine = \"python\",\n",
        "                   header = 0)\n"
      ],
      "metadata": {
        "id": "SCqctiS_tIhm"
      },
      "execution_count": 3,
      "outputs": []
    },
    {
      "cell_type": "code",
      "source": [
        "train_set.head()"
      ],
      "metadata": {
        "colab": {
          "base_uri": "https://localhost:8080/",
          "height": 206
        },
        "id": "OlqTrZ7dEXNv",
        "outputId": "268c29a8-0891-44cd-df3a-4f4e76f83e81"
      },
      "execution_count": 4,
      "outputs": [
        {
          "output_type": "execute_result",
          "data": {
            "text/plain": [
              "     id                                               text category\n",
              "0  tam1  திருமலை நாயக்கர் பேரவை சார்பாக படம் வெற்றி பெற...      NOT\n",
              "1  tam2  இந்த ட்ரெய்லர் கூட பார்க்கிற மாதிரி இல்லை.. இத...      OFF\n",
              "2  tam3  மைசூரு செட்டியார் சமூகத்தின் சார்பாக இப்படம் வ...      NOT\n",
              "3  tam4  மொத்த சாதியும் ஒரு சாதிக்கு எதிரா நிக்குது.......      OFF\n",
              "4  tam5                     only for விஜய் சேதுபதி and STR      NOT"
            ],
            "text/html": [
              "\n",
              "  <div id=\"df-72b2596d-a276-4be8-8544-47319cbb220c\" class=\"colab-df-container\">\n",
              "    <div>\n",
              "<style scoped>\n",
              "    .dataframe tbody tr th:only-of-type {\n",
              "        vertical-align: middle;\n",
              "    }\n",
              "\n",
              "    .dataframe tbody tr th {\n",
              "        vertical-align: top;\n",
              "    }\n",
              "\n",
              "    .dataframe thead th {\n",
              "        text-align: right;\n",
              "    }\n",
              "</style>\n",
              "<table border=\"1\" class=\"dataframe\">\n",
              "  <thead>\n",
              "    <tr style=\"text-align: right;\">\n",
              "      <th></th>\n",
              "      <th>id</th>\n",
              "      <th>text</th>\n",
              "      <th>category</th>\n",
              "    </tr>\n",
              "  </thead>\n",
              "  <tbody>\n",
              "    <tr>\n",
              "      <th>0</th>\n",
              "      <td>tam1</td>\n",
              "      <td>திருமலை நாயக்கர் பேரவை சார்பாக படம் வெற்றி பெற...</td>\n",
              "      <td>NOT</td>\n",
              "    </tr>\n",
              "    <tr>\n",
              "      <th>1</th>\n",
              "      <td>tam2</td>\n",
              "      <td>இந்த ட்ரெய்லர் கூட பார்க்கிற மாதிரி இல்லை.. இத...</td>\n",
              "      <td>OFF</td>\n",
              "    </tr>\n",
              "    <tr>\n",
              "      <th>2</th>\n",
              "      <td>tam3</td>\n",
              "      <td>மைசூரு செட்டியார் சமூகத்தின் சார்பாக இப்படம் வ...</td>\n",
              "      <td>NOT</td>\n",
              "    </tr>\n",
              "    <tr>\n",
              "      <th>3</th>\n",
              "      <td>tam4</td>\n",
              "      <td>மொத்த சாதியும் ஒரு சாதிக்கு எதிரா நிக்குது.......</td>\n",
              "      <td>OFF</td>\n",
              "    </tr>\n",
              "    <tr>\n",
              "      <th>4</th>\n",
              "      <td>tam5</td>\n",
              "      <td>only for விஜய் சேதுபதி and STR</td>\n",
              "      <td>NOT</td>\n",
              "    </tr>\n",
              "  </tbody>\n",
              "</table>\n",
              "</div>\n",
              "    <div class=\"colab-df-buttons\">\n",
              "\n",
              "  <div class=\"colab-df-container\">\n",
              "    <button class=\"colab-df-convert\" onclick=\"convertToInteractive('df-72b2596d-a276-4be8-8544-47319cbb220c')\"\n",
              "            title=\"Convert this dataframe to an interactive table.\"\n",
              "            style=\"display:none;\">\n",
              "\n",
              "  <svg xmlns=\"http://www.w3.org/2000/svg\" height=\"24px\" viewBox=\"0 -960 960 960\">\n",
              "    <path d=\"M120-120v-720h720v720H120Zm60-500h600v-160H180v160Zm220 220h160v-160H400v160Zm0 220h160v-160H400v160ZM180-400h160v-160H180v160Zm440 0h160v-160H620v160ZM180-180h160v-160H180v160Zm440 0h160v-160H620v160Z\"/>\n",
              "  </svg>\n",
              "    </button>\n",
              "\n",
              "  <style>\n",
              "    .colab-df-container {\n",
              "      display:flex;\n",
              "      gap: 12px;\n",
              "    }\n",
              "\n",
              "    .colab-df-convert {\n",
              "      background-color: #E8F0FE;\n",
              "      border: none;\n",
              "      border-radius: 50%;\n",
              "      cursor: pointer;\n",
              "      display: none;\n",
              "      fill: #1967D2;\n",
              "      height: 32px;\n",
              "      padding: 0 0 0 0;\n",
              "      width: 32px;\n",
              "    }\n",
              "\n",
              "    .colab-df-convert:hover {\n",
              "      background-color: #E2EBFA;\n",
              "      box-shadow: 0px 1px 2px rgba(60, 64, 67, 0.3), 0px 1px 3px 1px rgba(60, 64, 67, 0.15);\n",
              "      fill: #174EA6;\n",
              "    }\n",
              "\n",
              "    .colab-df-buttons div {\n",
              "      margin-bottom: 4px;\n",
              "    }\n",
              "\n",
              "    [theme=dark] .colab-df-convert {\n",
              "      background-color: #3B4455;\n",
              "      fill: #D2E3FC;\n",
              "    }\n",
              "\n",
              "    [theme=dark] .colab-df-convert:hover {\n",
              "      background-color: #434B5C;\n",
              "      box-shadow: 0px 1px 3px 1px rgba(0, 0, 0, 0.15);\n",
              "      filter: drop-shadow(0px 1px 2px rgba(0, 0, 0, 0.3));\n",
              "      fill: #FFFFFF;\n",
              "    }\n",
              "  </style>\n",
              "\n",
              "    <script>\n",
              "      const buttonEl =\n",
              "        document.querySelector('#df-72b2596d-a276-4be8-8544-47319cbb220c button.colab-df-convert');\n",
              "      buttonEl.style.display =\n",
              "        google.colab.kernel.accessAllowed ? 'block' : 'none';\n",
              "\n",
              "      async function convertToInteractive(key) {\n",
              "        const element = document.querySelector('#df-72b2596d-a276-4be8-8544-47319cbb220c');\n",
              "        const dataTable =\n",
              "          await google.colab.kernel.invokeFunction('convertToInteractive',\n",
              "                                                    [key], {});\n",
              "        if (!dataTable) return;\n",
              "\n",
              "        const docLinkHtml = 'Like what you see? Visit the ' +\n",
              "          '<a target=\"_blank\" href=https://colab.research.google.com/notebooks/data_table.ipynb>data table notebook</a>'\n",
              "          + ' to learn more about interactive tables.';\n",
              "        element.innerHTML = '';\n",
              "        dataTable['output_type'] = 'display_data';\n",
              "        await google.colab.output.renderOutput(dataTable, element);\n",
              "        const docLink = document.createElement('div');\n",
              "        docLink.innerHTML = docLinkHtml;\n",
              "        element.appendChild(docLink);\n",
              "      }\n",
              "    </script>\n",
              "  </div>\n",
              "\n",
              "\n",
              "<div id=\"df-af48dcba-fb96-45b0-b075-217fe945dd0f\">\n",
              "  <button class=\"colab-df-quickchart\" onclick=\"quickchart('df-af48dcba-fb96-45b0-b075-217fe945dd0f')\"\n",
              "            title=\"Suggest charts.\"\n",
              "            style=\"display:none;\">\n",
              "\n",
              "<svg xmlns=\"http://www.w3.org/2000/svg\" height=\"24px\"viewBox=\"0 0 24 24\"\n",
              "     width=\"24px\">\n",
              "    <g>\n",
              "        <path d=\"M19 3H5c-1.1 0-2 .9-2 2v14c0 1.1.9 2 2 2h14c1.1 0 2-.9 2-2V5c0-1.1-.9-2-2-2zM9 17H7v-7h2v7zm4 0h-2V7h2v10zm4 0h-2v-4h2v4z\"/>\n",
              "    </g>\n",
              "</svg>\n",
              "  </button>\n",
              "\n",
              "<style>\n",
              "  .colab-df-quickchart {\n",
              "    background-color: #E8F0FE;\n",
              "    border: none;\n",
              "    border-radius: 50%;\n",
              "    cursor: pointer;\n",
              "    display: none;\n",
              "    fill: #1967D2;\n",
              "    height: 32px;\n",
              "    padding: 0 0 0 0;\n",
              "    width: 32px;\n",
              "  }\n",
              "\n",
              "  .colab-df-quickchart:hover {\n",
              "    background-color: #E2EBFA;\n",
              "    box-shadow: 0px 1px 2px rgba(60, 64, 67, 0.3), 0px 1px 3px 1px rgba(60, 64, 67, 0.15);\n",
              "    fill: #174EA6;\n",
              "  }\n",
              "\n",
              "  [theme=dark] .colab-df-quickchart {\n",
              "    background-color: #3B4455;\n",
              "    fill: #D2E3FC;\n",
              "  }\n",
              "\n",
              "  [theme=dark] .colab-df-quickchart:hover {\n",
              "    background-color: #434B5C;\n",
              "    box-shadow: 0px 1px 3px 1px rgba(0, 0, 0, 0.15);\n",
              "    filter: drop-shadow(0px 1px 2px rgba(0, 0, 0, 0.3));\n",
              "    fill: #FFFFFF;\n",
              "  }\n",
              "</style>\n",
              "\n",
              "  <script>\n",
              "    async function quickchart(key) {\n",
              "      const charts = await google.colab.kernel.invokeFunction(\n",
              "          'suggestCharts', [key], {});\n",
              "    }\n",
              "    (() => {\n",
              "      let quickchartButtonEl =\n",
              "        document.querySelector('#df-af48dcba-fb96-45b0-b075-217fe945dd0f button');\n",
              "      quickchartButtonEl.style.display =\n",
              "        google.colab.kernel.accessAllowed ? 'block' : 'none';\n",
              "    })();\n",
              "  </script>\n",
              "</div>\n",
              "    </div>\n",
              "  </div>\n"
            ]
          },
          "metadata": {},
          "execution_count": 4
        }
      ]
    },
    {
      "cell_type": "code",
      "source": [
        "test_set.info()"
      ],
      "metadata": {
        "colab": {
          "base_uri": "https://localhost:8080/"
        },
        "id": "79KQ1PV0EX71",
        "outputId": "c5364e0e-6743-44c6-fcf0-26ce874efdd8"
      },
      "execution_count": 5,
      "outputs": [
        {
          "output_type": "stream",
          "name": "stdout",
          "text": [
            "<class 'pandas.core.frame.DataFrame'>\n",
            "RangeIndex: 654 entries, 0 to 653\n",
            "Data columns (total 3 columns):\n",
            " #   Column    Non-Null Count  Dtype \n",
            "---  ------    --------------  ----- \n",
            " 0   id        654 non-null    object\n",
            " 1   text      654 non-null    object\n",
            " 2   category  654 non-null    object\n",
            "dtypes: object(3)\n",
            "memory usage: 15.5+ KB\n"
          ]
        }
      ]
    },
    {
      "cell_type": "code",
      "source": [
        "import re\n",
        "import nltk\n",
        "from nltk.corpus import stopwords\n",
        "from nltk.tokenize import word_tokenize"
      ],
      "metadata": {
        "id": "-jFQNIPyHn1l"
      },
      "execution_count": 6,
      "outputs": []
    },
    {
      "cell_type": "code",
      "source": [
        "def take_data_to_shower(tweet):\n",
        "    tweet=str(tweet)\n",
        "\n",
        "    noises = ['URL', '@USER', '\\'ve', 'n\\'t', '\\'s', '\\'m']\n",
        "\n",
        "    for noise in noises:\n",
        "        tweet = tweet.replace(noise, '')\n",
        "\n",
        "    return tweet"
      ],
      "metadata": {
        "id": "2zZV9X_tArD1"
      },
      "execution_count": 7,
      "outputs": []
    },
    {
      "cell_type": "code",
      "source": [
        "def remove_emoticon(text):\n",
        "        text=str(text)\n",
        "\n",
        "        emoji_pattern = re.compile(\"[\"\n",
        "                           u\"\\U0001F600-\\U0001F64F\"  # emoticons\n",
        "                           u\"\\U0001F300-\\U0001F5FF\"  # symbols & pictographs\n",
        "                           u\"\\U0001F680-\\U0001F6FF\"  # transport & map symbols\n",
        "                           u\"\\U0001F1E0-\\U0001F1FF\"  # flags\n",
        "                           u\"\\U00002702-\\U000027B0\"\n",
        "                           u\"\\U000024C2-\\U0001F251\"\n",
        "                           \"]+\", flags=re.UNICODE)\n",
        "        return emoji_pattern.sub(r'', text)"
      ],
      "metadata": {
        "id": "p5UQk7s1BG4m"
      },
      "execution_count": 8,
      "outputs": []
    },
    {
      "cell_type": "code",
      "source": [
        "def remove_punc(text):\n",
        "    text=str(text)\n",
        "    table = str.maketrans(\"\", \"\", string.punctuation)\n",
        "    return text.translate(table)"
      ],
      "metadata": {
        "id": "lPOCSYXoVwNG"
      },
      "execution_count": 9,
      "outputs": []
    },
    {
      "cell_type": "code",
      "source": [
        "def tokenize(tweet):\n",
        "   tweet=str(tweet)\n",
        "#\n",
        "   lower_tweet = tweet.lower()\n",
        "   return word_tokenize(lower_tweet)"
      ],
      "metadata": {
        "id": "_GGhdI1j-Rg3"
      },
      "execution_count": 10,
      "outputs": []
    },
    {
      "cell_type": "code",
      "source": [
        "def get_tamil_stop_words():\n",
        "    swdf1 = pd.read_csv(\"TamilNLP_TamilStopWords.txt\",  header=None)\n",
        "    swdf2 = pd.read_csv(\"custom_tamil_stop_words.txt\",  header=None)\n",
        "    sw1 = swdf1[0].tolist()\n",
        "    sw2 = swdf2[0].tolist()\n",
        "    tamil_stop_words = list(set(sw1 + sw2))\n",
        "    return tamil_stop_words"
      ],
      "metadata": {
        "id": "kq3sT3fDLlae"
      },
      "execution_count": 11,
      "outputs": []
    },
    {
      "cell_type": "code",
      "source": [
        "def remove_stop_words(tokens):\n",
        "   clean_tokens = []\n",
        "   newStopWords = get_tamil_stop_words()\n",
        "#    newStopWords = [\n",
        "#     \"ஒரு\", \"இது\", \"அது\", \"அவர்\", \"நான்\",\n",
        "#     \"நீங்கள்\", \"அவன்\", \"அவள்\", \"நமக்கு\", \"உங்களுக்கு\",\n",
        "#     \"அவர்களுக்கு\", \"அவர்கள்\", \"அதில்\", \"இங்கு\", \"எப்போது\",\n",
        "#     \"எப்படி\", \"என்னை\", \"உள்ள\", \"என்னுடைய\", \"உங்கள்\",\n",
        "#     \"எமது\", \"இதை\", \"அந்த\", \"பொது\", \"மிகுந்த\"\n",
        "# ]\n",
        "   stopWords = stopwords.words('english')\n",
        "   stopWords.append(newStopWords)\n",
        "  #  print(stopWords)\n",
        "\n",
        "   for token in tokens:\n",
        "       if token not in stopWords:\n",
        "           if token.replace(' ', '') != '':\n",
        "               if len(token) > 1:\n",
        "                   clean_tokens.append(token)\n",
        "   return ' '.join(clean_tokens)"
      ],
      "metadata": {
        "id": "hWdcRG9K-bwe"
      },
      "execution_count": 12,
      "outputs": []
    },
    {
      "cell_type": "code",
      "source": [
        "import nltk\n",
        "nltk.download('punkt')\n",
        "nltk.download('stopwords')"
      ],
      "metadata": {
        "colab": {
          "base_uri": "https://localhost:8080/"
        },
        "id": "_x00mR5KHyOp",
        "outputId": "884261af-a040-4715-f655-31a6f65b5586"
      },
      "execution_count": 13,
      "outputs": [
        {
          "output_type": "stream",
          "name": "stderr",
          "text": [
            "[nltk_data] Downloading package punkt to /root/nltk_data...\n",
            "[nltk_data]   Unzipping tokenizers/punkt.zip.\n",
            "[nltk_data] Downloading package stopwords to /root/nltk_data...\n",
            "[nltk_data]   Unzipping corpora/stopwords.zip.\n"
          ]
        },
        {
          "output_type": "execute_result",
          "data": {
            "text/plain": [
              "True"
            ]
          },
          "metadata": {},
          "execution_count": 13
        }
      ]
    },
    {
      "cell_type": "code",
      "source": [
        "##EMBEDDING##\n",
        "def datacleen(data):\n",
        "  tqdm.pandas(desc=\"Remove duplicates \")\n",
        "  data.drop_duplicates(subset=['text'], inplace=True)\n",
        "  # tqdm.pandas(desc=\"To lower letter\")\n",
        "  # data = data.applymap(lambda x: x.lower() if isinstance(x, str) else x)\n",
        "\n",
        "  tqdm.pandas(desc=\"Cleaning Data Phase I...\")\n",
        "  data['take_data_to_shower'] = data['text'].progress_apply(take_data_to_shower)\n",
        "\n",
        "  tqdm.pandas(desc=\"removing emoji...\")\n",
        "  data['remove_emoticon'] = data['take_data_to_shower'].progress_apply(remove_emoticon)\n",
        "\n",
        "\n",
        "  tqdm.pandas(desc=\"removing punctuation...\")\n",
        "  data['remove_punc'] = data['remove_emoticon'].progress_apply(remove_punc)\n",
        "\n",
        "\n",
        "\n",
        "  tqdm.pandas(desc=\"Tokenizing Data...\")\n",
        "  data['tokenize'] = data['remove_punc'].progress_apply(tokenize)\n",
        "\n",
        "  tqdm.pandas(desc=\"Cleaning Data Phase II...\")\n",
        "  data['remove_stop_words'] = data['tokenize'].progress_apply(remove_stop_words)\n",
        "\n",
        "  # tqdm.pandas(desc=\"Cleaning Data Phase III...\")\n",
        "\n",
        "  # data.drop(data[(data['category'] == 'unknown_state') | (data['category'] == 'not-tamil') |(data['category'] == 'non-tamil') |  (data['category'] == 'mixed_feelings')].index, inplace=True)\n",
        "  # data.drop(data[(data['category'] == 'mixed_feelings')].index, inplace=True)\n",
        "  # replacement_dict = {\n",
        "  #     'positive': 0,\n",
        "  #     'negative': 1,\n",
        "  #     'mixed_feelings':-1,\n",
        "  # }\n",
        "  # # Replace values in the DataFrame\n",
        "  # data['category'].replace(replacement_dict, inplace=True)\n",
        "\n",
        "\n",
        "  # stem_and_lem ---> outlet\n",
        "  return data\n",
        "  # text_vector = clean_texts['tokens'].tolist()\n"
      ],
      "metadata": {
        "id": "fItdt2OE-k0I"
      },
      "execution_count": 14,
      "outputs": []
    },
    {
      "cell_type": "code",
      "source": [
        "train_set = datacleen(train_set)\n",
        "train_set"
      ],
      "metadata": {
        "colab": {
          "base_uri": "https://localhost:8080/",
          "height": 1000
        },
        "id": "k4vpJMhrIF6B",
        "outputId": "b692fa76-f6c9-4366-cec1-bd8040ef31c4"
      },
      "execution_count": 15,
      "outputs": [
        {
          "output_type": "stream",
          "name": "stderr",
          "text": [
            "Cleaning Data Phase I...: 100%|██████████| 5809/5809 [00:00<00:00, 155661.19it/s]\n",
            "removing emoji...: 100%|██████████| 5809/5809 [00:00<00:00, 69387.66it/s]\n",
            "removing punctuation...: 100%|██████████| 5809/5809 [00:00<00:00, 33606.73it/s]\n",
            "Tokenizing Data...: 100%|██████████| 5809/5809 [00:01<00:00, 3241.11it/s]\n",
            "Cleaning Data Phase II...: 100%|██████████| 5809/5809 [00:21<00:00, 270.91it/s]\n"
          ]
        },
        {
          "output_type": "execute_result",
          "data": {
            "text/plain": [
              "           id                                               text category  \\\n",
              "0        tam1  திருமலை நாயக்கர் பேரவை சார்பாக படம் வெற்றி பெற...      NOT   \n",
              "1        tam2  இந்த ட்ரெய்லர் கூட பார்க்கிற மாதிரி இல்லை.. இத...      OFF   \n",
              "2        tam3  மைசூரு செட்டியார் சமூகத்தின் சார்பாக இப்படம் வ...      NOT   \n",
              "3        tam4  மொத்த சாதியும் ஒரு சாதிக்கு எதிரா நிக்குது.......      OFF   \n",
              "4        tam5                     only for விஜய் சேதுபதி and STR      NOT   \n",
              "...       ...                                                ...      ...   \n",
              "5872  tam5876  இப்போதான் ஜாதி பிரச்சினை இல்லாம இருக்கு இப்போ ...      NOT   \n",
              "5873  tam5877  இது ஒரு சாதி ரீதியான படம் இல்லை தான் செல்லும் ...      NOT   \n",
              "5874  tam5878  கதை தெரியவில்லை  இருந்தாலும் மாறுபட்ட சிந்தனை ...      NOT   \n",
              "5875  tam5879  அட பரவால்லையே 8.5 டிஸ்லைக்ஸ் போட்ருக்கானுங்க.....      OFF   \n",
              "5876  tam5880  உதயநிதிக்கு நடிப்பு வரலனு சொல்ரவங்க லைக் போடுங...      NOT   \n",
              "\n",
              "                                    take_data_to_shower  \\\n",
              "0     திருமலை நாயக்கர் பேரவை சார்பாக படம் வெற்றி பெற...   \n",
              "1     இந்த ட்ரெய்லர் கூட பார்க்கிற மாதிரி இல்லை.. இத...   \n",
              "2     மைசூரு செட்டியார் சமூகத்தின் சார்பாக இப்படம் வ...   \n",
              "3     மொத்த சாதியும் ஒரு சாதிக்கு எதிரா நிக்குது.......   \n",
              "4                        only for விஜய் சேதுபதி and STR   \n",
              "...                                                 ...   \n",
              "5872  இப்போதான் ஜாதி பிரச்சினை இல்லாம இருக்கு இப்போ ...   \n",
              "5873  இது ஒரு சாதி ரீதியான படம் இல்லை தான் செல்லும் ...   \n",
              "5874  கதை தெரியவில்லை  இருந்தாலும் மாறுபட்ட சிந்தனை ...   \n",
              "5875  அட பரவால்லையே 8.5 டிஸ்லைக்ஸ் போட்ருக்கானுங்க.....   \n",
              "5876  உதயநிதிக்கு நடிப்பு வரலனு சொல்ரவங்க லைக் போடுங...   \n",
              "\n",
              "                                        remove_emoticon  \\\n",
              "0     திருமலை நாயக்கர் பேரவை சார்பாக படம் வெற்றி பெற...   \n",
              "1     இந்த ட்ரெய்லர் கூட பார்க்கிற மாதிரி இல்லை.. இத...   \n",
              "2     மைசூரு செட்டியார் சமூகத்தின் சார்பாக இப்படம் வ...   \n",
              "3     மொத்த சாதியும் ஒரு சாதிக்கு எதிரா நிக்குது.......   \n",
              "4                        only for விஜய் சேதுபதி and STR   \n",
              "...                                                 ...   \n",
              "5872  இப்போதான் ஜாதி பிரச்சினை இல்லாம இருக்கு இப்போ ...   \n",
              "5873  இது ஒரு சாதி ரீதியான படம் இல்லை தான் செல்லும் ...   \n",
              "5874  கதை தெரியவில்லை  இருந்தாலும் மாறுபட்ட சிந்தனை ...   \n",
              "5875  அட பரவால்லையே 8.5 டிஸ்லைக்ஸ் போட்ருக்கானுங்க.....   \n",
              "5876  உதயநிதிக்கு நடிப்பு வரலனு சொல்ரவங்க லைக் போடுங...   \n",
              "\n",
              "                                            remove_punc  \\\n",
              "0     திருமலை நாயக்கர் பேரவை சார்பாக படம் வெற்றி பெற...   \n",
              "1     இந்த ட்ரெய்லர் கூட பார்க்கிற மாதிரி இல்லை இதை ...   \n",
              "2     மைசூரு செட்டியார் சமூகத்தின் சார்பாக இப்படம் வ...   \n",
              "3     மொத்த சாதியும் ஒரு சாதிக்கு எதிரா நிக்குது  என...   \n",
              "4                        only for விஜய் சேதுபதி and STR   \n",
              "...                                                 ...   \n",
              "5872  இப்போதான் ஜாதி பிரச்சினை இல்லாம இருக்கு இப்போ ...   \n",
              "5873  இது ஒரு சாதி ரீதியான படம் இல்லை தான் செல்லும் ...   \n",
              "5874  கதை தெரியவில்லை  இருந்தாலும் மாறுபட்ட சிந்தனை ...   \n",
              "5875  அட பரவால்லையே 85 டிஸ்லைக்ஸ் போட்ருக்கானுங்க பர...   \n",
              "5876  உதயநிதிக்கு நடிப்பு வரலனு சொல்ரவங்க லைக் போடுங...   \n",
              "\n",
              "                                               tokenize  \\\n",
              "0     [திருமலை, நாயக்கர், பேரவை, சார்பாக, படம், வெற்...   \n",
              "1     [இந்த, ட்ரெய்லர், கூட, பார்க்கிற, மாதிரி, இல்ல...   \n",
              "2     [மைசூரு, செட்டியார், சமூகத்தின், சார்பாக, இப்ப...   \n",
              "3     [மொத்த, சாதியும், ஒரு, சாதிக்கு, எதிரா, நிக்கு...   \n",
              "4                 [only, for, விஜய், சேதுபதி, and, str]   \n",
              "...                                                 ...   \n",
              "5872  [இப்போதான், ஜாதி, பிரச்சினை, இல்லாம, இருக்கு, ...   \n",
              "5873  [இது, ஒரு, சாதி, ரீதியான, படம், இல்லை, தான், ச...   \n",
              "5874  [கதை, தெரியவில்லை, இருந்தாலும், மாறுபட்ட, சிந்...   \n",
              "5875  [அட, பரவால்லையே, 85, டிஸ்லைக்ஸ், போட்ருக்கானுங...   \n",
              "5876  [உதயநிதிக்கு, நடிப்பு, வரலனு, சொல்ரவங்க, லைக்,...   \n",
              "\n",
              "                                      remove_stop_words  \n",
              "0     திருமலை நாயக்கர் பேரவை சார்பாக படம் வெற்றி பெற...  \n",
              "1     இந்த ட்ரெய்லர் கூட பார்க்கிற மாதிரி இல்லை இதை ...  \n",
              "2     மைசூரு செட்டியார் சமூகத்தின் சார்பாக இப்படம் வ...  \n",
              "3     மொத்த சாதியும் ஒரு சாதிக்கு எதிரா நிக்குது என்...  \n",
              "4                                     விஜய் சேதுபதி str  \n",
              "...                                                 ...  \n",
              "5872  இப்போதான் ஜாதி பிரச்சினை இல்லாம இருக்கு இப்போ ...  \n",
              "5873  இது ஒரு சாதி ரீதியான படம் இல்லை தான் செல்லும் ...  \n",
              "5874  கதை தெரியவில்லை இருந்தாலும் மாறுபட்ட சிந்தனை வ...  \n",
              "5875  அட பரவால்லையே 85 டிஸ்லைக்ஸ் போட்ருக்கானுங்க பர...  \n",
              "5876  உதயநிதிக்கு நடிப்பு வரலனு சொல்ரவங்க லைக் போடுங...  \n",
              "\n",
              "[5809 rows x 8 columns]"
            ],
            "text/html": [
              "\n",
              "  <div id=\"df-ca4ad009-2ef7-45c9-a783-b81f2bffe6d0\" class=\"colab-df-container\">\n",
              "    <div>\n",
              "<style scoped>\n",
              "    .dataframe tbody tr th:only-of-type {\n",
              "        vertical-align: middle;\n",
              "    }\n",
              "\n",
              "    .dataframe tbody tr th {\n",
              "        vertical-align: top;\n",
              "    }\n",
              "\n",
              "    .dataframe thead th {\n",
              "        text-align: right;\n",
              "    }\n",
              "</style>\n",
              "<table border=\"1\" class=\"dataframe\">\n",
              "  <thead>\n",
              "    <tr style=\"text-align: right;\">\n",
              "      <th></th>\n",
              "      <th>id</th>\n",
              "      <th>text</th>\n",
              "      <th>category</th>\n",
              "      <th>take_data_to_shower</th>\n",
              "      <th>remove_emoticon</th>\n",
              "      <th>remove_punc</th>\n",
              "      <th>tokenize</th>\n",
              "      <th>remove_stop_words</th>\n",
              "    </tr>\n",
              "  </thead>\n",
              "  <tbody>\n",
              "    <tr>\n",
              "      <th>0</th>\n",
              "      <td>tam1</td>\n",
              "      <td>திருமலை நாயக்கர் பேரவை சார்பாக படம் வெற்றி பெற...</td>\n",
              "      <td>NOT</td>\n",
              "      <td>திருமலை நாயக்கர் பேரவை சார்பாக படம் வெற்றி பெற...</td>\n",
              "      <td>திருமலை நாயக்கர் பேரவை சார்பாக படம் வெற்றி பெற...</td>\n",
              "      <td>திருமலை நாயக்கர் பேரவை சார்பாக படம் வெற்றி பெற...</td>\n",
              "      <td>[திருமலை, நாயக்கர், பேரவை, சார்பாக, படம், வெற்...</td>\n",
              "      <td>திருமலை நாயக்கர் பேரவை சார்பாக படம் வெற்றி பெற...</td>\n",
              "    </tr>\n",
              "    <tr>\n",
              "      <th>1</th>\n",
              "      <td>tam2</td>\n",
              "      <td>இந்த ட்ரெய்லர் கூட பார்க்கிற மாதிரி இல்லை.. இத...</td>\n",
              "      <td>OFF</td>\n",
              "      <td>இந்த ட்ரெய்லர் கூட பார்க்கிற மாதிரி இல்லை.. இத...</td>\n",
              "      <td>இந்த ட்ரெய்லர் கூட பார்க்கிற மாதிரி இல்லை.. இத...</td>\n",
              "      <td>இந்த ட்ரெய்லர் கூட பார்க்கிற மாதிரி இல்லை இதை ...</td>\n",
              "      <td>[இந்த, ட்ரெய்லர், கூட, பார்க்கிற, மாதிரி, இல்ல...</td>\n",
              "      <td>இந்த ட்ரெய்லர் கூட பார்க்கிற மாதிரி இல்லை இதை ...</td>\n",
              "    </tr>\n",
              "    <tr>\n",
              "      <th>2</th>\n",
              "      <td>tam3</td>\n",
              "      <td>மைசூரு செட்டியார் சமூகத்தின் சார்பாக இப்படம் வ...</td>\n",
              "      <td>NOT</td>\n",
              "      <td>மைசூரு செட்டியார் சமூகத்தின் சார்பாக இப்படம் வ...</td>\n",
              "      <td>மைசூரு செட்டியார் சமூகத்தின் சார்பாக இப்படம் வ...</td>\n",
              "      <td>மைசூரு செட்டியார் சமூகத்தின் சார்பாக இப்படம் வ...</td>\n",
              "      <td>[மைசூரு, செட்டியார், சமூகத்தின், சார்பாக, இப்ப...</td>\n",
              "      <td>மைசூரு செட்டியார் சமூகத்தின் சார்பாக இப்படம் வ...</td>\n",
              "    </tr>\n",
              "    <tr>\n",
              "      <th>3</th>\n",
              "      <td>tam4</td>\n",
              "      <td>மொத்த சாதியும் ஒரு சாதிக்கு எதிரா நிக்குது.......</td>\n",
              "      <td>OFF</td>\n",
              "      <td>மொத்த சாதியும் ஒரு சாதிக்கு எதிரா நிக்குது.......</td>\n",
              "      <td>மொத்த சாதியும் ஒரு சாதிக்கு எதிரா நிக்குது.......</td>\n",
              "      <td>மொத்த சாதியும் ஒரு சாதிக்கு எதிரா நிக்குது  என...</td>\n",
              "      <td>[மொத்த, சாதியும், ஒரு, சாதிக்கு, எதிரா, நிக்கு...</td>\n",
              "      <td>மொத்த சாதியும் ஒரு சாதிக்கு எதிரா நிக்குது என்...</td>\n",
              "    </tr>\n",
              "    <tr>\n",
              "      <th>4</th>\n",
              "      <td>tam5</td>\n",
              "      <td>only for விஜய் சேதுபதி and STR</td>\n",
              "      <td>NOT</td>\n",
              "      <td>only for விஜய் சேதுபதி and STR</td>\n",
              "      <td>only for விஜய் சேதுபதி and STR</td>\n",
              "      <td>only for விஜய் சேதுபதி and STR</td>\n",
              "      <td>[only, for, விஜய், சேதுபதி, and, str]</td>\n",
              "      <td>விஜய் சேதுபதி str</td>\n",
              "    </tr>\n",
              "    <tr>\n",
              "      <th>...</th>\n",
              "      <td>...</td>\n",
              "      <td>...</td>\n",
              "      <td>...</td>\n",
              "      <td>...</td>\n",
              "      <td>...</td>\n",
              "      <td>...</td>\n",
              "      <td>...</td>\n",
              "      <td>...</td>\n",
              "    </tr>\n",
              "    <tr>\n",
              "      <th>5872</th>\n",
              "      <td>tam5876</td>\n",
              "      <td>இப்போதான் ஜாதி பிரச்சினை இல்லாம இருக்கு இப்போ ...</td>\n",
              "      <td>NOT</td>\n",
              "      <td>இப்போதான் ஜாதி பிரச்சினை இல்லாம இருக்கு இப்போ ...</td>\n",
              "      <td>இப்போதான் ஜாதி பிரச்சினை இல்லாம இருக்கு இப்போ ...</td>\n",
              "      <td>இப்போதான் ஜாதி பிரச்சினை இல்லாம இருக்கு இப்போ ...</td>\n",
              "      <td>[இப்போதான், ஜாதி, பிரச்சினை, இல்லாம, இருக்கு, ...</td>\n",
              "      <td>இப்போதான் ஜாதி பிரச்சினை இல்லாம இருக்கு இப்போ ...</td>\n",
              "    </tr>\n",
              "    <tr>\n",
              "      <th>5873</th>\n",
              "      <td>tam5877</td>\n",
              "      <td>இது ஒரு சாதி ரீதியான படம் இல்லை தான் செல்லும் ...</td>\n",
              "      <td>NOT</td>\n",
              "      <td>இது ஒரு சாதி ரீதியான படம் இல்லை தான் செல்லும் ...</td>\n",
              "      <td>இது ஒரு சாதி ரீதியான படம் இல்லை தான் செல்லும் ...</td>\n",
              "      <td>இது ஒரு சாதி ரீதியான படம் இல்லை தான் செல்லும் ...</td>\n",
              "      <td>[இது, ஒரு, சாதி, ரீதியான, படம், இல்லை, தான், ச...</td>\n",
              "      <td>இது ஒரு சாதி ரீதியான படம் இல்லை தான் செல்லும் ...</td>\n",
              "    </tr>\n",
              "    <tr>\n",
              "      <th>5874</th>\n",
              "      <td>tam5878</td>\n",
              "      <td>கதை தெரியவில்லை  இருந்தாலும் மாறுபட்ட சிந்தனை ...</td>\n",
              "      <td>NOT</td>\n",
              "      <td>கதை தெரியவில்லை  இருந்தாலும் மாறுபட்ட சிந்தனை ...</td>\n",
              "      <td>கதை தெரியவில்லை  இருந்தாலும் மாறுபட்ட சிந்தனை ...</td>\n",
              "      <td>கதை தெரியவில்லை  இருந்தாலும் மாறுபட்ட சிந்தனை ...</td>\n",
              "      <td>[கதை, தெரியவில்லை, இருந்தாலும், மாறுபட்ட, சிந்...</td>\n",
              "      <td>கதை தெரியவில்லை இருந்தாலும் மாறுபட்ட சிந்தனை வ...</td>\n",
              "    </tr>\n",
              "    <tr>\n",
              "      <th>5875</th>\n",
              "      <td>tam5879</td>\n",
              "      <td>அட பரவால்லையே 8.5 டிஸ்லைக்ஸ் போட்ருக்கானுங்க.....</td>\n",
              "      <td>OFF</td>\n",
              "      <td>அட பரவால்லையே 8.5 டிஸ்லைக்ஸ் போட்ருக்கானுங்க.....</td>\n",
              "      <td>அட பரவால்லையே 8.5 டிஸ்லைக்ஸ் போட்ருக்கானுங்க.....</td>\n",
              "      <td>அட பரவால்லையே 85 டிஸ்லைக்ஸ் போட்ருக்கானுங்க பர...</td>\n",
              "      <td>[அட, பரவால்லையே, 85, டிஸ்லைக்ஸ், போட்ருக்கானுங...</td>\n",
              "      <td>அட பரவால்லையே 85 டிஸ்லைக்ஸ் போட்ருக்கானுங்க பர...</td>\n",
              "    </tr>\n",
              "    <tr>\n",
              "      <th>5876</th>\n",
              "      <td>tam5880</td>\n",
              "      <td>உதயநிதிக்கு நடிப்பு வரலனு சொல்ரவங்க லைக் போடுங...</td>\n",
              "      <td>NOT</td>\n",
              "      <td>உதயநிதிக்கு நடிப்பு வரலனு சொல்ரவங்க லைக் போடுங...</td>\n",
              "      <td>உதயநிதிக்கு நடிப்பு வரலனு சொல்ரவங்க லைக் போடுங...</td>\n",
              "      <td>உதயநிதிக்கு நடிப்பு வரலனு சொல்ரவங்க லைக் போடுங...</td>\n",
              "      <td>[உதயநிதிக்கு, நடிப்பு, வரலனு, சொல்ரவங்க, லைக்,...</td>\n",
              "      <td>உதயநிதிக்கு நடிப்பு வரலனு சொல்ரவங்க லைக் போடுங...</td>\n",
              "    </tr>\n",
              "  </tbody>\n",
              "</table>\n",
              "<p>5809 rows × 8 columns</p>\n",
              "</div>\n",
              "    <div class=\"colab-df-buttons\">\n",
              "\n",
              "  <div class=\"colab-df-container\">\n",
              "    <button class=\"colab-df-convert\" onclick=\"convertToInteractive('df-ca4ad009-2ef7-45c9-a783-b81f2bffe6d0')\"\n",
              "            title=\"Convert this dataframe to an interactive table.\"\n",
              "            style=\"display:none;\">\n",
              "\n",
              "  <svg xmlns=\"http://www.w3.org/2000/svg\" height=\"24px\" viewBox=\"0 -960 960 960\">\n",
              "    <path d=\"M120-120v-720h720v720H120Zm60-500h600v-160H180v160Zm220 220h160v-160H400v160Zm0 220h160v-160H400v160ZM180-400h160v-160H180v160Zm440 0h160v-160H620v160ZM180-180h160v-160H180v160Zm440 0h160v-160H620v160Z\"/>\n",
              "  </svg>\n",
              "    </button>\n",
              "\n",
              "  <style>\n",
              "    .colab-df-container {\n",
              "      display:flex;\n",
              "      gap: 12px;\n",
              "    }\n",
              "\n",
              "    .colab-df-convert {\n",
              "      background-color: #E8F0FE;\n",
              "      border: none;\n",
              "      border-radius: 50%;\n",
              "      cursor: pointer;\n",
              "      display: none;\n",
              "      fill: #1967D2;\n",
              "      height: 32px;\n",
              "      padding: 0 0 0 0;\n",
              "      width: 32px;\n",
              "    }\n",
              "\n",
              "    .colab-df-convert:hover {\n",
              "      background-color: #E2EBFA;\n",
              "      box-shadow: 0px 1px 2px rgba(60, 64, 67, 0.3), 0px 1px 3px 1px rgba(60, 64, 67, 0.15);\n",
              "      fill: #174EA6;\n",
              "    }\n",
              "\n",
              "    .colab-df-buttons div {\n",
              "      margin-bottom: 4px;\n",
              "    }\n",
              "\n",
              "    [theme=dark] .colab-df-convert {\n",
              "      background-color: #3B4455;\n",
              "      fill: #D2E3FC;\n",
              "    }\n",
              "\n",
              "    [theme=dark] .colab-df-convert:hover {\n",
              "      background-color: #434B5C;\n",
              "      box-shadow: 0px 1px 3px 1px rgba(0, 0, 0, 0.15);\n",
              "      filter: drop-shadow(0px 1px 2px rgba(0, 0, 0, 0.3));\n",
              "      fill: #FFFFFF;\n",
              "    }\n",
              "  </style>\n",
              "\n",
              "    <script>\n",
              "      const buttonEl =\n",
              "        document.querySelector('#df-ca4ad009-2ef7-45c9-a783-b81f2bffe6d0 button.colab-df-convert');\n",
              "      buttonEl.style.display =\n",
              "        google.colab.kernel.accessAllowed ? 'block' : 'none';\n",
              "\n",
              "      async function convertToInteractive(key) {\n",
              "        const element = document.querySelector('#df-ca4ad009-2ef7-45c9-a783-b81f2bffe6d0');\n",
              "        const dataTable =\n",
              "          await google.colab.kernel.invokeFunction('convertToInteractive',\n",
              "                                                    [key], {});\n",
              "        if (!dataTable) return;\n",
              "\n",
              "        const docLinkHtml = 'Like what you see? Visit the ' +\n",
              "          '<a target=\"_blank\" href=https://colab.research.google.com/notebooks/data_table.ipynb>data table notebook</a>'\n",
              "          + ' to learn more about interactive tables.';\n",
              "        element.innerHTML = '';\n",
              "        dataTable['output_type'] = 'display_data';\n",
              "        await google.colab.output.renderOutput(dataTable, element);\n",
              "        const docLink = document.createElement('div');\n",
              "        docLink.innerHTML = docLinkHtml;\n",
              "        element.appendChild(docLink);\n",
              "      }\n",
              "    </script>\n",
              "  </div>\n",
              "\n",
              "\n",
              "<div id=\"df-f30215ba-287e-4ec2-9e5d-d69a14773934\">\n",
              "  <button class=\"colab-df-quickchart\" onclick=\"quickchart('df-f30215ba-287e-4ec2-9e5d-d69a14773934')\"\n",
              "            title=\"Suggest charts.\"\n",
              "            style=\"display:none;\">\n",
              "\n",
              "<svg xmlns=\"http://www.w3.org/2000/svg\" height=\"24px\"viewBox=\"0 0 24 24\"\n",
              "     width=\"24px\">\n",
              "    <g>\n",
              "        <path d=\"M19 3H5c-1.1 0-2 .9-2 2v14c0 1.1.9 2 2 2h14c1.1 0 2-.9 2-2V5c0-1.1-.9-2-2-2zM9 17H7v-7h2v7zm4 0h-2V7h2v10zm4 0h-2v-4h2v4z\"/>\n",
              "    </g>\n",
              "</svg>\n",
              "  </button>\n",
              "\n",
              "<style>\n",
              "  .colab-df-quickchart {\n",
              "    background-color: #E8F0FE;\n",
              "    border: none;\n",
              "    border-radius: 50%;\n",
              "    cursor: pointer;\n",
              "    display: none;\n",
              "    fill: #1967D2;\n",
              "    height: 32px;\n",
              "    padding: 0 0 0 0;\n",
              "    width: 32px;\n",
              "  }\n",
              "\n",
              "  .colab-df-quickchart:hover {\n",
              "    background-color: #E2EBFA;\n",
              "    box-shadow: 0px 1px 2px rgba(60, 64, 67, 0.3), 0px 1px 3px 1px rgba(60, 64, 67, 0.15);\n",
              "    fill: #174EA6;\n",
              "  }\n",
              "\n",
              "  [theme=dark] .colab-df-quickchart {\n",
              "    background-color: #3B4455;\n",
              "    fill: #D2E3FC;\n",
              "  }\n",
              "\n",
              "  [theme=dark] .colab-df-quickchart:hover {\n",
              "    background-color: #434B5C;\n",
              "    box-shadow: 0px 1px 3px 1px rgba(0, 0, 0, 0.15);\n",
              "    filter: drop-shadow(0px 1px 2px rgba(0, 0, 0, 0.3));\n",
              "    fill: #FFFFFF;\n",
              "  }\n",
              "</style>\n",
              "\n",
              "  <script>\n",
              "    async function quickchart(key) {\n",
              "      const charts = await google.colab.kernel.invokeFunction(\n",
              "          'suggestCharts', [key], {});\n",
              "    }\n",
              "    (() => {\n",
              "      let quickchartButtonEl =\n",
              "        document.querySelector('#df-f30215ba-287e-4ec2-9e5d-d69a14773934 button');\n",
              "      quickchartButtonEl.style.display =\n",
              "        google.colab.kernel.accessAllowed ? 'block' : 'none';\n",
              "    })();\n",
              "  </script>\n",
              "</div>\n",
              "    </div>\n",
              "  </div>\n"
            ]
          },
          "metadata": {},
          "execution_count": 15
        }
      ]
    },
    {
      "cell_type": "code",
      "source": [
        "test_set = datacleen(test_set)\n",
        "test_set"
      ],
      "metadata": {
        "id": "MStM4hriIHxs",
        "colab": {
          "base_uri": "https://localhost:8080/",
          "height": 915
        },
        "outputId": "32389103-c598-4075-8471-c529933783b2"
      },
      "execution_count": 16,
      "outputs": [
        {
          "output_type": "stream",
          "name": "stderr",
          "text": [
            "Cleaning Data Phase I...: 100%|██████████| 654/654 [00:00<00:00, 156229.34it/s]\n",
            "removing emoji...: 100%|██████████| 654/654 [00:00<00:00, 110795.49it/s]\n",
            "removing punctuation...: 100%|██████████| 654/654 [00:00<00:00, 44293.87it/s]\n",
            "Tokenizing Data...: 100%|██████████| 654/654 [00:00<00:00, 5878.97it/s]\n",
            "Cleaning Data Phase II...: 100%|██████████| 654/654 [00:02<00:00, 307.38it/s]\n"
          ]
        },
        {
          "output_type": "execute_result",
          "data": {
            "text/plain": [
              "               id                                               text category  \\\n",
              "0      tam_test_1  தலைவா STR இதுக்குதான் கதுருந்தோம் மாஸ் தலைவா t...      NOT   \n",
              "1      tam_test_2  நாயுடு மக்கள் சார்பாக திரைப்படம் வெற்றி பெற வா...      NOT   \n",
              "2      tam_test_3                     தில்லானா முயற்சி  தஞ்சை கோனார்      NOT   \n",
              "3      tam_test_4  திரௌபதியின் துகிலுறித்த போது காத்த கண்ணனின் யா...      NOT   \n",
              "4      tam_test_5  நான் தியேட்டர்லே படம் பார்த்து 35 வருஷமாச்சு! ...      NOT   \n",
              "..            ...                                                ...      ...   \n",
              "649  tam_test_650  நான் தலைவரோட ரசிகன்னு சொல்லிடு தலைவரை ஒடசல் போ...      OFF   \n",
              "650  tam_test_651  வாழ்த்துக்கள்,உண்மை கதை உலகத்துக்கு காட்டிய மோ...      NOT   \n",
              "651  tam_test_652  குருமா and பா..குஞ்சித் பயலுக கதர்ரது இன்னும் ...      OFF   \n",
              "652  tam_test_653  வெள்ளார்கள் சார்பாக படம் வெற்றி பெற வாழ்த்துக்...      NOT   \n",
              "653  tam_test_654  சமீபகாலமாக கால்பந்தாட்டத்தை மையப்படுத்தி தமிழ்...      NOT   \n",
              "\n",
              "                                   take_data_to_shower  \\\n",
              "0    தலைவா STR இதுக்குதான் கதுருந்தோம் மாஸ் தலைவா t...   \n",
              "1    நாயுடு மக்கள் சார்பாக திரைப்படம் வெற்றி பெற வா...   \n",
              "2                       தில்லானா முயற்சி  தஞ்சை கோனார்   \n",
              "3    திரௌபதியின் துகிலுறித்த போது காத்த கண்ணனின் யா...   \n",
              "4    நான் தியேட்டர்லே படம் பார்த்து 35 வருஷமாச்சு! ...   \n",
              "..                                                 ...   \n",
              "649  நான் தலைவரோட ரசிகன்னு சொல்லிடு தலைவரை ஒடசல் போ...   \n",
              "650  வாழ்த்துக்கள்,உண்மை கதை உலகத்துக்கு காட்டிய மோ...   \n",
              "651  குருமா and பா..குஞ்சித் பயலுக கதர்ரது இன்னும் ...   \n",
              "652  வெள்ளார்கள் சார்பாக படம் வெற்றி பெற வாழ்த்துக்...   \n",
              "653  சமீபகாலமாக கால்பந்தாட்டத்தை மையப்படுத்தி தமிழ்...   \n",
              "\n",
              "                                       remove_emoticon  \\\n",
              "0    தலைவா STR இதுக்குதான் கதுருந்தோம் மாஸ் தலைவா t...   \n",
              "1    நாயுடு மக்கள் சார்பாக திரைப்படம் வெற்றி பெற வா...   \n",
              "2                       தில்லானா முயற்சி  தஞ்சை கோனார்   \n",
              "3    திரௌபதியின் துகிலுறித்த போது காத்த கண்ணனின் யா...   \n",
              "4    நான் தியேட்டர்லே படம் பார்த்து 35 வருஷமாச்சு! ...   \n",
              "..                                                 ...   \n",
              "649  நான் தலைவரோட ரசிகன்னு சொல்லிடு தலைவரை ஒடசல் போ...   \n",
              "650  வாழ்த்துக்கள்,உண்மை கதை உலகத்துக்கு காட்டிய மோ...   \n",
              "651  குருமா and பா..குஞ்சித் பயலுக கதர்ரது இன்னும் ...   \n",
              "652  வெள்ளார்கள் சார்பாக படம் வெற்றி பெற வாழ்த்துக்...   \n",
              "653  சமீபகாலமாக கால்பந்தாட்டத்தை மையப்படுத்தி தமிழ்...   \n",
              "\n",
              "                                           remove_punc  \\\n",
              "0    தலைவா STR இதுக்குதான் கதுருந்தோம் மாஸ் தலைவா t...   \n",
              "1    நாயுடு மக்கள் சார்பாக திரைப்படம் வெற்றி பெற வா...   \n",
              "2                       தில்லானா முயற்சி  தஞ்சை கோனார்   \n",
              "3    திரௌபதியின் துகிலுறித்த போது காத்த கண்ணனின் யா...   \n",
              "4    நான் தியேட்டர்லே படம் பார்த்து 35 வருஷமாச்சு எ...   \n",
              "..                                                 ...   \n",
              "649  நான் தலைவரோட ரசிகன்னு சொல்லிடு தலைவரை ஒடசல் போ...   \n",
              "650  வாழ்த்துக்கள்உண்மை கதை உலகத்துக்கு காட்டிய மோக...   \n",
              "651  குருமா and பாகுஞ்சித் பயலுக கதர்ரது இன்னும் பத...   \n",
              "652  வெள்ளார்கள் சார்பாக படம் வெற்றி பெற வாழ்த்துக்கள்   \n",
              "653  சமீபகாலமாக கால்பந்தாட்டத்தை மையப்படுத்தி தமிழ்...   \n",
              "\n",
              "                                              tokenize  \\\n",
              "0    [தலைவா, str, இதுக்குதான், கதுருந்தோம், மாஸ், த...   \n",
              "1    [நாயுடு, மக்கள், சார்பாக, திரைப்படம், வெற்றி, ...   \n",
              "2                   [தில்லானா, முயற்சி, தஞ்சை, கோனார்]   \n",
              "3    [திரௌபதியின், துகிலுறித்த, போது, காத்த, கண்ணனி...   \n",
              "4    [நான், தியேட்டர்லே, படம், பார்த்து, 35, வருஷமா...   \n",
              "..                                                 ...   \n",
              "649  [நான், தலைவரோட, ரசிகன்னு, சொல்லிடு, தலைவரை, ஒட...   \n",
              "650  [வாழ்த்துக்கள்உண்மை, கதை, உலகத்துக்கு, காட்டிய...   \n",
              "651  [குருமா, and, பாகுஞ்சித், பயலுக, கதர்ரது, இன்ன...   \n",
              "652  [வெள்ளார்கள், சார்பாக, படம், வெற்றி, பெற, வாழ்...   \n",
              "653  [சமீபகாலமாக, கால்பந்தாட்டத்தை, மையப்படுத்தி, த...   \n",
              "\n",
              "                                     remove_stop_words  \n",
              "0    தலைவா str இதுக்குதான் கதுருந்தோம் மாஸ் தலைவா t...  \n",
              "1    நாயுடு மக்கள் சார்பாக திரைப்படம் வெற்றி பெற வா...  \n",
              "2                        தில்லானா முயற்சி தஞ்சை கோனார்  \n",
              "3    திரௌபதியின் துகிலுறித்த போது காத்த கண்ணனின் யா...  \n",
              "4    நான் தியேட்டர்லே படம் பார்த்து 35 வருஷமாச்சு எ...  \n",
              "..                                                 ...  \n",
              "649  நான் தலைவரோட ரசிகன்னு சொல்லிடு தலைவரை ஒடசல் போ...  \n",
              "650  வாழ்த்துக்கள்உண்மை கதை உலகத்துக்கு காட்டிய மோக...  \n",
              "651  குருமா பாகுஞ்சித் பயலுக கதர்ரது இன்னும் பத்தலை...  \n",
              "652  வெள்ளார்கள் சார்பாக படம் வெற்றி பெற வாழ்த்துக்கள்  \n",
              "653  சமீபகாலமாக கால்பந்தாட்டத்தை மையப்படுத்தி தமிழ்...  \n",
              "\n",
              "[654 rows x 8 columns]"
            ],
            "text/html": [
              "\n",
              "  <div id=\"df-3caeb427-730e-4c6e-bff5-bb6bd9e99536\" class=\"colab-df-container\">\n",
              "    <div>\n",
              "<style scoped>\n",
              "    .dataframe tbody tr th:only-of-type {\n",
              "        vertical-align: middle;\n",
              "    }\n",
              "\n",
              "    .dataframe tbody tr th {\n",
              "        vertical-align: top;\n",
              "    }\n",
              "\n",
              "    .dataframe thead th {\n",
              "        text-align: right;\n",
              "    }\n",
              "</style>\n",
              "<table border=\"1\" class=\"dataframe\">\n",
              "  <thead>\n",
              "    <tr style=\"text-align: right;\">\n",
              "      <th></th>\n",
              "      <th>id</th>\n",
              "      <th>text</th>\n",
              "      <th>category</th>\n",
              "      <th>take_data_to_shower</th>\n",
              "      <th>remove_emoticon</th>\n",
              "      <th>remove_punc</th>\n",
              "      <th>tokenize</th>\n",
              "      <th>remove_stop_words</th>\n",
              "    </tr>\n",
              "  </thead>\n",
              "  <tbody>\n",
              "    <tr>\n",
              "      <th>0</th>\n",
              "      <td>tam_test_1</td>\n",
              "      <td>தலைவா STR இதுக்குதான் கதுருந்தோம் மாஸ் தலைவா t...</td>\n",
              "      <td>NOT</td>\n",
              "      <td>தலைவா STR இதுக்குதான் கதுருந்தோம் மாஸ் தலைவா t...</td>\n",
              "      <td>தலைவா STR இதுக்குதான் கதுருந்தோம் மாஸ் தலைவா t...</td>\n",
              "      <td>தலைவா STR இதுக்குதான் கதுருந்தோம் மாஸ் தலைவா t...</td>\n",
              "      <td>[தலைவா, str, இதுக்குதான், கதுருந்தோம், மாஸ், த...</td>\n",
              "      <td>தலைவா str இதுக்குதான் கதுருந்தோம் மாஸ் தலைவா t...</td>\n",
              "    </tr>\n",
              "    <tr>\n",
              "      <th>1</th>\n",
              "      <td>tam_test_2</td>\n",
              "      <td>நாயுடு மக்கள் சார்பாக திரைப்படம் வெற்றி பெற வா...</td>\n",
              "      <td>NOT</td>\n",
              "      <td>நாயுடு மக்கள் சார்பாக திரைப்படம் வெற்றி பெற வா...</td>\n",
              "      <td>நாயுடு மக்கள் சார்பாக திரைப்படம் வெற்றி பெற வா...</td>\n",
              "      <td>நாயுடு மக்கள் சார்பாக திரைப்படம் வெற்றி பெற வா...</td>\n",
              "      <td>[நாயுடு, மக்கள், சார்பாக, திரைப்படம், வெற்றி, ...</td>\n",
              "      <td>நாயுடு மக்கள் சார்பாக திரைப்படம் வெற்றி பெற வா...</td>\n",
              "    </tr>\n",
              "    <tr>\n",
              "      <th>2</th>\n",
              "      <td>tam_test_3</td>\n",
              "      <td>தில்லானா முயற்சி  தஞ்சை கோனார்</td>\n",
              "      <td>NOT</td>\n",
              "      <td>தில்லானா முயற்சி  தஞ்சை கோனார்</td>\n",
              "      <td>தில்லானா முயற்சி  தஞ்சை கோனார்</td>\n",
              "      <td>தில்லானா முயற்சி  தஞ்சை கோனார்</td>\n",
              "      <td>[தில்லானா, முயற்சி, தஞ்சை, கோனார்]</td>\n",
              "      <td>தில்லானா முயற்சி தஞ்சை கோனார்</td>\n",
              "    </tr>\n",
              "    <tr>\n",
              "      <th>3</th>\n",
              "      <td>tam_test_4</td>\n",
              "      <td>திரௌபதியின் துகிலுறித்த போது காத்த கண்ணனின் யா...</td>\n",
              "      <td>NOT</td>\n",
              "      <td>திரௌபதியின் துகிலுறித்த போது காத்த கண்ணனின் யா...</td>\n",
              "      <td>திரௌபதியின் துகிலுறித்த போது காத்த கண்ணனின் யா...</td>\n",
              "      <td>திரௌபதியின் துகிலுறித்த போது காத்த கண்ணனின் யா...</td>\n",
              "      <td>[திரௌபதியின், துகிலுறித்த, போது, காத்த, கண்ணனி...</td>\n",
              "      <td>திரௌபதியின் துகிலுறித்த போது காத்த கண்ணனின் யா...</td>\n",
              "    </tr>\n",
              "    <tr>\n",
              "      <th>4</th>\n",
              "      <td>tam_test_5</td>\n",
              "      <td>நான் தியேட்டர்லே படம் பார்த்து 35 வருஷமாச்சு! ...</td>\n",
              "      <td>NOT</td>\n",
              "      <td>நான் தியேட்டர்லே படம் பார்த்து 35 வருஷமாச்சு! ...</td>\n",
              "      <td>நான் தியேட்டர்லே படம் பார்த்து 35 வருஷமாச்சு! ...</td>\n",
              "      <td>நான் தியேட்டர்லே படம் பார்த்து 35 வருஷமாச்சு எ...</td>\n",
              "      <td>[நான், தியேட்டர்லே, படம், பார்த்து, 35, வருஷமா...</td>\n",
              "      <td>நான் தியேட்டர்லே படம் பார்த்து 35 வருஷமாச்சு எ...</td>\n",
              "    </tr>\n",
              "    <tr>\n",
              "      <th>...</th>\n",
              "      <td>...</td>\n",
              "      <td>...</td>\n",
              "      <td>...</td>\n",
              "      <td>...</td>\n",
              "      <td>...</td>\n",
              "      <td>...</td>\n",
              "      <td>...</td>\n",
              "      <td>...</td>\n",
              "    </tr>\n",
              "    <tr>\n",
              "      <th>649</th>\n",
              "      <td>tam_test_650</td>\n",
              "      <td>நான் தலைவரோட ரசிகன்னு சொல்லிடு தலைவரை ஒடசல் போ...</td>\n",
              "      <td>OFF</td>\n",
              "      <td>நான் தலைவரோட ரசிகன்னு சொல்லிடு தலைவரை ஒடசல் போ...</td>\n",
              "      <td>நான் தலைவரோட ரசிகன்னு சொல்லிடு தலைவரை ஒடசல் போ...</td>\n",
              "      <td>நான் தலைவரோட ரசிகன்னு சொல்லிடு தலைவரை ஒடசல் போ...</td>\n",
              "      <td>[நான், தலைவரோட, ரசிகன்னு, சொல்லிடு, தலைவரை, ஒட...</td>\n",
              "      <td>நான் தலைவரோட ரசிகன்னு சொல்லிடு தலைவரை ஒடசல் போ...</td>\n",
              "    </tr>\n",
              "    <tr>\n",
              "      <th>650</th>\n",
              "      <td>tam_test_651</td>\n",
              "      <td>வாழ்த்துக்கள்,உண்மை கதை உலகத்துக்கு காட்டிய மோ...</td>\n",
              "      <td>NOT</td>\n",
              "      <td>வாழ்த்துக்கள்,உண்மை கதை உலகத்துக்கு காட்டிய மோ...</td>\n",
              "      <td>வாழ்த்துக்கள்,உண்மை கதை உலகத்துக்கு காட்டிய மோ...</td>\n",
              "      <td>வாழ்த்துக்கள்உண்மை கதை உலகத்துக்கு காட்டிய மோக...</td>\n",
              "      <td>[வாழ்த்துக்கள்உண்மை, கதை, உலகத்துக்கு, காட்டிய...</td>\n",
              "      <td>வாழ்த்துக்கள்உண்மை கதை உலகத்துக்கு காட்டிய மோக...</td>\n",
              "    </tr>\n",
              "    <tr>\n",
              "      <th>651</th>\n",
              "      <td>tam_test_652</td>\n",
              "      <td>குருமா and பா..குஞ்சித் பயலுக கதர்ரது இன்னும் ...</td>\n",
              "      <td>OFF</td>\n",
              "      <td>குருமா and பா..குஞ்சித் பயலுக கதர்ரது இன்னும் ...</td>\n",
              "      <td>குருமா and பா..குஞ்சித் பயலுக கதர்ரது இன்னும் ...</td>\n",
              "      <td>குருமா and பாகுஞ்சித் பயலுக கதர்ரது இன்னும் பத...</td>\n",
              "      <td>[குருமா, and, பாகுஞ்சித், பயலுக, கதர்ரது, இன்ன...</td>\n",
              "      <td>குருமா பாகுஞ்சித் பயலுக கதர்ரது இன்னும் பத்தலை...</td>\n",
              "    </tr>\n",
              "    <tr>\n",
              "      <th>652</th>\n",
              "      <td>tam_test_653</td>\n",
              "      <td>வெள்ளார்கள் சார்பாக படம் வெற்றி பெற வாழ்த்துக்...</td>\n",
              "      <td>NOT</td>\n",
              "      <td>வெள்ளார்கள் சார்பாக படம் வெற்றி பெற வாழ்த்துக்...</td>\n",
              "      <td>வெள்ளார்கள் சார்பாக படம் வெற்றி பெற வாழ்த்துக்...</td>\n",
              "      <td>வெள்ளார்கள் சார்பாக படம் வெற்றி பெற வாழ்த்துக்கள்</td>\n",
              "      <td>[வெள்ளார்கள், சார்பாக, படம், வெற்றி, பெற, வாழ்...</td>\n",
              "      <td>வெள்ளார்கள் சார்பாக படம் வெற்றி பெற வாழ்த்துக்கள்</td>\n",
              "    </tr>\n",
              "    <tr>\n",
              "      <th>653</th>\n",
              "      <td>tam_test_654</td>\n",
              "      <td>சமீபகாலமாக கால்பந்தாட்டத்தை மையப்படுத்தி தமிழ்...</td>\n",
              "      <td>NOT</td>\n",
              "      <td>சமீபகாலமாக கால்பந்தாட்டத்தை மையப்படுத்தி தமிழ்...</td>\n",
              "      <td>சமீபகாலமாக கால்பந்தாட்டத்தை மையப்படுத்தி தமிழ்...</td>\n",
              "      <td>சமீபகாலமாக கால்பந்தாட்டத்தை மையப்படுத்தி தமிழ்...</td>\n",
              "      <td>[சமீபகாலமாக, கால்பந்தாட்டத்தை, மையப்படுத்தி, த...</td>\n",
              "      <td>சமீபகாலமாக கால்பந்தாட்டத்தை மையப்படுத்தி தமிழ்...</td>\n",
              "    </tr>\n",
              "  </tbody>\n",
              "</table>\n",
              "<p>654 rows × 8 columns</p>\n",
              "</div>\n",
              "    <div class=\"colab-df-buttons\">\n",
              "\n",
              "  <div class=\"colab-df-container\">\n",
              "    <button class=\"colab-df-convert\" onclick=\"convertToInteractive('df-3caeb427-730e-4c6e-bff5-bb6bd9e99536')\"\n",
              "            title=\"Convert this dataframe to an interactive table.\"\n",
              "            style=\"display:none;\">\n",
              "\n",
              "  <svg xmlns=\"http://www.w3.org/2000/svg\" height=\"24px\" viewBox=\"0 -960 960 960\">\n",
              "    <path d=\"M120-120v-720h720v720H120Zm60-500h600v-160H180v160Zm220 220h160v-160H400v160Zm0 220h160v-160H400v160ZM180-400h160v-160H180v160Zm440 0h160v-160H620v160ZM180-180h160v-160H180v160Zm440 0h160v-160H620v160Z\"/>\n",
              "  </svg>\n",
              "    </button>\n",
              "\n",
              "  <style>\n",
              "    .colab-df-container {\n",
              "      display:flex;\n",
              "      gap: 12px;\n",
              "    }\n",
              "\n",
              "    .colab-df-convert {\n",
              "      background-color: #E8F0FE;\n",
              "      border: none;\n",
              "      border-radius: 50%;\n",
              "      cursor: pointer;\n",
              "      display: none;\n",
              "      fill: #1967D2;\n",
              "      height: 32px;\n",
              "      padding: 0 0 0 0;\n",
              "      width: 32px;\n",
              "    }\n",
              "\n",
              "    .colab-df-convert:hover {\n",
              "      background-color: #E2EBFA;\n",
              "      box-shadow: 0px 1px 2px rgba(60, 64, 67, 0.3), 0px 1px 3px 1px rgba(60, 64, 67, 0.15);\n",
              "      fill: #174EA6;\n",
              "    }\n",
              "\n",
              "    .colab-df-buttons div {\n",
              "      margin-bottom: 4px;\n",
              "    }\n",
              "\n",
              "    [theme=dark] .colab-df-convert {\n",
              "      background-color: #3B4455;\n",
              "      fill: #D2E3FC;\n",
              "    }\n",
              "\n",
              "    [theme=dark] .colab-df-convert:hover {\n",
              "      background-color: #434B5C;\n",
              "      box-shadow: 0px 1px 3px 1px rgba(0, 0, 0, 0.15);\n",
              "      filter: drop-shadow(0px 1px 2px rgba(0, 0, 0, 0.3));\n",
              "      fill: #FFFFFF;\n",
              "    }\n",
              "  </style>\n",
              "\n",
              "    <script>\n",
              "      const buttonEl =\n",
              "        document.querySelector('#df-3caeb427-730e-4c6e-bff5-bb6bd9e99536 button.colab-df-convert');\n",
              "      buttonEl.style.display =\n",
              "        google.colab.kernel.accessAllowed ? 'block' : 'none';\n",
              "\n",
              "      async function convertToInteractive(key) {\n",
              "        const element = document.querySelector('#df-3caeb427-730e-4c6e-bff5-bb6bd9e99536');\n",
              "        const dataTable =\n",
              "          await google.colab.kernel.invokeFunction('convertToInteractive',\n",
              "                                                    [key], {});\n",
              "        if (!dataTable) return;\n",
              "\n",
              "        const docLinkHtml = 'Like what you see? Visit the ' +\n",
              "          '<a target=\"_blank\" href=https://colab.research.google.com/notebooks/data_table.ipynb>data table notebook</a>'\n",
              "          + ' to learn more about interactive tables.';\n",
              "        element.innerHTML = '';\n",
              "        dataTable['output_type'] = 'display_data';\n",
              "        await google.colab.output.renderOutput(dataTable, element);\n",
              "        const docLink = document.createElement('div');\n",
              "        docLink.innerHTML = docLinkHtml;\n",
              "        element.appendChild(docLink);\n",
              "      }\n",
              "    </script>\n",
              "  </div>\n",
              "\n",
              "\n",
              "<div id=\"df-5c4e0101-b9be-4ea2-b5ec-4ee7885be8dd\">\n",
              "  <button class=\"colab-df-quickchart\" onclick=\"quickchart('df-5c4e0101-b9be-4ea2-b5ec-4ee7885be8dd')\"\n",
              "            title=\"Suggest charts.\"\n",
              "            style=\"display:none;\">\n",
              "\n",
              "<svg xmlns=\"http://www.w3.org/2000/svg\" height=\"24px\"viewBox=\"0 0 24 24\"\n",
              "     width=\"24px\">\n",
              "    <g>\n",
              "        <path d=\"M19 3H5c-1.1 0-2 .9-2 2v14c0 1.1.9 2 2 2h14c1.1 0 2-.9 2-2V5c0-1.1-.9-2-2-2zM9 17H7v-7h2v7zm4 0h-2V7h2v10zm4 0h-2v-4h2v4z\"/>\n",
              "    </g>\n",
              "</svg>\n",
              "  </button>\n",
              "\n",
              "<style>\n",
              "  .colab-df-quickchart {\n",
              "    background-color: #E8F0FE;\n",
              "    border: none;\n",
              "    border-radius: 50%;\n",
              "    cursor: pointer;\n",
              "    display: none;\n",
              "    fill: #1967D2;\n",
              "    height: 32px;\n",
              "    padding: 0 0 0 0;\n",
              "    width: 32px;\n",
              "  }\n",
              "\n",
              "  .colab-df-quickchart:hover {\n",
              "    background-color: #E2EBFA;\n",
              "    box-shadow: 0px 1px 2px rgba(60, 64, 67, 0.3), 0px 1px 3px 1px rgba(60, 64, 67, 0.15);\n",
              "    fill: #174EA6;\n",
              "  }\n",
              "\n",
              "  [theme=dark] .colab-df-quickchart {\n",
              "    background-color: #3B4455;\n",
              "    fill: #D2E3FC;\n",
              "  }\n",
              "\n",
              "  [theme=dark] .colab-df-quickchart:hover {\n",
              "    background-color: #434B5C;\n",
              "    box-shadow: 0px 1px 3px 1px rgba(0, 0, 0, 0.15);\n",
              "    filter: drop-shadow(0px 1px 2px rgba(0, 0, 0, 0.3));\n",
              "    fill: #FFFFFF;\n",
              "  }\n",
              "</style>\n",
              "\n",
              "  <script>\n",
              "    async function quickchart(key) {\n",
              "      const charts = await google.colab.kernel.invokeFunction(\n",
              "          'suggestCharts', [key], {});\n",
              "    }\n",
              "    (() => {\n",
              "      let quickchartButtonEl =\n",
              "        document.querySelector('#df-5c4e0101-b9be-4ea2-b5ec-4ee7885be8dd button');\n",
              "      quickchartButtonEl.style.display =\n",
              "        google.colab.kernel.accessAllowed ? 'block' : 'none';\n",
              "    })();\n",
              "  </script>\n",
              "</div>\n",
              "    </div>\n",
              "  </div>\n"
            ]
          },
          "metadata": {},
          "execution_count": 16
        }
      ]
    },
    {
      "cell_type": "code",
      "source": [
        "from sklearn.feature_extraction.text import CountVectorizer, TfidfVectorizer\n",
        "from gensim.models import Word2Vec\n",
        "from sklearn.naive_bayes import BernoulliNB\n",
        "from sklearn.svm import SVC\n",
        "from sklearn.linear_model import LogisticRegression\n",
        "from sklearn.neighbors import KNeighborsClassifier\n",
        "from sklearn.ensemble import RandomForestClassifier\n",
        "from sklearn.tree import DecisionTreeClassifier\n",
        "from sklearn.metrics import accuracy_score, classification_report, confusion_matrix\n",
        "import matplotlib.pyplot as plt\n",
        "import seaborn as sns"
      ],
      "metadata": {
        "id": "YYefNJR29DBF"
      },
      "execution_count": null,
      "outputs": []
    },
    {
      "cell_type": "code",
      "source": [
        "def show_confusion_matrix(matrixs,Classifier_text):\n",
        "  plt.figure(figsize=(8, 6))\n",
        "  sns.heatmap(matrixs, annot=True, fmt='d', cmap='Blues', cbar=False)\n",
        "  plt.xlabel('Predicted Labels')\n",
        "  plt.ylabel('True Labels')\n",
        "  plt.title(f'Confusion Matrix -{Classifier_text}')\n",
        "  plt.show()"
      ],
      "metadata": {
        "id": "6YrDT3x5_9mk"
      },
      "execution_count": 17,
      "outputs": []
    },
    {
      "cell_type": "code",
      "source": [],
      "metadata": {
        "id": "kyzkIBbI799g"
      },
      "execution_count": null,
      "outputs": []
    },
    {
      "cell_type": "markdown",
      "source": [
        "## new test word2vec"
      ],
      "metadata": {
        "id": "IypCbxmL0z2p"
      }
    },
    {
      "cell_type": "code",
      "source": [
        "from sklearn.metrics import accuracy_score, classification_report, confusion_matrix\n",
        "from sklearn.naive_bayes import BernoulliNB\n",
        "from sklearn.svm import SVC\n",
        "from sklearn.linear_model import LogisticRegression\n",
        "from sklearn.neighbors import KNeighborsClassifier\n",
        "from sklearn.ensemble import RandomForestClassifier\n",
        "from sklearn.tree import DecisionTreeClassifier\n",
        "from sklearn.feature_extraction.text import CountVectorizer, TfidfVectorizer\n",
        "from gensim.models import Word2Vec\n",
        "import matplotlib.pyplot as plt\n",
        "import seaborn as sns\n",
        "import numpy as np\n"
      ],
      "metadata": {
        "id": "4hFy9mec1Bpa"
      },
      "execution_count": 23,
      "outputs": []
    },
    {
      "cell_type": "code",
      "source": [
        "def show_confusion_matrix(matrixs,Classifier_text):\n",
        "  plt.figure(figsize=(8, 6))\n",
        "  sns.heatmap(matrixs, annot=True, fmt='d', cmap='Blues', cbar=False)\n",
        "  plt.xlabel('Predicted Labels')\n",
        "  plt.ylabel('True Labels')\n",
        "  plt.title(f'Confusion Matrix -{Classifier_text}')\n",
        "  plt.show()"
      ],
      "metadata": {
        "id": "T5h3o18KA6Ef"
      },
      "execution_count": null,
      "outputs": []
    },
    {
      "cell_type": "code",
      "source": [
        "# Define your Word2Vec model\n",
        "def train_word2vec(sentences, vector_size=100, window=5, min_count=1, workers=4):\n",
        "    model = Word2Vec(sentences, vector_size=vector_size, window=window, min_count=min_count, workers=workers)\n",
        "    return model\n",
        "\n",
        "def document_vector(model, words):\n",
        "    # Create a document vector by averaging word vectors\n",
        "    vectors = [model.wv[word] for word in words if word in model.wv]\n",
        "    return np.mean(vectors, axis=0) if vectors else np.zeros(model.vector_size)\n",
        "\n",
        "def perform_classification(feature_extraction_type, X_train, X_test, y_train, y_test):\n",
        "    if feature_extraction_type == \"BOW\":\n",
        "        vectorizer = CountVectorizer()\n",
        "    elif feature_extraction_type == \"TF-IDF\":\n",
        "        vectorizer = TfidfVectorizer()\n",
        "    elif feature_extraction_type == \"Word2Vec\":\n",
        "        # Train Word2Vec model on your training data\n",
        "        sentences = [text.split() for text in X_train]\n",
        "        w2v_model = train_word2vec(sentences)\n",
        "\n",
        "    if feature_extraction_type == \"Word2Vec\":\n",
        "        X_train_fs = np.array([document_vector(w2v_model, text.split()) for text in X_train])\n",
        "        X_test_fs = np.array([document_vector(w2v_model, text.split()) for text in X_test])\n",
        "    else:\n",
        "        X_train_fs = vectorizer.fit_transform(X_train)\n",
        "        X_test_fs = vectorizer.transform(X_test)\n",
        "\n",
        "    classifiers = [\n",
        "        (\"Bernoulli NB\", BernoulliNB()),\n",
        "        (\"SVM\", SVC(kernel='linear')),\n",
        "        (\"Logistic Regression\", LogisticRegression()),\n",
        "        (\"KNN\", KNeighborsClassifier(n_neighbors=5)),\n",
        "        (\"RandomForest\", RandomForestClassifier(n_estimators=100)),\n",
        "        (\"Decision Tree\", DecisionTreeClassifier())\n",
        "    ]\n",
        "\n",
        "    for classifier_name, classifier in classifiers:\n",
        "        classifier.fit(X_train_fs, y_train)\n",
        "        train_predictions = classifier.predict(X_train_fs)\n",
        "        train_accuracy = accuracy_score(y_train, train_predictions)\n",
        "\n",
        "        predictions = classifier.predict(X_test_fs)\n",
        "        accuracy = accuracy_score(y_test, predictions)\n",
        "        report = classification_report(y_test, predictions,zero_division =0)\n",
        "\n",
        "        print(f\"{classifier_name} Train Accuracy ({feature_extraction_type}): {train_accuracy:.2f}\")\n",
        "        print(f\"{classifier_name} Test Accuracy ({feature_extraction_type}): {accuracy:.2f}\")\n",
        "        print(f\"{classifier_name} Classification Report ({feature_extraction_type}):\\n{report}\")\n",
        "        show_confusion_matrix(confusion_matrix(y_test, predictions),classifier_name)\n",
        "        print(f\"{classifier_name} Confusion Matrix ({feature_extraction_type})\")\n",
        "        print(\"\\n\\n\")\n",
        "\n",
        "        # classifier.fit(X_train_fs, y_train)\n",
        "        # predictions = classifier.predict(X_test_fs)\n",
        "        # accuracy = accuracy_score(y_test, predictions)\n",
        "        # report = classification_report(y_test, predictions)\n",
        "\n",
        "        # print(f\"{classifier_name} Accuracy ({feature_extraction_type}): {accuracy:.2f}\")\n",
        "        # print(f\"{classifier_name} Classification Report ({feature_extraction_type}):\\n{report}\")\n",
        "        # confusion = confusion_matrix(y_test, predictions)\n",
        "        # print(f\"{classifier_name} Confusion Matrix ({feature_extraction_type}):\\n{confusion}\")\n",
        "        # print(\"\\n\\n\")\n",
        "\n",
        "\n",
        "\n"
      ],
      "metadata": {
        "id": "xjOKDKJe0zI6"
      },
      "execution_count": 35,
      "outputs": []
    },
    {
      "cell_type": "code",
      "source": [
        "# Call the function with the desired feature extraction method\n",
        "perform_classification(\"Word2Vec\", train_set['text'],test_set['text'], train_set['category'],test_set['category'])"
      ],
      "metadata": {
        "id": "mJzXuGcehp13",
        "colab": {
          "base_uri": "https://localhost:8080/",
          "height": 1000
        },
        "outputId": "b5dd92b3-cb4e-426a-dd76-ed40800ca295"
      },
      "execution_count": 36,
      "outputs": [
        {
          "output_type": "stream",
          "name": "stdout",
          "text": [
            "Bernoulli NB Train Accuracy (Word2Vec): 0.52\n",
            "Bernoulli NB Test Accuracy (Word2Vec): 0.53\n",
            "Bernoulli NB Classification Report (Word2Vec):\n",
            "              precision    recall  f1-score   support\n",
            "\n",
            "         NOT       0.93      0.46      0.62       536\n",
            "         OFF       0.26      0.84      0.39       118\n",
            "\n",
            "    accuracy                           0.53       654\n",
            "   macro avg       0.59      0.65      0.51       654\n",
            "weighted avg       0.81      0.53      0.58       654\n",
            "\n"
          ]
        },
        {
          "output_type": "display_data",
          "data": {
            "text/plain": [
              "<Figure size 800x600 with 1 Axes>"
            ],
            "image/png": "[encoded data removed]"
          },
          "metadata": {}
        },
        {
          "output_type": "stream",
          "name": "stdout",
          "text": [
            "Bernoulli NB Confusion Matrix (Word2Vec)\n",
            "\n",
            "\n",
            "\n",
            "SVM Train Accuracy (Word2Vec): 0.80\n",
            "SVM Test Accuracy (Word2Vec): 0.82\n",
            "SVM Classification Report (Word2Vec):\n",
            "              precision    recall  f1-score   support\n",
            "\n",
            "         NOT       0.82      1.00      0.90       536\n",
            "         OFF       0.00      0.00      0.00       118\n",
            "\n",
            "    accuracy                           0.82       654\n",
            "   macro avg       0.41      0.50      0.45       654\n",
            "weighted avg       0.67      0.82      0.74       654\n",
            "\n"
          ]
        },
        {
          "output_type": "display_data",
          "data": {
            "text/plain": [
              "<Figure size 800x600 with 1 Axes>"
            ],
            "image/png": "[encoded data removed]"
          },
          "metadata": {}
        },
        {
          "output_type": "stream",
          "name": "stdout",
          "text": [
            "SVM Confusion Matrix (Word2Vec)\n",
            "\n",
            "\n",
            "\n",
            "Logistic Regression Train Accuracy (Word2Vec): 0.80\n",
            "Logistic Regression Test Accuracy (Word2Vec): 0.82\n",
            "Logistic Regression Classification Report (Word2Vec):\n",
            "              precision    recall  f1-score   support\n",
            "\n",
            "         NOT       0.82      1.00      0.90       536\n",
            "         OFF       0.00      0.00      0.00       118\n",
            "\n",
            "    accuracy                           0.82       654\n",
            "   macro avg       0.41      0.50      0.45       654\n",
            "weighted avg       0.67      0.82      0.74       654\n",
            "\n"
          ]
        },
        {
          "output_type": "display_data",
          "data": {
            "text/plain": [
              "<Figure size 800x600 with 1 Axes>"
            ],
            "image/png": "[encoded data removed]"
          },
          "metadata": {}
        },
        {
          "output_type": "stream",
          "name": "stdout",
          "text": [
            "Logistic Regression Confusion Matrix (Word2Vec)\n",
            "\n",
            "\n",
            "\n",
            "KNN Train Accuracy (Word2Vec): 0.84\n",
            "KNN Test Accuracy (Word2Vec): 0.81\n",
            "KNN Classification Report (Word2Vec):\n",
            "              precision    recall  f1-score   support\n",
            "\n",
            "         NOT       0.85      0.93      0.89       536\n",
            "         OFF       0.46      0.28      0.35       118\n",
            "\n",
            "    accuracy                           0.81       654\n",
            "   macro avg       0.66      0.60      0.62       654\n",
            "weighted avg       0.78      0.81      0.79       654\n",
            "\n"
          ]
        },
        {
          "output_type": "display_data",
          "data": {
            "text/plain": [
              "<Figure size 800x600 with 1 Axes>"
            ],
            "image/png": "[encoded data removed]"
          },
          "metadata": {}
        },
        {
          "output_type": "stream",
          "name": "stdout",
          "text": [
            "KNN Confusion Matrix (Word2Vec)\n",
            "\n",
            "\n",
            "\n",
            "RandomForest Train Accuracy (Word2Vec): 1.00\n",
            "RandomForest Test Accuracy (Word2Vec): 0.83\n",
            "RandomForest Classification Report (Word2Vec):\n",
            "              precision    recall  f1-score   support\n",
            "\n",
            "         NOT       0.83      1.00      0.90       536\n",
            "         OFF       0.75      0.05      0.10       118\n",
            "\n",
            "    accuracy                           0.83       654\n",
            "   macro avg       0.79      0.52      0.50       654\n",
            "weighted avg       0.81      0.83      0.76       654\n",
            "\n"
          ]
        },
        {
          "output_type": "display_data",
          "data": {
            "text/plain": [
              "<Figure size 800x600 with 1 Axes>"
            ],
            "image/png": "[encoded data removed]"
          },
          "metadata": {}
        },
        {
          "output_type": "stream",
          "name": "stdout",
          "text": [
            "RandomForest Confusion Matrix (Word2Vec)\n",
            "\n",
            "\n",
            "\n",
            "Decision Tree Train Accuracy (Word2Vec): 1.00\n",
            "Decision Tree Test Accuracy (Word2Vec): 0.74\n",
            "Decision Tree Classification Report (Word2Vec):\n",
            "              precision    recall  f1-score   support\n",
            "\n",
            "         NOT       0.85      0.83      0.84       536\n",
            "         OFF       0.31      0.35      0.33       118\n",
            "\n",
            "    accuracy                           0.74       654\n",
            "   macro avg       0.58      0.59      0.58       654\n",
            "weighted avg       0.75      0.74      0.75       654\n",
            "\n"
          ]
        },
        {
          "output_type": "display_data",
          "data": {
            "text/plain": [
              "<Figure size 800x600 with 1 Axes>"
            ],
            "image/png": "[encoded data removed]"
          },
          "metadata": {}
        },
        {
          "output_type": "stream",
          "name": "stdout",
          "text": [
            "Decision Tree Confusion Matrix (Word2Vec)\n",
            "\n",
            "\n",
            "\n"
          ]
        }
      ]
    },
    {
      "cell_type": "code",
      "source": [
        "# After Add stop word\n",
        "perform_classification(\"TF-IDF\",train_set['text'],test_set['text'], train_set['category'],test_set['category'])"
      ],
      "metadata": {
        "colab": {
          "base_uri": "https://localhost:8080/",
          "height": 1000
        },
        "id": "uLtpqzt6M5D6",
        "outputId": "0fb2bda2-df28-4927-bc17-febb3f572b6f"
      },
      "execution_count": 37,
      "outputs": [
        {
          "output_type": "stream",
          "name": "stdout",
          "text": [
            "Bernoulli NB Train Accuracy (TF-IDF): 0.83\n",
            "Bernoulli NB Test Accuracy (TF-IDF): 0.81\n",
            "Bernoulli NB Classification Report (TF-IDF):\n",
            "              precision    recall  f1-score   support\n",
            "\n",
            "         NOT       0.86      0.92      0.89       536\n",
            "         OFF       0.45      0.31      0.36       118\n",
            "\n",
            "    accuracy                           0.81       654\n",
            "   macro avg       0.65      0.61      0.63       654\n",
            "weighted avg       0.78      0.81      0.79       654\n",
            "\n"
          ]
        },
        {
          "output_type": "display_data",
          "data": {
            "text/plain": [
              "<Figure size 800x600 with 1 Axes>"
            ],
            "image/png": "[encoded data removed]"
          },
          "metadata": {}
        },
        {
          "output_type": "stream",
          "name": "stdout",
          "text": [
            "Bernoulli NB Confusion Matrix (TF-IDF)\n",
            "\n",
            "\n",
            "\n",
            "SVM Train Accuracy (TF-IDF): 0.85\n",
            "SVM Test Accuracy (TF-IDF): 0.84\n",
            "SVM Classification Report (TF-IDF):\n",
            "              precision    recall  f1-score   support\n",
            "\n",
            "         NOT       0.85      0.98      0.91       536\n",
            "         OFF       0.67      0.19      0.29       118\n",
            "\n",
            "    accuracy                           0.84       654\n",
            "   macro avg       0.76      0.58      0.60       654\n",
            "weighted avg       0.81      0.84      0.80       654\n",
            "\n"
          ]
        },
        {
          "output_type": "display_data",
          "data": {
            "text/plain": [
              "<Figure size 800x600 with 1 Axes>"
            ],
            "image/png": "[encoded data removed]"
          },
          "metadata": {}
        },
        {
          "output_type": "stream",
          "name": "stdout",
          "text": [
            "SVM Confusion Matrix (TF-IDF)\n",
            "\n",
            "\n",
            "\n",
            "Logistic Regression Train Accuracy (TF-IDF): 0.84\n",
            "Logistic Regression Test Accuracy (TF-IDF): 0.84\n",
            "Logistic Regression Classification Report (TF-IDF):\n",
            "              precision    recall  f1-score   support\n",
            "\n",
            "         NOT       0.85      0.97      0.91       536\n",
            "         OFF       0.66      0.25      0.36       118\n",
            "\n",
            "    accuracy                           0.84       654\n",
            "   macro avg       0.76      0.61      0.63       654\n",
            "weighted avg       0.82      0.84      0.81       654\n",
            "\n"
          ]
        },
        {
          "output_type": "display_data",
          "data": {
            "text/plain": [
              "<Figure size 800x600 with 1 Axes>"
            ],
            "image/png": "[encoded data removed]"
          },
          "metadata": {}
        },
        {
          "output_type": "stream",
          "name": "stdout",
          "text": [
            "Logistic Regression Confusion Matrix (TF-IDF)\n",
            "\n",
            "\n",
            "\n",
            "KNN Train Accuracy (TF-IDF): 0.83\n",
            "KNN Test Accuracy (TF-IDF): 0.82\n",
            "KNN Classification Report (TF-IDF):\n",
            "              precision    recall  f1-score   support\n",
            "\n",
            "         NOT       0.83      0.99      0.90       536\n",
            "         OFF       0.50      0.05      0.09       118\n",
            "\n",
            "    accuracy                           0.82       654\n",
            "   macro avg       0.66      0.52      0.50       654\n",
            "weighted avg       0.77      0.82      0.75       654\n",
            "\n"
          ]
        },
        {
          "output_type": "display_data",
          "data": {
            "text/plain": [
              "<Figure size 800x600 with 1 Axes>"
            ],
            "image/png": "[encoded data removed]"
          },
          "metadata": {}
        },
        {
          "output_type": "stream",
          "name": "stdout",
          "text": [
            "KNN Confusion Matrix (TF-IDF)\n",
            "\n",
            "\n",
            "\n",
            "RandomForest Train Accuracy (TF-IDF): 1.00\n",
            "RandomForest Test Accuracy (TF-IDF): 0.83\n",
            "RandomForest Classification Report (TF-IDF):\n",
            "              precision    recall  f1-score   support\n",
            "\n",
            "         NOT       0.83      0.99      0.90       536\n",
            "         OFF       0.69      0.08      0.14       118\n",
            "\n",
            "    accuracy                           0.83       654\n",
            "   macro avg       0.76      0.53      0.52       654\n",
            "weighted avg       0.81      0.83      0.77       654\n",
            "\n"
          ]
        },
        {
          "output_type": "display_data",
          "data": {
            "text/plain": [
              "<Figure size 800x600 with 1 Axes>"
            ],
            "image/png": "[encoded data removed]"
          },
          "metadata": {}
        },
        {
          "output_type": "stream",
          "name": "stdout",
          "text": [
            "RandomForest Confusion Matrix (TF-IDF)\n",
            "\n",
            "\n",
            "\n",
            "Decision Tree Train Accuracy (TF-IDF): 1.00\n",
            "Decision Tree Test Accuracy (TF-IDF): 0.78\n",
            "Decision Tree Classification Report (TF-IDF):\n",
            "              precision    recall  f1-score   support\n",
            "\n",
            "         NOT       0.85      0.88      0.87       536\n",
            "         OFF       0.37      0.32      0.34       118\n",
            "\n",
            "    accuracy                           0.78       654\n",
            "   macro avg       0.61      0.60      0.60       654\n",
            "weighted avg       0.77      0.78      0.77       654\n",
            "\n"
          ]
        },
        {
          "output_type": "display_data",
          "data": {
            "text/plain": [
              "<Figure size 800x600 with 1 Axes>"
            ],
            "image/png": "[encoded data removed]"
          },
          "metadata": {}
        },
        {
          "output_type": "stream",
          "name": "stdout",
          "text": [
            "Decision Tree Confusion Matrix (TF-IDF)\n",
            "\n",
            "\n",
            "\n"
          ]
        }
      ]
    },
    {
      "cell_type": "code",
      "source": [
        "# Before add stop word\n",
        "perform_classification(\"BOW\",train_set['text'],test_set['text'], train_set['category'],test_set['category'])"
      ],
      "metadata": {
        "colab": {
          "base_uri": "https://localhost:8080/",
          "height": 1000
        },
        "id": "w_S3NR-N8_1Q",
        "outputId": "89c9247c-f75b-44fd-c40c-46bc4c228059"
      },
      "execution_count": 38,
      "outputs": [
        {
          "output_type": "stream",
          "name": "stdout",
          "text": [
            "Bernoulli NB Train Accuracy (BOW): 0.83\n",
            "Bernoulli NB Test Accuracy (BOW): 0.81\n",
            "Bernoulli NB Classification Report (BOW):\n",
            "              precision    recall  f1-score   support\n",
            "\n",
            "         NOT       0.86      0.92      0.89       536\n",
            "         OFF       0.45      0.31      0.36       118\n",
            "\n",
            "    accuracy                           0.81       654\n",
            "   macro avg       0.65      0.61      0.63       654\n",
            "weighted avg       0.78      0.81      0.79       654\n",
            "\n"
          ]
        },
        {
          "output_type": "display_data",
          "data": {
            "text/plain": [
              "<Figure size 800x600 with 1 Axes>"
            ],
            "image/png": "[encoded data removed]"
          },
          "metadata": {}
        },
        {
          "output_type": "stream",
          "name": "stdout",
          "text": [
            "Bernoulli NB Confusion Matrix (BOW)\n",
            "\n",
            "\n",
            "\n",
            "SVM Train Accuracy (BOW): 0.91\n",
            "SVM Test Accuracy (BOW): 0.84\n",
            "SVM Classification Report (BOW):\n",
            "              precision    recall  f1-score   support\n",
            "\n",
            "         NOT       0.86      0.95      0.91       536\n",
            "         OFF       0.59      0.32      0.42       118\n",
            "\n",
            "    accuracy                           0.84       654\n",
            "   macro avg       0.73      0.64      0.66       654\n",
            "weighted avg       0.82      0.84      0.82       654\n",
            "\n"
          ]
        },
        {
          "output_type": "display_data",
          "data": {
            "text/plain": [
              "<Figure size 800x600 with 1 Axes>"
            ],
            "image/png": "[encoded data removed]"
          },
          "metadata": {}
        },
        {
          "output_type": "stream",
          "name": "stdout",
          "text": [
            "SVM Confusion Matrix (BOW)\n",
            "\n",
            "\n",
            "\n"
          ]
        },
        {
          "output_type": "stream",
          "name": "stderr",
          "text": [
            "/usr/local/lib/python3.10/dist-packages/sklearn/linear_model/_logistic.py:458: ConvergenceWarning: lbfgs failed to converge (status=1):\n",
            "STOP: TOTAL NO. of ITERATIONS REACHED LIMIT.\n",
            "\n",
            "Increase the number of iterations (max_iter) or scale the data as shown in:\n",
            "    https://scikit-learn.org/stable/modules/preprocessing.html\n",
            "Please also refer to the documentation for alternative solver options:\n",
            "    https://scikit-learn.org/stable/modules/linear_model.html#logistic-regression\n",
            "  n_iter_i = _check_optimize_result(\n"
          ]
        },
        {
          "output_type": "stream",
          "name": "stdout",
          "text": [
            "Logistic Regression Train Accuracy (BOW): 0.88\n",
            "Logistic Regression Test Accuracy (BOW): 0.84\n",
            "Logistic Regression Classification Report (BOW):\n",
            "              precision    recall  f1-score   support\n",
            "\n",
            "         NOT       0.87      0.95      0.91       536\n",
            "         OFF       0.59      0.35      0.44       118\n",
            "\n",
            "    accuracy                           0.84       654\n",
            "   macro avg       0.73      0.65      0.67       654\n",
            "weighted avg       0.82      0.84      0.82       654\n",
            "\n"
          ]
        },
        {
          "output_type": "display_data",
          "data": {
            "text/plain": [
              "<Figure size 800x600 with 1 Axes>"
            ],
            "image/png": "[encoded data removed]"
          },
          "metadata": {}
        },
        {
          "output_type": "stream",
          "name": "stdout",
          "text": [
            "Logistic Regression Confusion Matrix (BOW)\n",
            "\n",
            "\n",
            "\n",
            "KNN Train Accuracy (BOW): 0.84\n",
            "KNN Test Accuracy (BOW): 0.82\n",
            "KNN Classification Report (BOW):\n",
            "              precision    recall  f1-score   support\n",
            "\n",
            "         NOT       0.83      0.98      0.90       536\n",
            "         OFF       0.46      0.09      0.15       118\n",
            "\n",
            "    accuracy                           0.82       654\n",
            "   macro avg       0.64      0.53      0.53       654\n",
            "weighted avg       0.76      0.82      0.76       654\n",
            "\n"
          ]
        },
        {
          "output_type": "display_data",
          "data": {
            "text/plain": [
              "<Figure size 800x600 with 1 Axes>"
            ],
            "image/png": "[encoded data removed]"
          },
          "metadata": {}
        },
        {
          "output_type": "stream",
          "name": "stdout",
          "text": [
            "KNN Confusion Matrix (BOW)\n",
            "\n",
            "\n",
            "\n",
            "RandomForest Train Accuracy (BOW): 1.00\n",
            "RandomForest Test Accuracy (BOW): 0.83\n",
            "RandomForest Classification Report (BOW):\n",
            "              precision    recall  f1-score   support\n",
            "\n",
            "         NOT       0.84      0.99      0.91       536\n",
            "         OFF       0.73      0.14      0.23       118\n",
            "\n",
            "    accuracy                           0.83       654\n",
            "   macro avg       0.78      0.56      0.57       654\n",
            "weighted avg       0.82      0.83      0.79       654\n",
            "\n"
          ]
        },
        {
          "output_type": "display_data",
          "data": {
            "text/plain": [
              "<Figure size 800x600 with 1 Axes>"
            ],
            "image/png": "[encoded data removed]"
          },
          "metadata": {}
        },
        {
          "output_type": "stream",
          "name": "stdout",
          "text": [
            "RandomForest Confusion Matrix (BOW)\n",
            "\n",
            "\n",
            "\n",
            "Decision Tree Train Accuracy (BOW): 1.00\n",
            "Decision Tree Test Accuracy (BOW): 0.79\n",
            "Decision Tree Classification Report (BOW):\n",
            "              precision    recall  f1-score   support\n",
            "\n",
            "         NOT       0.87      0.88      0.87       536\n",
            "         OFF       0.41      0.39      0.40       118\n",
            "\n",
            "    accuracy                           0.79       654\n",
            "   macro avg       0.64      0.63      0.64       654\n",
            "weighted avg       0.78      0.79      0.79       654\n",
            "\n"
          ]
        },
        {
          "output_type": "display_data",
          "data": {
            "text/plain": [
              "<Figure size 800x600 with 1 Axes>"
            ],
            "image/png": "[encoded data removed]"
          },
          "metadata": {}
        },
        {
          "output_type": "stream",
          "name": "stdout",
          "text": [
            "Decision Tree Confusion Matrix (BOW)\n",
            "\n",
            "\n",
            "\n"
          ]
        }
      ]
    }
  ]
}