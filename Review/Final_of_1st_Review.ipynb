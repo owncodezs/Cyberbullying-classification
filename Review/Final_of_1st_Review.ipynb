{
  "nbformat": 4,
  "nbformat_minor": 0,
  "metadata": {
    "colab": {
      "provenance": []
    },
    "kernelspec": {
      "name": "python3",
      "display_name": "Python 3"
    },
    "language_info": {
      "name": "python"
    }
  },
  "cells": [
    {
      "cell_type": "markdown",
      "source": [
        "# Dataset importing"
      ],
      "metadata": {
        "id": "8iDaZUbo5z89"
      }
    },
    {
      "cell_type": "code",
      "execution_count": 1,
      "metadata": {
        "id": "DfwFvh2W5m5s"
      },
      "outputs": [],
      "source": [
        "import pandas as pd\n",
        "import numpy as np"
      ]
    },
    {
      "cell_type": "code",
      "source": [
        "!wget https://raw.githubusercontent.com/owncodezs/Cyberbullying-classification/main/test.csv\n",
        "!wget https://raw.githubusercontent.com/owncodezs/Cyberbullying-classification/main/train.csv"
      ],
      "metadata": {
        "colab": {
          "base_uri": "https://localhost:8080/"
        },
        "id": "wIklivUr6A3r",
        "outputId": "e973ecd2-625f-48f1-ba1d-6dc57436169c"
      },
      "execution_count": 2,
      "outputs": [
        {
          "output_type": "stream",
          "name": "stdout",
          "text": [
            "--2023-07-26 09:48:52--  https://raw.githubusercontent.com/owncodezs/Cyberbullying-classification/main/test.csv\n",
            "Resolving raw.githubusercontent.com (raw.githubusercontent.com)... 185.199.109.133, 185.199.108.133, 185.199.110.133, ...\n",
            "Connecting to raw.githubusercontent.com (raw.githubusercontent.com)|185.199.109.133|:443... connected.\n",
            "HTTP request sent, awaiting response... 200 OK\n",
            "Length: 89724 (88K) [text/plain]\n",
            "Saving to: ‘test.csv’\n",
            "\n",
            "\rtest.csv              0%[                    ]       0  --.-KB/s               \rtest.csv            100%[===================>]  87.62K  --.-KB/s    in 0.02s   \n",
            "\n",
            "2023-07-26 09:48:52 (5.61 MB/s) - ‘test.csv’ saved [89724/89724]\n",
            "\n",
            "--2023-07-26 09:48:52--  https://raw.githubusercontent.com/owncodezs/Cyberbullying-classification/main/train.csv\n",
            "Resolving raw.githubusercontent.com (raw.githubusercontent.com)... 185.199.111.133, 185.199.110.133, 185.199.108.133, ...\n",
            "Connecting to raw.githubusercontent.com (raw.githubusercontent.com)|185.199.111.133|:443... connected.\n",
            "HTTP request sent, awaiting response... 200 OK\n",
            "Length: 791227 (773K) [text/plain]\n",
            "Saving to: ‘train.csv’\n",
            "\n",
            "train.csv           100%[===================>] 772.68K  --.-KB/s    in 0.05s   \n",
            "\n",
            "2023-07-26 09:48:52 (15.8 MB/s) - ‘train.csv’ saved [791227/791227]\n",
            "\n"
          ]
        }
      ]
    },
    {
      "cell_type": "code",
      "source": [
        "train_set = pd.read_csv(\"/content/train.csv\",\n",
        "                   encoding = \"utf-8\",\n",
        "                   engine = \"python\",\n",
        "                   header = 0)\n",
        "\n",
        "test_set = pd.read_csv(\"/content/test.csv\",\n",
        "                   encoding = \"utf-8\",\n",
        "                   engine = \"python\",\n",
        "                   header = 0)"
      ],
      "metadata": {
        "id": "xBJaoLAD6dBd"
      },
      "execution_count": 3,
      "outputs": []
    },
    {
      "cell_type": "code",
      "source": [
        "print('Train dataset shap',train_set.shape)\n",
        "print('Test dataset shap',test_set.shape)"
      ],
      "metadata": {
        "colab": {
          "base_uri": "https://localhost:8080/"
        },
        "id": "mUOPUuv07Usu",
        "outputId": "de587a4f-0f6d-405e-9057-34020b7edfa4"
      },
      "execution_count": 4,
      "outputs": [
        {
          "output_type": "stream",
          "name": "stdout",
          "text": [
            "Train dataset shap (11335, 2)\n",
            "Test dataset shap (1260, 2)\n"
          ]
        }
      ]
    },
    {
      "cell_type": "code",
      "source": [
        "print(\"Train datset :\")\n",
        "print(train_set.head())\n",
        "print(\"\\nTest datset :\")\n",
        "print(test_set.head())"
      ],
      "metadata": {
        "colab": {
          "base_uri": "https://localhost:8080/"
        },
        "id": "IVXXcbpM7VGJ",
        "outputId": "3fb59c00-92aa-44c2-c557-f6963edd0e5e"
      },
      "execution_count": 5,
      "outputs": [
        {
          "output_type": "stream",
          "name": "stdout",
          "text": [
            "Train datset :\n",
            "                                               text  category\n",
            "0          Trailer late ah parthavanga like podunga  Positive\n",
            "1        Move pathutu vanthu trailer pakurvnga yaru  Positive\n",
            "2          Puthupetai dhanush  ah yarellam pathinga  Positive\n",
            "3  Dhanush oda character ,puthu sa erukay , mass ta  Positive\n",
            "4  vera level ippa pesungada mokka nu thalaivaaaaaa  Positive\n",
            "\n",
            "Test datset :\n",
            "                                                text        category\n",
            "0  Daily likes & views pakka vanthavaga ellarukum...        Positive\n",
            "1  25 k dislikes ethuku da intha trailerku poi ap...        Negative\n",
            "2                 #Lyca unna nenacha pavama iruku ya  Mixed_feelings\n",
            "3            It looks like Hindi movie amitab bachan        Positive\n",
            "4  Thalaivarukku nejamavey vayasaagiduchu... siva...        Positive\n"
          ]
        }
      ]
    },
    {
      "cell_type": "markdown",
      "source": [
        "# Preprocess"
      ],
      "metadata": {
        "id": "IKEKQ1lF7Qnq"
      }
    },
    {
      "cell_type": "code",
      "source": [
        "import re\n",
        "import nltk\n",
        "import string\n",
        "from nltk.corpus import stopwords\n",
        "from nltk.tokenize import word_tokenize\n",
        "from nltk.stem.lancaster import LancasterStemmer\n",
        "lancaster_stemmer = LancasterStemmer()\n",
        "from nltk.stem import WordNetLemmatizer\n",
        "wordnet_lemmatizer = WordNetLemmatizer()\n",
        "from tqdm import tqdm\n",
        "nltk.download('punkt')\n",
        "nltk.download('stopwords')\n",
        "nltk.download('wordnet')"
      ],
      "metadata": {
        "colab": {
          "base_uri": "https://localhost:8080/"
        },
        "id": "edTQxUqI6j4a",
        "outputId": "86e5655d-883b-4ac2-b28e-134850725b21"
      },
      "execution_count": 6,
      "outputs": [
        {
          "output_type": "stream",
          "name": "stderr",
          "text": [
            "[nltk_data] Downloading package punkt to /root/nltk_data...\n",
            "[nltk_data]   Unzipping tokenizers/punkt.zip.\n",
            "[nltk_data] Downloading package stopwords to /root/nltk_data...\n",
            "[nltk_data]   Unzipping corpora/stopwords.zip.\n",
            "[nltk_data] Downloading package wordnet to /root/nltk_data...\n"
          ]
        },
        {
          "output_type": "execute_result",
          "data": {
            "text/plain": [
              "True"
            ]
          },
          "metadata": {},
          "execution_count": 6
        }
      ]
    },
    {
      "cell_type": "code",
      "source": [
        "def pre_clean_text(text):\n",
        "    text = re.sub(r'http\\S+|www\\S+|https\\S+', '', text, flags=re.MULTILINE)\n",
        "    text = re.sub(r'@[A-Za-z0-9_]+', '', text)\n",
        "    text = re.sub(r'\\s+', ' ', text).strip()\n",
        "\n",
        "    return text"
      ],
      "metadata": {
        "id": "Y04NEFks9bs2"
      },
      "execution_count": 7,
      "outputs": []
    },
    {
      "cell_type": "code",
      "source": [
        "def remove_emoticon(text):\n",
        "        text=str(text)\n",
        "\n",
        "        emoji_pattern = re.compile(\"[\"\n",
        "                           u\"\\U0001F600-\\U0001F64F\"  # emoticons\n",
        "                           u\"\\U0001F300-\\U0001F5FF\"  # symbols & pictographs\n",
        "                           u\"\\U0001F680-\\U0001F6FF\"  # transport & map symbols\n",
        "                           u\"\\U0001F1E0-\\U0001F1FF\"  # flags\n",
        "                           u\"\\U00002702-\\U000027B0\"\n",
        "                           u\"\\U000024C2-\\U0001F251\"\n",
        "                           \"]+\", flags=re.UNICODE)\n",
        "        return emoji_pattern.sub(r'', text)"
      ],
      "metadata": {
        "id": "2qMr-Knh9hsD"
      },
      "execution_count": 8,
      "outputs": []
    },
    {
      "cell_type": "code",
      "source": [
        "def remove_punc(text):\n",
        "    text=str(text)\n",
        "    table = str.maketrans(\"\", \"\", string.punctuation)\n",
        "    return text.translate(table)"
      ],
      "metadata": {
        "id": "AZ1wB1wP_-Xl"
      },
      "execution_count": 9,
      "outputs": []
    },
    {
      "cell_type": "code",
      "source": [
        "def tokenize(tweet):\n",
        "   tweet=str(tweet)\n",
        "\n",
        "   lower_tweet = tweet.lower()\n",
        "   return word_tokenize(lower_tweet)"
      ],
      "metadata": {
        "id": "2PqTRjgDAH1X"
      },
      "execution_count": 10,
      "outputs": []
    },
    {
      "cell_type": "code",
      "source": [
        "def remove_stop_words(tokens):\n",
        "   clean_tokens = []\n",
        "   newStopWords = ['rt', 'mkr', 'didn', 'bc', 'n', 'm', 'im', 'll', 'y', 've', 'u', 'ur', 'don', 't', 's', 'co','oru', 'enru', 'matrum', 'indha', 'idhu', 'enru', 'kondu', 'enpathu', 'pala', 'aagum', 'allathu', 'avar', 'naan', 'ullu', 'andha', 'ivar', 'ena', 'muthal', 'enna', 'irundhu', 'sila', 'en', 'pontu', 'venṭum', 'vandhu', 'ithan', 'athu', 'avan', 'thaan', 'palarum', 'ennum', 'melum', 'pinar', 'kondu', 'irukkum', 'thanathu', 'ullathu', 'pothu', 'enrum', 'athan', 'than', 'piragu', 'avargal', 'varai', 'aval', 'nee', 'aagiyathu', 'ullana', 'vandha', 'irundh', 'migavum', 'inggu', 'meethu', 'or', 'ivai', 'indha', 'ithaṉaḷ', 'patri', 'varum', 'veṟu', 'iru', 'ithil', 'pol', 'ippothu', 'avarathu', 'maṭṭum', 'indha', 'enuṁ', 'mel', 'pin', 'cernta', 'ākiyōr', 'enakku', 'innum', 'andha', 'anṟu', 'oṟe', 'miga', 'angu', 'palvēru', 'viṭṭu', 'perum', 'athai', 'paṟṟiya', 'uṉ', 'athik', 'andhak', 'pēr', 'indhaṉāḷ', 'avai', 'athe', 'ēn', 'muṟai', 'yār', 'eṉappaṭum', 'ellām', 'maṭṭumē', 'ingkē', 'angkē', 'iṭam', 'iṭattil', 'athil', 'nām', 'atharku', 'eṉavē', 'piṟa', 'siṟu', 'maṟṟa', 'viṭa', 'endha', 'eṉavum', 'eṉappuṭum', 'eṉiṉum', 'aṭutta', 'ithanai', 'ithai', 'koḷḷa', 'indhath', 'ithaṉāl', 'athāl', 'thavira', 'pol', 'varail', 'caṟṟu', 'eṉak']\n",
        "   stopWords = stopwords.words('english')\n",
        "   stopWords.append(newStopWords)\n",
        "  #  print(stopWords)\n",
        "\n",
        "   for token in tokens:\n",
        "       if token not in stopWords:\n",
        "           if token.replace(' ', '') != '':\n",
        "               if len(token) > 1:\n",
        "                   clean_tokens.append(token)\n",
        "   return clean_tokens"
      ],
      "metadata": {
        "id": "GRxecTleAVaI"
      },
      "execution_count": 11,
      "outputs": []
    },
    {
      "cell_type": "code",
      "source": [
        "def stem_and_lem(tokens):\n",
        "   clean_tokens = []\n",
        "   for token in tokens:\n",
        "       token = wordnet_lemmatizer.lemmatize(token)\n",
        "       token = lancaster_stemmer.stem(token)\n",
        "       if len(token) > 1:\n",
        "           clean_tokens.append(token)\n",
        "   return ' '.join(clean_tokens)\n"
      ],
      "metadata": {
        "id": "FD_Qhv-5AXlu"
      },
      "execution_count": 12,
      "outputs": []
    },
    {
      "cell_type": "code",
      "source": [
        "def dataclean(data):\n",
        "  tqdm.pandas(desc=\"Remove duplicates \")\n",
        "  data.drop_duplicates(subset=['text'], inplace=True)\n",
        "  tqdm.pandas(desc=\"To lower letter\")\n",
        "  data = data.applymap(lambda x: x.lower() if isinstance(x, str) else x)\n",
        "\n",
        "  tqdm.pandas(desc=\"Cleaning Data Phase I...\")\n",
        "  data['pre_clean_text'] = data['text'].progress_apply(pre_clean_text)\n",
        "\n",
        "  tqdm.pandas(desc=\"removing emoji...\")\n",
        "  data['remove_emoticon'] = data['pre_clean_text'].progress_apply(remove_emoticon)\n",
        "\n",
        "\n",
        "  tqdm.pandas(desc=\"removing punctuation...\")\n",
        "  data['remove_punc'] = data['remove_emoticon'].progress_apply(remove_punc)\n",
        "\n",
        "\n",
        "\n",
        "  tqdm.pandas(desc=\"Tokenizing Data...\")\n",
        "  data['tokenize'] = data['remove_punc'].progress_apply(tokenize)\n",
        "\n",
        "  tqdm.pandas(desc=\"Cleaning Data Phase II...\")\n",
        "  data['remove_stop_words'] = data['tokenize'].progress_apply(remove_stop_words)\n",
        "\n",
        "  tqdm.pandas(desc=\"Stemming And Lemmatizing\")\n",
        "  data['stem_and_lem'] = data['remove_stop_words'].progress_apply(stem_and_lem)\n",
        "  tqdm.pandas(desc=\"Cleaning Data Phase III...\")\n",
        "\n",
        "  data.drop(data[(data['category'] == 'unknown_state') | (data['category'] == 'not-tamil') |  (data['category'] == 'mixed_feelings')].index, inplace=True)\n",
        "  # data.drop(data[(data['category'] == 'unknown_state') | (data['category'] == 'not-tamil') |(data['category'] == 'non-tamil') |  (data['category'] == 'mixed_feelings')].index, inplace=True)\n",
        "  # data.drop(data[(data['category'] == 'mixed_feelings')].index, inplace=True)\n",
        "  # replacement_dict = {\n",
        "  #     'positive': 0,\n",
        "  #     'negative': 1,\n",
        "  #     'mixed_feelings':-1,\n",
        "  # }\n",
        "  # # Replace values in the DataFrame\n",
        "  # data['category'].replace(replacement_dict, inplace=True)\n",
        "\n",
        "\n",
        "  # stem_and_lem ---> outlet\n",
        "  return data"
      ],
      "metadata": {
        "id": "FOYDFlZQBy1D"
      },
      "execution_count": 13,
      "outputs": []
    },
    {
      "cell_type": "code",
      "source": [
        "train_set = dataclean(train_set)\n",
        "train_set"
      ],
      "metadata": {
        "colab": {
          "base_uri": "https://localhost:8080/",
          "height": 1000
        },
        "id": "hg6J3EHmCDI_",
        "outputId": "500a00cc-c299-4b5d-8c57-506277722552"
      },
      "execution_count": 14,
      "outputs": [
        {
          "output_type": "stream",
          "name": "stderr",
          "text": [
            "Cleaning Data Phase I...: 100%|██████████| 11237/11237 [00:00<00:00, 36671.74it/s]\n",
            "removing emoji...: 100%|██████████| 11237/11237 [00:00<00:00, 98930.74it/s] \n",
            "removing punctuation...: 100%|██████████| 11237/11237 [00:00<00:00, 127597.34it/s]\n",
            "Tokenizing Data...: 100%|██████████| 11237/11237 [00:03<00:00, 2915.35it/s]\n",
            "Cleaning Data Phase II...: 100%|██████████| 11237/11237 [00:02<00:00, 5188.44it/s]\n",
            "Stemming And Lemmatizing: 100%|██████████| 11237/11237 [00:03<00:00, 3208.62it/s]\n"
          ]
        },
        {
          "output_type": "execute_result",
          "data": {
            "text/plain": [
              "                                                    text  category  \\\n",
              "0               trailer late ah parthavanga like podunga  positive   \n",
              "1             move pathutu vanthu trailer pakurvnga yaru  positive   \n",
              "2               puthupetai dhanush  ah yarellam pathinga  positive   \n",
              "3       dhanush oda character ,puthu sa erukay , mass ta  positive   \n",
              "4       vera level ippa pesungada mokka nu thalaivaaaaaa  positive   \n",
              "...                                                  ...       ...   \n",
              "11328                  shankar anna and ar sir sema mass  positive   \n",
              "11329  intha movie la yuvan music therikum pola thonu...  positive   \n",
              "11330         yuvan shankar raja anna fan's like here...  positive   \n",
              "11331    a masterpiece best revenge film i’ve ever scene  positive   \n",
              "11332              enna pa thala ya kamiya than katringa  positive   \n",
              "\n",
              "                                          pre_clean_text  \\\n",
              "0               trailer late ah parthavanga like podunga   \n",
              "1             move pathutu vanthu trailer pakurvnga yaru   \n",
              "2                puthupetai dhanush ah yarellam pathinga   \n",
              "3       dhanush oda character ,puthu sa erukay , mass ta   \n",
              "4       vera level ippa pesungada mokka nu thalaivaaaaaa   \n",
              "...                                                  ...   \n",
              "11328                  shankar anna and ar sir sema mass   \n",
              "11329  intha movie la yuvan music therikum pola thonu...   \n",
              "11330         yuvan shankar raja anna fan's like here...   \n",
              "11331    a masterpiece best revenge film i’ve ever scene   \n",
              "11332              enna pa thala ya kamiya than katringa   \n",
              "\n",
              "                                         remove_emoticon  \\\n",
              "0               trailer late ah parthavanga like podunga   \n",
              "1             move pathutu vanthu trailer pakurvnga yaru   \n",
              "2                puthupetai dhanush ah yarellam pathinga   \n",
              "3       dhanush oda character ,puthu sa erukay , mass ta   \n",
              "4       vera level ippa pesungada mokka nu thalaivaaaaaa   \n",
              "...                                                  ...   \n",
              "11328                  shankar anna and ar sir sema mass   \n",
              "11329  intha movie la yuvan music therikum pola thonu...   \n",
              "11330         yuvan shankar raja anna fan's like here...   \n",
              "11331    a masterpiece best revenge film i’ve ever scene   \n",
              "11332              enna pa thala ya kamiya than katringa   \n",
              "\n",
              "                                             remove_punc  \\\n",
              "0               trailer late ah parthavanga like podunga   \n",
              "1             move pathutu vanthu trailer pakurvnga yaru   \n",
              "2                puthupetai dhanush ah yarellam pathinga   \n",
              "3         dhanush oda character puthu sa erukay  mass ta   \n",
              "4       vera level ippa pesungada mokka nu thalaivaaaaaa   \n",
              "...                                                  ...   \n",
              "11328                  shankar anna and ar sir sema mass   \n",
              "11329  intha movie la yuvan music therikum pola thonu...   \n",
              "11330             yuvan shankar raja anna fans like here   \n",
              "11331    a masterpiece best revenge film i’ve ever scene   \n",
              "11332              enna pa thala ya kamiya than katringa   \n",
              "\n",
              "                                                tokenize  \\\n",
              "0        [trailer, late, ah, parthavanga, like, podunga]   \n",
              "1      [move, pathutu, vanthu, trailer, pakurvnga, yaru]   \n",
              "2          [puthupetai, dhanush, ah, yarellam, pathinga]   \n",
              "3      [dhanush, oda, character, puthu, sa, erukay, m...   \n",
              "4      [vera, level, ippa, pesungada, mokka, nu, thal...   \n",
              "...                                                  ...   \n",
              "11328          [shankar, anna, and, ar, sir, sema, mass]   \n",
              "11329  [intha, movie, la, yuvan, music, therikum, pol...   \n",
              "11330     [yuvan, shankar, raja, anna, fans, like, here]   \n",
              "11331  [a, masterpiece, best, revenge, film, i, ’, ve...   \n",
              "11332      [enna, pa, thala, ya, kamiya, than, katringa]   \n",
              "\n",
              "                                       remove_stop_words  \\\n",
              "0        [trailer, late, ah, parthavanga, like, podunga]   \n",
              "1      [move, pathutu, vanthu, trailer, pakurvnga, yaru]   \n",
              "2          [puthupetai, dhanush, ah, yarellam, pathinga]   \n",
              "3      [dhanush, oda, character, puthu, sa, erukay, m...   \n",
              "4      [vera, level, ippa, pesungada, mokka, nu, thal...   \n",
              "...                                                  ...   \n",
              "11328               [shankar, anna, ar, sir, sema, mass]   \n",
              "11329  [intha, movie, la, yuvan, music, therikum, pol...   \n",
              "11330           [yuvan, shankar, raja, anna, fans, like]   \n",
              "11331    [masterpiece, best, revenge, film, ever, scene]   \n",
              "11332            [enna, pa, thala, ya, kamiya, katringa]   \n",
              "\n",
              "                                         stem_and_lem  \n",
              "0                  trail lat ah parthavang lik podung  \n",
              "1              mov pathutu vanthu trail pakurvng yaru  \n",
              "2               puthupeta dhanush ah yarellam pathing  \n",
              "3          dhanush od charact puthu sa erukay mass ta  \n",
              "4         ver level ipp pesungad mokk nu thalaivaaaaa  \n",
              "...                                               ...  \n",
              "11328                       shank ann ar sir sem mass  \n",
              "11329  inth movy la yuv mus therik pol thonuthu enaku  \n",
              "11330                       yuv shank raj ann fan lik  \n",
              "11331             masterpiec best reveng film ev scen  \n",
              "11332                    enn pa thal ya kamiy katring  \n",
              "\n",
              "[8993 rows x 8 columns]"
            ],
            "text/html": [
              "\n",
              "\n",
              "  <div id=\"df-7f236ae5-b9b4-41aa-8007-00ce7472f03d\">\n",
              "    <div class=\"colab-df-container\">\n",
              "      <div>\n",
              "<style scoped>\n",
              "    .dataframe tbody tr th:only-of-type {\n",
              "        vertical-align: middle;\n",
              "    }\n",
              "\n",
              "    .dataframe tbody tr th {\n",
              "        vertical-align: top;\n",
              "    }\n",
              "\n",
              "    .dataframe thead th {\n",
              "        text-align: right;\n",
              "    }\n",
              "</style>\n",
              "<table border=\"1\" class=\"dataframe\">\n",
              "  <thead>\n",
              "    <tr style=\"text-align: right;\">\n",
              "      <th></th>\n",
              "      <th>text</th>\n",
              "      <th>category</th>\n",
              "      <th>pre_clean_text</th>\n",
              "      <th>remove_emoticon</th>\n",
              "      <th>remove_punc</th>\n",
              "      <th>tokenize</th>\n",
              "      <th>remove_stop_words</th>\n",
              "      <th>stem_and_lem</th>\n",
              "    </tr>\n",
              "  </thead>\n",
              "  <tbody>\n",
              "    <tr>\n",
              "      <th>0</th>\n",
              "      <td>trailer late ah parthavanga like podunga</td>\n",
              "      <td>positive</td>\n",
              "      <td>trailer late ah parthavanga like podunga</td>\n",
              "      <td>trailer late ah parthavanga like podunga</td>\n",
              "      <td>trailer late ah parthavanga like podunga</td>\n",
              "      <td>[trailer, late, ah, parthavanga, like, podunga]</td>\n",
              "      <td>[trailer, late, ah, parthavanga, like, podunga]</td>\n",
              "      <td>trail lat ah parthavang lik podung</td>\n",
              "    </tr>\n",
              "    <tr>\n",
              "      <th>1</th>\n",
              "      <td>move pathutu vanthu trailer pakurvnga yaru</td>\n",
              "      <td>positive</td>\n",
              "      <td>move pathutu vanthu trailer pakurvnga yaru</td>\n",
              "      <td>move pathutu vanthu trailer pakurvnga yaru</td>\n",
              "      <td>move pathutu vanthu trailer pakurvnga yaru</td>\n",
              "      <td>[move, pathutu, vanthu, trailer, pakurvnga, yaru]</td>\n",
              "      <td>[move, pathutu, vanthu, trailer, pakurvnga, yaru]</td>\n",
              "      <td>mov pathutu vanthu trail pakurvng yaru</td>\n",
              "    </tr>\n",
              "    <tr>\n",
              "      <th>2</th>\n",
              "      <td>puthupetai dhanush  ah yarellam pathinga</td>\n",
              "      <td>positive</td>\n",
              "      <td>puthupetai dhanush ah yarellam pathinga</td>\n",
              "      <td>puthupetai dhanush ah yarellam pathinga</td>\n",
              "      <td>puthupetai dhanush ah yarellam pathinga</td>\n",
              "      <td>[puthupetai, dhanush, ah, yarellam, pathinga]</td>\n",
              "      <td>[puthupetai, dhanush, ah, yarellam, pathinga]</td>\n",
              "      <td>puthupeta dhanush ah yarellam pathing</td>\n",
              "    </tr>\n",
              "    <tr>\n",
              "      <th>3</th>\n",
              "      <td>dhanush oda character ,puthu sa erukay , mass ta</td>\n",
              "      <td>positive</td>\n",
              "      <td>dhanush oda character ,puthu sa erukay , mass ta</td>\n",
              "      <td>dhanush oda character ,puthu sa erukay , mass ta</td>\n",
              "      <td>dhanush oda character puthu sa erukay  mass ta</td>\n",
              "      <td>[dhanush, oda, character, puthu, sa, erukay, m...</td>\n",
              "      <td>[dhanush, oda, character, puthu, sa, erukay, m...</td>\n",
              "      <td>dhanush od charact puthu sa erukay mass ta</td>\n",
              "    </tr>\n",
              "    <tr>\n",
              "      <th>4</th>\n",
              "      <td>vera level ippa pesungada mokka nu thalaivaaaaaa</td>\n",
              "      <td>positive</td>\n",
              "      <td>vera level ippa pesungada mokka nu thalaivaaaaaa</td>\n",
              "      <td>vera level ippa pesungada mokka nu thalaivaaaaaa</td>\n",
              "      <td>vera level ippa pesungada mokka nu thalaivaaaaaa</td>\n",
              "      <td>[vera, level, ippa, pesungada, mokka, nu, thal...</td>\n",
              "      <td>[vera, level, ippa, pesungada, mokka, nu, thal...</td>\n",
              "      <td>ver level ipp pesungad mokk nu thalaivaaaaa</td>\n",
              "    </tr>\n",
              "    <tr>\n",
              "      <th>...</th>\n",
              "      <td>...</td>\n",
              "      <td>...</td>\n",
              "      <td>...</td>\n",
              "      <td>...</td>\n",
              "      <td>...</td>\n",
              "      <td>...</td>\n",
              "      <td>...</td>\n",
              "      <td>...</td>\n",
              "    </tr>\n",
              "    <tr>\n",
              "      <th>11328</th>\n",
              "      <td>shankar anna and ar sir sema mass</td>\n",
              "      <td>positive</td>\n",
              "      <td>shankar anna and ar sir sema mass</td>\n",
              "      <td>shankar anna and ar sir sema mass</td>\n",
              "      <td>shankar anna and ar sir sema mass</td>\n",
              "      <td>[shankar, anna, and, ar, sir, sema, mass]</td>\n",
              "      <td>[shankar, anna, ar, sir, sema, mass]</td>\n",
              "      <td>shank ann ar sir sem mass</td>\n",
              "    </tr>\n",
              "    <tr>\n",
              "      <th>11329</th>\n",
              "      <td>intha movie la yuvan music therikum pola thonu...</td>\n",
              "      <td>positive</td>\n",
              "      <td>intha movie la yuvan music therikum pola thonu...</td>\n",
              "      <td>intha movie la yuvan music therikum pola thonu...</td>\n",
              "      <td>intha movie la yuvan music therikum pola thonu...</td>\n",
              "      <td>[intha, movie, la, yuvan, music, therikum, pol...</td>\n",
              "      <td>[intha, movie, la, yuvan, music, therikum, pol...</td>\n",
              "      <td>inth movy la yuv mus therik pol thonuthu enaku</td>\n",
              "    </tr>\n",
              "    <tr>\n",
              "      <th>11330</th>\n",
              "      <td>yuvan shankar raja anna fan's like here...</td>\n",
              "      <td>positive</td>\n",
              "      <td>yuvan shankar raja anna fan's like here...</td>\n",
              "      <td>yuvan shankar raja anna fan's like here...</td>\n",
              "      <td>yuvan shankar raja anna fans like here</td>\n",
              "      <td>[yuvan, shankar, raja, anna, fans, like, here]</td>\n",
              "      <td>[yuvan, shankar, raja, anna, fans, like]</td>\n",
              "      <td>yuv shank raj ann fan lik</td>\n",
              "    </tr>\n",
              "    <tr>\n",
              "      <th>11331</th>\n",
              "      <td>a masterpiece best revenge film i’ve ever scene</td>\n",
              "      <td>positive</td>\n",
              "      <td>a masterpiece best revenge film i’ve ever scene</td>\n",
              "      <td>a masterpiece best revenge film i’ve ever scene</td>\n",
              "      <td>a masterpiece best revenge film i’ve ever scene</td>\n",
              "      <td>[a, masterpiece, best, revenge, film, i, ’, ve...</td>\n",
              "      <td>[masterpiece, best, revenge, film, ever, scene]</td>\n",
              "      <td>masterpiec best reveng film ev scen</td>\n",
              "    </tr>\n",
              "    <tr>\n",
              "      <th>11332</th>\n",
              "      <td>enna pa thala ya kamiya than katringa</td>\n",
              "      <td>positive</td>\n",
              "      <td>enna pa thala ya kamiya than katringa</td>\n",
              "      <td>enna pa thala ya kamiya than katringa</td>\n",
              "      <td>enna pa thala ya kamiya than katringa</td>\n",
              "      <td>[enna, pa, thala, ya, kamiya, than, katringa]</td>\n",
              "      <td>[enna, pa, thala, ya, kamiya, katringa]</td>\n",
              "      <td>enn pa thal ya kamiy katring</td>\n",
              "    </tr>\n",
              "  </tbody>\n",
              "</table>\n",
              "<p>8993 rows × 8 columns</p>\n",
              "</div>\n",
              "      <button class=\"colab-df-convert\" onclick=\"convertToInteractive('df-7f236ae5-b9b4-41aa-8007-00ce7472f03d')\"\n",
              "              title=\"Convert this dataframe to an interactive table.\"\n",
              "              style=\"display:none;\">\n",
              "\n",
              "  <svg xmlns=\"http://www.w3.org/2000/svg\" height=\"24px\"viewBox=\"0 0 24 24\"\n",
              "       width=\"24px\">\n",
              "    <path d=\"M0 0h24v24H0V0z\" fill=\"none\"/>\n",
              "    <path d=\"M18.56 5.44l.94 2.06.94-2.06 2.06-.94-2.06-.94-.94-2.06-.94 2.06-2.06.94zm-11 1L8.5 8.5l.94-2.06 2.06-.94-2.06-.94L8.5 2.5l-.94 2.06-2.06.94zm10 10l.94 2.06.94-2.06 2.06-.94-2.06-.94-.94-2.06-.94 2.06-2.06.94z\"/><path d=\"M17.41 7.96l-1.37-1.37c-.4-.4-.92-.59-1.43-.59-.52 0-1.04.2-1.43.59L10.3 9.45l-7.72 7.72c-.78.78-.78 2.05 0 2.83L4 21.41c.39.39.9.59 1.41.59.51 0 1.02-.2 1.41-.59l7.78-7.78 2.81-2.81c.8-.78.8-2.07 0-2.86zM5.41 20L4 18.59l7.72-7.72 1.47 1.35L5.41 20z\"/>\n",
              "  </svg>\n",
              "      </button>\n",
              "\n",
              "\n",
              "\n",
              "    <div id=\"df-8ffe2749-1aa5-44ea-be24-c26dfcf9693b\">\n",
              "      <button class=\"colab-df-quickchart\" onclick=\"quickchart('df-8ffe2749-1aa5-44ea-be24-c26dfcf9693b')\"\n",
              "              title=\"Suggest charts.\"\n",
              "              style=\"display:none;\">\n",
              "\n",
              "<svg xmlns=\"http://www.w3.org/2000/svg\" height=\"24px\"viewBox=\"0 0 24 24\"\n",
              "     width=\"24px\">\n",
              "    <g>\n",
              "        <path d=\"M19 3H5c-1.1 0-2 .9-2 2v14c0 1.1.9 2 2 2h14c1.1 0 2-.9 2-2V5c0-1.1-.9-2-2-2zM9 17H7v-7h2v7zm4 0h-2V7h2v10zm4 0h-2v-4h2v4z\"/>\n",
              "    </g>\n",
              "</svg>\n",
              "      </button>\n",
              "    </div>\n",
              "\n",
              "<style>\n",
              "  .colab-df-quickchart {\n",
              "    background-color: #E8F0FE;\n",
              "    border: none;\n",
              "    border-radius: 50%;\n",
              "    cursor: pointer;\n",
              "    display: none;\n",
              "    fill: #1967D2;\n",
              "    height: 32px;\n",
              "    padding: 0 0 0 0;\n",
              "    width: 32px;\n",
              "  }\n",
              "\n",
              "  .colab-df-quickchart:hover {\n",
              "    background-color: #E2EBFA;\n",
              "    box-shadow: 0px 1px 2px rgba(60, 64, 67, 0.3), 0px 1px 3px 1px rgba(60, 64, 67, 0.15);\n",
              "    fill: #174EA6;\n",
              "  }\n",
              "\n",
              "  [theme=dark] .colab-df-quickchart {\n",
              "    background-color: #3B4455;\n",
              "    fill: #D2E3FC;\n",
              "  }\n",
              "\n",
              "  [theme=dark] .colab-df-quickchart:hover {\n",
              "    background-color: #434B5C;\n",
              "    box-shadow: 0px 1px 3px 1px rgba(0, 0, 0, 0.15);\n",
              "    filter: drop-shadow(0px 1px 2px rgba(0, 0, 0, 0.3));\n",
              "    fill: #FFFFFF;\n",
              "  }\n",
              "</style>\n",
              "\n",
              "    <script>\n",
              "      async function quickchart(key) {\n",
              "        const containerElement = document.querySelector('#' + key);\n",
              "        const charts = await google.colab.kernel.invokeFunction(\n",
              "            'suggestCharts', [key], {});\n",
              "      }\n",
              "    </script>\n",
              "\n",
              "      <script>\n",
              "\n",
              "function displayQuickchartButton(domScope) {\n",
              "  let quickchartButtonEl =\n",
              "    domScope.querySelector('#df-8ffe2749-1aa5-44ea-be24-c26dfcf9693b button.colab-df-quickchart');\n",
              "  quickchartButtonEl.style.display =\n",
              "    google.colab.kernel.accessAllowed ? 'block' : 'none';\n",
              "}\n",
              "\n",
              "        displayQuickchartButton(document);\n",
              "      </script>\n",
              "      <style>\n",
              "    .colab-df-container {\n",
              "      display:flex;\n",
              "      flex-wrap:wrap;\n",
              "      gap: 12px;\n",
              "    }\n",
              "\n",
              "    .colab-df-convert {\n",
              "      background-color: #E8F0FE;\n",
              "      border: none;\n",
              "      border-radius: 50%;\n",
              "      cursor: pointer;\n",
              "      display: none;\n",
              "      fill: #1967D2;\n",
              "      height: 32px;\n",
              "      padding: 0 0 0 0;\n",
              "      width: 32px;\n",
              "    }\n",
              "\n",
              "    .colab-df-convert:hover {\n",
              "      background-color: #E2EBFA;\n",
              "      box-shadow: 0px 1px 2px rgba(60, 64, 67, 0.3), 0px 1px 3px 1px rgba(60, 64, 67, 0.15);\n",
              "      fill: #174EA6;\n",
              "    }\n",
              "\n",
              "    [theme=dark] .colab-df-convert {\n",
              "      background-color: #3B4455;\n",
              "      fill: #D2E3FC;\n",
              "    }\n",
              "\n",
              "    [theme=dark] .colab-df-convert:hover {\n",
              "      background-color: #434B5C;\n",
              "      box-shadow: 0px 1px 3px 1px rgba(0, 0, 0, 0.15);\n",
              "      filter: drop-shadow(0px 1px 2px rgba(0, 0, 0, 0.3));\n",
              "      fill: #FFFFFF;\n",
              "    }\n",
              "  </style>\n",
              "\n",
              "      <script>\n",
              "        const buttonEl =\n",
              "          document.querySelector('#df-7f236ae5-b9b4-41aa-8007-00ce7472f03d button.colab-df-convert');\n",
              "        buttonEl.style.display =\n",
              "          google.colab.kernel.accessAllowed ? 'block' : 'none';\n",
              "\n",
              "        async function convertToInteractive(key) {\n",
              "          const element = document.querySelector('#df-7f236ae5-b9b4-41aa-8007-00ce7472f03d');\n",
              "          const dataTable =\n",
              "            await google.colab.kernel.invokeFunction('convertToInteractive',\n",
              "                                                     [key], {});\n",
              "          if (!dataTable) return;\n",
              "\n",
              "          const docLinkHtml = 'Like what you see? Visit the ' +\n",
              "            '<a target=\"_blank\" href=https://colab.research.google.com/notebooks/data_table.ipynb>data table notebook</a>'\n",
              "            + ' to learn more about interactive tables.';\n",
              "          element.innerHTML = '';\n",
              "          dataTable['output_type'] = 'display_data';\n",
              "          await google.colab.output.renderOutput(dataTable, element);\n",
              "          const docLink = document.createElement('div');\n",
              "          docLink.innerHTML = docLinkHtml;\n",
              "          element.appendChild(docLink);\n",
              "        }\n",
              "      </script>\n",
              "    </div>\n",
              "  </div>\n"
            ]
          },
          "metadata": {},
          "execution_count": 14
        }
      ]
    },
    {
      "cell_type": "code",
      "source": [
        "test_set = dataclean(test_set)\n",
        "test_set"
      ],
      "metadata": {
        "colab": {
          "base_uri": "https://localhost:8080/",
          "height": 1000
        },
        "id": "Xh4DGHQqCGmB",
        "outputId": "9a828567-b6be-4d5f-9ce2-f796d3e92d5a"
      },
      "execution_count": 15,
      "outputs": [
        {
          "output_type": "stream",
          "name": "stderr",
          "text": [
            "Cleaning Data Phase I...: 100%|██████████| 1257/1257 [00:00<00:00, 103501.05it/s]\n",
            "removing emoji...: 100%|██████████| 1257/1257 [00:00<00:00, 135189.11it/s]\n",
            "removing punctuation...: 100%|██████████| 1257/1257 [00:00<00:00, 144603.40it/s]\n",
            "Tokenizing Data...: 100%|██████████| 1257/1257 [00:00<00:00, 5082.49it/s]\n",
            "Cleaning Data Phase II...: 100%|██████████| 1257/1257 [00:00<00:00, 3978.14it/s]\n",
            "Stemming And Lemmatizing: 100%|██████████| 1257/1257 [00:00<00:00, 4603.47it/s]\n"
          ]
        },
        {
          "output_type": "execute_result",
          "data": {
            "text/plain": [
              "                                                   text  category  \\\n",
              "0     daily likes & views pakka vanthavaga ellarukum...  positive   \n",
              "1     25 k dislikes ethuku da intha trailerku poi ap...  negative   \n",
              "3               it looks like hindi movie amitab bachan  positive   \n",
              "4     thalaivarukku nejamavey vayasaagiduchu... siva...  positive   \n",
              "5                thala nu sollu thala  nemirinthu nillu  positive   \n",
              "...                                                 ...       ...   \n",
              "1254          earphone la u1 bgm kekum pothu vera level  positive   \n",
              "1255  sappypathy vijayamma bigilu ummpi get more dis...  negative   \n",
              "1256                     stylea erukana ha ha naturally  positive   \n",
              "1257              style la irukana hahaha mass dialogue  negative   \n",
              "1259  naa indha trailer 30 time paathuten pakka pakk...  positive   \n",
              "\n",
              "                                         pre_clean_text  \\\n",
              "0     daily likes & views pakka vanthavaga ellarukum...   \n",
              "1     25 k dislikes ethuku da intha trailerku poi ap...   \n",
              "3               it looks like hindi movie amitab bachan   \n",
              "4     thalaivarukku nejamavey vayasaagiduchu... siva...   \n",
              "5                 thala nu sollu thala nemirinthu nillu   \n",
              "...                                                 ...   \n",
              "1254          earphone la u1 bgm kekum pothu vera level   \n",
              "1255  sappypathy vijayamma bigilu ummpi get more dis...   \n",
              "1256                     stylea erukana ha ha naturally   \n",
              "1257              style la irukana hahaha mass dialogue   \n",
              "1259  naa indha trailer 30 time paathuten pakka pakk...   \n",
              "\n",
              "                                        remove_emoticon  \\\n",
              "0     daily likes & views pakka vanthavaga ellarukum...   \n",
              "1     25 k dislikes ethuku da intha trailerku poi ap...   \n",
              "3               it looks like hindi movie amitab bachan   \n",
              "4     thalaivarukku nejamavey vayasaagiduchu... siva...   \n",
              "5                 thala nu sollu thala nemirinthu nillu   \n",
              "...                                                 ...   \n",
              "1254          earphone la u1 bgm kekum pothu vera level   \n",
              "1255  sappypathy vijayamma bigilu ummpi get more dis...   \n",
              "1256                     stylea erukana ha ha naturally   \n",
              "1257              style la irukana hahaha mass dialogue   \n",
              "1259  naa indha trailer 30 time paathuten pakka pakk...   \n",
              "\n",
              "                                            remove_punc  \\\n",
              "0     daily likes  views pakka vanthavaga ellarukum ...   \n",
              "1     25 k dislikes ethuku da intha trailerku poi ap...   \n",
              "3               it looks like hindi movie amitab bachan   \n",
              "4     thalaivarukku nejamavey vayasaagiduchu sivaji ...   \n",
              "5                 thala nu sollu thala nemirinthu nillu   \n",
              "...                                                 ...   \n",
              "1254          earphone la u1 bgm kekum pothu vera level   \n",
              "1255  sappypathy vijayamma bigilu ummpi get more dis...   \n",
              "1256                     stylea erukana ha ha naturally   \n",
              "1257              style la irukana hahaha mass dialogue   \n",
              "1259  naa indha trailer 30 time paathuten pakka pakk...   \n",
              "\n",
              "                                               tokenize  \\\n",
              "0     [daily, likes, views, pakka, vanthavaga, ellar...   \n",
              "1     [25, k, dislikes, ethuku, da, intha, trailerku...   \n",
              "3       [it, looks, like, hindi, movie, amitab, bachan]   \n",
              "4     [thalaivarukku, nejamavey, vayasaagiduchu, siv...   \n",
              "5          [thala, nu, sollu, thala, nemirinthu, nillu]   \n",
              "...                                                 ...   \n",
              "1254  [earphone, la, u1, bgm, kekum, pothu, vera, le...   \n",
              "1255  [sappypathy, vijayamma, bigilu, ummpi, get, mo...   \n",
              "1256               [stylea, erukana, ha, ha, naturally]   \n",
              "1257       [style, la, irukana, hahaha, mass, dialogue]   \n",
              "1259  [naa, indha, trailer, 30, time, paathuten, pak...   \n",
              "\n",
              "                                      remove_stop_words  \\\n",
              "0     [daily, likes, views, pakka, vanthavaga, ellar...   \n",
              "1     [25, dislikes, ethuku, da, intha, trailerku, p...   \n",
              "3           [looks, like, hindi, movie, amitab, bachan]   \n",
              "4     [thalaivarukku, nejamavey, vayasaagiduchu, siv...   \n",
              "5          [thala, nu, sollu, thala, nemirinthu, nillu]   \n",
              "...                                                 ...   \n",
              "1254  [earphone, la, u1, bgm, kekum, pothu, vera, le...   \n",
              "1255  [sappypathy, vijayamma, bigilu, ummpi, get, di...   \n",
              "1256               [stylea, erukana, ha, ha, naturally]   \n",
              "1257       [style, la, irukana, hahaha, mass, dialogue]   \n",
              "1259  [naa, indha, trailer, 30, time, paathuten, pak...   \n",
              "\n",
              "                                           stem_and_lem  \n",
              "0          dai lik view pakk vanthavag ellaruk vanakkam  \n",
              "1     25 dislik ethuku da inth trailerku poi apd ung...  \n",
              "3                        look lik hind movy amitab bach  \n",
              "4     thalaivarukku nejamavey vayasaagiduchu sivaj t...  \n",
              "5                   thal nu sollu thal nemirinthu nillu  \n",
              "...                                                 ...  \n",
              "1254              earphon la u1 bgm kek pothu ver level  \n",
              "1255  sappypathy vijayamm bigilu ummp get dislik tar...  \n",
              "1256                             style erukan ha ha nat  \n",
              "1257                   styl la irukan hahah mass dialog  \n",
              "1259  naa indh trail 30 tim paathut pakk pakk thal m...  \n",
              "\n",
              "[1019 rows x 8 columns]"
            ],
            "text/html": [
              "\n",
              "\n",
              "  <div id=\"df-038790c6-346f-47bd-94cf-a24cb613ba10\">\n",
              "    <div class=\"colab-df-container\">\n",
              "      <div>\n",
              "<style scoped>\n",
              "    .dataframe tbody tr th:only-of-type {\n",
              "        vertical-align: middle;\n",
              "    }\n",
              "\n",
              "    .dataframe tbody tr th {\n",
              "        vertical-align: top;\n",
              "    }\n",
              "\n",
              "    .dataframe thead th {\n",
              "        text-align: right;\n",
              "    }\n",
              "</style>\n",
              "<table border=\"1\" class=\"dataframe\">\n",
              "  <thead>\n",
              "    <tr style=\"text-align: right;\">\n",
              "      <th></th>\n",
              "      <th>text</th>\n",
              "      <th>category</th>\n",
              "      <th>pre_clean_text</th>\n",
              "      <th>remove_emoticon</th>\n",
              "      <th>remove_punc</th>\n",
              "      <th>tokenize</th>\n",
              "      <th>remove_stop_words</th>\n",
              "      <th>stem_and_lem</th>\n",
              "    </tr>\n",
              "  </thead>\n",
              "  <tbody>\n",
              "    <tr>\n",
              "      <th>0</th>\n",
              "      <td>daily likes &amp; views pakka vanthavaga ellarukum...</td>\n",
              "      <td>positive</td>\n",
              "      <td>daily likes &amp; views pakka vanthavaga ellarukum...</td>\n",
              "      <td>daily likes &amp; views pakka vanthavaga ellarukum...</td>\n",
              "      <td>daily likes  views pakka vanthavaga ellarukum ...</td>\n",
              "      <td>[daily, likes, views, pakka, vanthavaga, ellar...</td>\n",
              "      <td>[daily, likes, views, pakka, vanthavaga, ellar...</td>\n",
              "      <td>dai lik view pakk vanthavag ellaruk vanakkam</td>\n",
              "    </tr>\n",
              "    <tr>\n",
              "      <th>1</th>\n",
              "      <td>25 k dislikes ethuku da intha trailerku poi ap...</td>\n",
              "      <td>negative</td>\n",
              "      <td>25 k dislikes ethuku da intha trailerku poi ap...</td>\n",
              "      <td>25 k dislikes ethuku da intha trailerku poi ap...</td>\n",
              "      <td>25 k dislikes ethuku da intha trailerku poi ap...</td>\n",
              "      <td>[25, k, dislikes, ethuku, da, intha, trailerku...</td>\n",
              "      <td>[25, dislikes, ethuku, da, intha, trailerku, p...</td>\n",
              "      <td>25 dislik ethuku da inth trailerku poi apd ung...</td>\n",
              "    </tr>\n",
              "    <tr>\n",
              "      <th>3</th>\n",
              "      <td>it looks like hindi movie amitab bachan</td>\n",
              "      <td>positive</td>\n",
              "      <td>it looks like hindi movie amitab bachan</td>\n",
              "      <td>it looks like hindi movie amitab bachan</td>\n",
              "      <td>it looks like hindi movie amitab bachan</td>\n",
              "      <td>[it, looks, like, hindi, movie, amitab, bachan]</td>\n",
              "      <td>[looks, like, hindi, movie, amitab, bachan]</td>\n",
              "      <td>look lik hind movy amitab bach</td>\n",
              "    </tr>\n",
              "    <tr>\n",
              "      <th>4</th>\n",
              "      <td>thalaivarukku nejamavey vayasaagiduchu... siva...</td>\n",
              "      <td>positive</td>\n",
              "      <td>thalaivarukku nejamavey vayasaagiduchu... siva...</td>\n",
              "      <td>thalaivarukku nejamavey vayasaagiduchu... siva...</td>\n",
              "      <td>thalaivarukku nejamavey vayasaagiduchu sivaji ...</td>\n",
              "      <td>[thalaivarukku, nejamavey, vayasaagiduchu, siv...</td>\n",
              "      <td>[thalaivarukku, nejamavey, vayasaagiduchu, siv...</td>\n",
              "      <td>thalaivarukku nejamavey vayasaagiduchu sivaj t...</td>\n",
              "    </tr>\n",
              "    <tr>\n",
              "      <th>5</th>\n",
              "      <td>thala nu sollu thala  nemirinthu nillu</td>\n",
              "      <td>positive</td>\n",
              "      <td>thala nu sollu thala nemirinthu nillu</td>\n",
              "      <td>thala nu sollu thala nemirinthu nillu</td>\n",
              "      <td>thala nu sollu thala nemirinthu nillu</td>\n",
              "      <td>[thala, nu, sollu, thala, nemirinthu, nillu]</td>\n",
              "      <td>[thala, nu, sollu, thala, nemirinthu, nillu]</td>\n",
              "      <td>thal nu sollu thal nemirinthu nillu</td>\n",
              "    </tr>\n",
              "    <tr>\n",
              "      <th>...</th>\n",
              "      <td>...</td>\n",
              "      <td>...</td>\n",
              "      <td>...</td>\n",
              "      <td>...</td>\n",
              "      <td>...</td>\n",
              "      <td>...</td>\n",
              "      <td>...</td>\n",
              "      <td>...</td>\n",
              "    </tr>\n",
              "    <tr>\n",
              "      <th>1254</th>\n",
              "      <td>earphone la u1 bgm kekum pothu vera level</td>\n",
              "      <td>positive</td>\n",
              "      <td>earphone la u1 bgm kekum pothu vera level</td>\n",
              "      <td>earphone la u1 bgm kekum pothu vera level</td>\n",
              "      <td>earphone la u1 bgm kekum pothu vera level</td>\n",
              "      <td>[earphone, la, u1, bgm, kekum, pothu, vera, le...</td>\n",
              "      <td>[earphone, la, u1, bgm, kekum, pothu, vera, le...</td>\n",
              "      <td>earphon la u1 bgm kek pothu ver level</td>\n",
              "    </tr>\n",
              "    <tr>\n",
              "      <th>1255</th>\n",
              "      <td>sappypathy vijayamma bigilu ummpi get more dis...</td>\n",
              "      <td>negative</td>\n",
              "      <td>sappypathy vijayamma bigilu ummpi get more dis...</td>\n",
              "      <td>sappypathy vijayamma bigilu ummpi get more dis...</td>\n",
              "      <td>sappypathy vijayamma bigilu ummpi get more dis...</td>\n",
              "      <td>[sappypathy, vijayamma, bigilu, ummpi, get, mo...</td>\n",
              "      <td>[sappypathy, vijayamma, bigilu, ummpi, get, di...</td>\n",
              "      <td>sappypathy vijayamm bigilu ummp get dislik tar...</td>\n",
              "    </tr>\n",
              "    <tr>\n",
              "      <th>1256</th>\n",
              "      <td>stylea erukana ha ha naturally</td>\n",
              "      <td>positive</td>\n",
              "      <td>stylea erukana ha ha naturally</td>\n",
              "      <td>stylea erukana ha ha naturally</td>\n",
              "      <td>stylea erukana ha ha naturally</td>\n",
              "      <td>[stylea, erukana, ha, ha, naturally]</td>\n",
              "      <td>[stylea, erukana, ha, ha, naturally]</td>\n",
              "      <td>style erukan ha ha nat</td>\n",
              "    </tr>\n",
              "    <tr>\n",
              "      <th>1257</th>\n",
              "      <td>style la irukana hahaha mass dialogue</td>\n",
              "      <td>negative</td>\n",
              "      <td>style la irukana hahaha mass dialogue</td>\n",
              "      <td>style la irukana hahaha mass dialogue</td>\n",
              "      <td>style la irukana hahaha mass dialogue</td>\n",
              "      <td>[style, la, irukana, hahaha, mass, dialogue]</td>\n",
              "      <td>[style, la, irukana, hahaha, mass, dialogue]</td>\n",
              "      <td>styl la irukan hahah mass dialog</td>\n",
              "    </tr>\n",
              "    <tr>\n",
              "      <th>1259</th>\n",
              "      <td>naa indha trailer 30 time paathuten pakka pakk...</td>\n",
              "      <td>positive</td>\n",
              "      <td>naa indha trailer 30 time paathuten pakka pakk...</td>\n",
              "      <td>naa indha trailer 30 time paathuten pakka pakk...</td>\n",
              "      <td>naa indha trailer 30 time paathuten pakka pakk...</td>\n",
              "      <td>[naa, indha, trailer, 30, time, paathuten, pak...</td>\n",
              "      <td>[naa, indha, trailer, 30, time, paathuten, pak...</td>\n",
              "      <td>naa indh trail 30 tim paathut pakk pakk thal m...</td>\n",
              "    </tr>\n",
              "  </tbody>\n",
              "</table>\n",
              "<p>1019 rows × 8 columns</p>\n",
              "</div>\n",
              "      <button class=\"colab-df-convert\" onclick=\"convertToInteractive('df-038790c6-346f-47bd-94cf-a24cb613ba10')\"\n",
              "              title=\"Convert this dataframe to an interactive table.\"\n",
              "              style=\"display:none;\">\n",
              "\n",
              "  <svg xmlns=\"http://www.w3.org/2000/svg\" height=\"24px\"viewBox=\"0 0 24 24\"\n",
              "       width=\"24px\">\n",
              "    <path d=\"M0 0h24v24H0V0z\" fill=\"none\"/>\n",
              "    <path d=\"M18.56 5.44l.94 2.06.94-2.06 2.06-.94-2.06-.94-.94-2.06-.94 2.06-2.06.94zm-11 1L8.5 8.5l.94-2.06 2.06-.94-2.06-.94L8.5 2.5l-.94 2.06-2.06.94zm10 10l.94 2.06.94-2.06 2.06-.94-2.06-.94-.94-2.06-.94 2.06-2.06.94z\"/><path d=\"M17.41 7.96l-1.37-1.37c-.4-.4-.92-.59-1.43-.59-.52 0-1.04.2-1.43.59L10.3 9.45l-7.72 7.72c-.78.78-.78 2.05 0 2.83L4 21.41c.39.39.9.59 1.41.59.51 0 1.02-.2 1.41-.59l7.78-7.78 2.81-2.81c.8-.78.8-2.07 0-2.86zM5.41 20L4 18.59l7.72-7.72 1.47 1.35L5.41 20z\"/>\n",
              "  </svg>\n",
              "      </button>\n",
              "\n",
              "\n",
              "\n",
              "    <div id=\"df-744c5008-82e9-4bde-b344-73fa3661789e\">\n",
              "      <button class=\"colab-df-quickchart\" onclick=\"quickchart('df-744c5008-82e9-4bde-b344-73fa3661789e')\"\n",
              "              title=\"Suggest charts.\"\n",
              "              style=\"display:none;\">\n",
              "\n",
              "<svg xmlns=\"http://www.w3.org/2000/svg\" height=\"24px\"viewBox=\"0 0 24 24\"\n",
              "     width=\"24px\">\n",
              "    <g>\n",
              "        <path d=\"M19 3H5c-1.1 0-2 .9-2 2v14c0 1.1.9 2 2 2h14c1.1 0 2-.9 2-2V5c0-1.1-.9-2-2-2zM9 17H7v-7h2v7zm4 0h-2V7h2v10zm4 0h-2v-4h2v4z\"/>\n",
              "    </g>\n",
              "</svg>\n",
              "      </button>\n",
              "    </div>\n",
              "\n",
              "<style>\n",
              "  .colab-df-quickchart {\n",
              "    background-color: #E8F0FE;\n",
              "    border: none;\n",
              "    border-radius: 50%;\n",
              "    cursor: pointer;\n",
              "    display: none;\n",
              "    fill: #1967D2;\n",
              "    height: 32px;\n",
              "    padding: 0 0 0 0;\n",
              "    width: 32px;\n",
              "  }\n",
              "\n",
              "  .colab-df-quickchart:hover {\n",
              "    background-color: #E2EBFA;\n",
              "    box-shadow: 0px 1px 2px rgba(60, 64, 67, 0.3), 0px 1px 3px 1px rgba(60, 64, 67, 0.15);\n",
              "    fill: #174EA6;\n",
              "  }\n",
              "\n",
              "  [theme=dark] .colab-df-quickchart {\n",
              "    background-color: #3B4455;\n",
              "    fill: #D2E3FC;\n",
              "  }\n",
              "\n",
              "  [theme=dark] .colab-df-quickchart:hover {\n",
              "    background-color: #434B5C;\n",
              "    box-shadow: 0px 1px 3px 1px rgba(0, 0, 0, 0.15);\n",
              "    filter: drop-shadow(0px 1px 2px rgba(0, 0, 0, 0.3));\n",
              "    fill: #FFFFFF;\n",
              "  }\n",
              "</style>\n",
              "\n",
              "    <script>\n",
              "      async function quickchart(key) {\n",
              "        const containerElement = document.querySelector('#' + key);\n",
              "        const charts = await google.colab.kernel.invokeFunction(\n",
              "            'suggestCharts', [key], {});\n",
              "      }\n",
              "    </script>\n",
              "\n",
              "      <script>\n",
              "\n",
              "function displayQuickchartButton(domScope) {\n",
              "  let quickchartButtonEl =\n",
              "    domScope.querySelector('#df-744c5008-82e9-4bde-b344-73fa3661789e button.colab-df-quickchart');\n",
              "  quickchartButtonEl.style.display =\n",
              "    google.colab.kernel.accessAllowed ? 'block' : 'none';\n",
              "}\n",
              "\n",
              "        displayQuickchartButton(document);\n",
              "      </script>\n",
              "      <style>\n",
              "    .colab-df-container {\n",
              "      display:flex;\n",
              "      flex-wrap:wrap;\n",
              "      gap: 12px;\n",
              "    }\n",
              "\n",
              "    .colab-df-convert {\n",
              "      background-color: #E8F0FE;\n",
              "      border: none;\n",
              "      border-radius: 50%;\n",
              "      cursor: pointer;\n",
              "      display: none;\n",
              "      fill: #1967D2;\n",
              "      height: 32px;\n",
              "      padding: 0 0 0 0;\n",
              "      width: 32px;\n",
              "    }\n",
              "\n",
              "    .colab-df-convert:hover {\n",
              "      background-color: #E2EBFA;\n",
              "      box-shadow: 0px 1px 2px rgba(60, 64, 67, 0.3), 0px 1px 3px 1px rgba(60, 64, 67, 0.15);\n",
              "      fill: #174EA6;\n",
              "    }\n",
              "\n",
              "    [theme=dark] .colab-df-convert {\n",
              "      background-color: #3B4455;\n",
              "      fill: #D2E3FC;\n",
              "    }\n",
              "\n",
              "    [theme=dark] .colab-df-convert:hover {\n",
              "      background-color: #434B5C;\n",
              "      box-shadow: 0px 1px 3px 1px rgba(0, 0, 0, 0.15);\n",
              "      filter: drop-shadow(0px 1px 2px rgba(0, 0, 0, 0.3));\n",
              "      fill: #FFFFFF;\n",
              "    }\n",
              "  </style>\n",
              "\n",
              "      <script>\n",
              "        const buttonEl =\n",
              "          document.querySelector('#df-038790c6-346f-47bd-94cf-a24cb613ba10 button.colab-df-convert');\n",
              "        buttonEl.style.display =\n",
              "          google.colab.kernel.accessAllowed ? 'block' : 'none';\n",
              "\n",
              "        async function convertToInteractive(key) {\n",
              "          const element = document.querySelector('#df-038790c6-346f-47bd-94cf-a24cb613ba10');\n",
              "          const dataTable =\n",
              "            await google.colab.kernel.invokeFunction('convertToInteractive',\n",
              "                                                     [key], {});\n",
              "          if (!dataTable) return;\n",
              "\n",
              "          const docLinkHtml = 'Like what you see? Visit the ' +\n",
              "            '<a target=\"_blank\" href=https://colab.research.google.com/notebooks/data_table.ipynb>data table notebook</a>'\n",
              "            + ' to learn more about interactive tables.';\n",
              "          element.innerHTML = '';\n",
              "          dataTable['output_type'] = 'display_data';\n",
              "          await google.colab.output.renderOutput(dataTable, element);\n",
              "          const docLink = document.createElement('div');\n",
              "          docLink.innerHTML = docLinkHtml;\n",
              "          element.appendChild(docLink);\n",
              "        }\n",
              "      </script>\n",
              "    </div>\n",
              "  </div>\n"
            ]
          },
          "metadata": {},
          "execution_count": 15
        }
      ]
    },
    {
      "cell_type": "markdown",
      "source": [
        "#Feature Extraction"
      ],
      "metadata": {
        "id": "nsMb51LRCNe8"
      }
    },
    {
      "cell_type": "code",
      "source": [
        "# target Value\n",
        "y_train = train_set['category']\n",
        "y_test = test_set['category']"
      ],
      "metadata": {
        "id": "Sbe-6UQnMeBr"
      },
      "execution_count": 16,
      "outputs": []
    },
    {
      "cell_type": "markdown",
      "source": [
        "##Bag of word"
      ],
      "metadata": {
        "id": "ZLXfd-8RCaz7"
      }
    },
    {
      "cell_type": "code",
      "source": [
        "from sklearn.feature_extraction.text import CountVectorizer"
      ],
      "metadata": {
        "id": "B6RqJ0lUConF"
      },
      "execution_count": 17,
      "outputs": []
    },
    {
      "cell_type": "code",
      "source": [
        "vectorizer = CountVectorizer()\n",
        "X_train_bow = vectorizer.fit_transform(train_set['stem_and_lem'])\n",
        "X_test_bow = vectorizer.transform(test_set['stem_and_lem'])"
      ],
      "metadata": {
        "id": "pjHtU_h4CZ-x"
      },
      "execution_count": 18,
      "outputs": []
    },
    {
      "cell_type": "code",
      "source": [
        "X_train_bow , X_test_bow"
      ],
      "metadata": {
        "colab": {
          "base_uri": "https://localhost:8080/"
        },
        "id": "J2hWKVYoCZK8",
        "outputId": "c6f08307-afce-429f-d2d9-e517d6b0812e"
      },
      "execution_count": 19,
      "outputs": [
        {
          "output_type": "execute_result",
          "data": {
            "text/plain": [
              "(<8993x14348 sparse matrix of type '<class 'numpy.int64'>'\n",
              " \twith 66038 stored elements in Compressed Sparse Row format>,\n",
              " <1019x14348 sparse matrix of type '<class 'numpy.int64'>'\n",
              " \twith 6377 stored elements in Compressed Sparse Row format>)"
            ]
          },
          "metadata": {},
          "execution_count": 19
        }
      ]
    },
    {
      "cell_type": "code",
      "source": [],
      "metadata": {
        "id": "lRP_lZmmNM6A"
      },
      "execution_count": 19,
      "outputs": []
    },
    {
      "cell_type": "markdown",
      "source": [
        "## TF-IDF"
      ],
      "metadata": {
        "id": "MePED6bCI0U3"
      }
    },
    {
      "cell_type": "code",
      "source": [
        "from sklearn.feature_extraction.text import TfidfVectorizer\n",
        "vectorizer = TfidfVectorizer()\n",
        "X_trainTF_IDF = vectorizer.fit_transform(train_set['stem_and_lem'])\n",
        "X_testTF_IDF = vectorizer.transform(test_set['stem_and_lem'])\n",
        "\n"
      ],
      "metadata": {
        "id": "ZaNaJqLFJDze"
      },
      "execution_count": 20,
      "outputs": []
    },
    {
      "cell_type": "code",
      "source": [
        "\n",
        "X_trainTF_IDF , X_testTF_IDF"
      ],
      "metadata": {
        "colab": {
          "base_uri": "https://localhost:8080/"
        },
        "id": "ewyDZ9OkNKD9",
        "outputId": "9a33e4a3-541d-486e-d689-abaf5f9dcf8c"
      },
      "execution_count": 21,
      "outputs": [
        {
          "output_type": "execute_result",
          "data": {
            "text/plain": [
              "(<8993x14348 sparse matrix of type '<class 'numpy.float64'>'\n",
              " \twith 66038 stored elements in Compressed Sparse Row format>,\n",
              " <1019x14348 sparse matrix of type '<class 'numpy.float64'>'\n",
              " \twith 6377 stored elements in Compressed Sparse Row format>)"
            ]
          },
          "metadata": {},
          "execution_count": 21
        }
      ]
    },
    {
      "cell_type": "code",
      "source": [],
      "metadata": {
        "id": "uyD5YNONNKgP"
      },
      "execution_count": 21,
      "outputs": []
    },
    {
      "cell_type": "markdown",
      "source": [
        "#Model\n"
      ],
      "metadata": {
        "id": "JHVDVziPkEiu"
      }
    },
    {
      "cell_type": "markdown",
      "source": [
        "##BOW"
      ],
      "metadata": {
        "id": "UCoZcdQmlE34"
      }
    },
    {
      "cell_type": "code",
      "source": [
        "from sklearn.feature_selection import SelectKBest, chi2\n",
        "from sklearn.svm import SVC\n",
        "from sklearn.metrics import accuracy_score, classification_report, confusion_matrix"
      ],
      "metadata": {
        "id": "2_ZgGoqPkcdr"
      },
      "execution_count": 22,
      "outputs": []
    },
    {
      "cell_type": "code",
      "source": [
        "k_best = 500\n",
        "selector = SelectKBest(chi2, k=k_best)\n",
        "X_train_bow_fs = selector.fit_transform(X_train_bow, y_train)\n",
        "X_test_bow_fs = selector.transform(X_test_bow)\n",
        "\n",
        "# SVM\n",
        "svm_classifier = SVC(kernel='linear')\n",
        "svm_classifier.fit(X_train_bow_fs, y_train)\n",
        "\n",
        "svm_predictions = svm_classifier.predict(X_test_bow_fs)\n",
        "\n",
        "svm_accuracy = accuracy_score(y_test, svm_predictions)\n",
        "\n",
        "print(f\"SVM Accuracy: {svm_accuracy:.2f}\")\n",
        "print(classification_report(y_test, svm_predictions))\n"
      ],
      "metadata": {
        "colab": {
          "base_uri": "https://localhost:8080/"
        },
        "id": "XI0GDKnskGgu",
        "outputId": "862bf116-5c02-4ca5-8e25-e6ae2bc03453"
      },
      "execution_count": 23,
      "outputs": [
        {
          "output_type": "stream",
          "name": "stdout",
          "text": [
            "SVM Accuracy: 0.83\n",
            "              precision    recall  f1-score   support\n",
            "\n",
            "    negative       0.44      0.14      0.21       164\n",
            "    positive       0.85      0.97      0.91       855\n",
            "\n",
            "    accuracy                           0.83      1019\n",
            "   macro avg       0.65      0.55      0.56      1019\n",
            "weighted avg       0.79      0.83      0.80      1019\n",
            "\n"
          ]
        }
      ]
    },
    {
      "cell_type": "markdown",
      "source": [
        "##TF-IDF"
      ],
      "metadata": {
        "id": "ByklXMLvlT40"
      }
    },
    {
      "cell_type": "code",
      "source": [
        "k_best = 500\n",
        "selector = SelectKBest(chi2, k=k_best)\n",
        "X_train_tfidf_fs = selector.fit_transform(X_trainTF_IDF, y_train)\n",
        "X_test_tfidf_fs = selector.transform(X_testTF_IDF)\n",
        "\n",
        "# SVM\n",
        "svm_classifier = SVC(kernel='linear')\n",
        "svm_classifier.fit(X_train_tfidf_fs, y_train)\n",
        "\n",
        "svm_predictions = svm_classifier.predict(X_test_tfidf_fs)\n",
        "\n",
        "svm_accuracy = accuracy_score(y_test, svm_predictions)\n",
        "\n",
        "print(f\"SVM Accuracy: {svm_accuracy:.2f}\")\n",
        "print(classification_report(y_test, svm_predictions))\n"
      ],
      "metadata": {
        "colab": {
          "base_uri": "https://localhost:8080/"
        },
        "id": "SY08aJOWlTFh",
        "outputId": "5780cd52-cf46-44f7-d5e2-bb657586c100"
      },
      "execution_count": 24,
      "outputs": [
        {
          "output_type": "stream",
          "name": "stdout",
          "text": [
            "SVM Accuracy: 0.84\n",
            "              precision    recall  f1-score   support\n",
            "\n",
            "    negative       0.53      0.05      0.10       164\n",
            "    positive       0.85      0.99      0.91       855\n",
            "\n",
            "    accuracy                           0.84      1019\n",
            "   macro avg       0.69      0.52      0.51      1019\n",
            "weighted avg       0.79      0.84      0.78      1019\n",
            "\n"
          ]
        }
      ]
    }
  ]
}
