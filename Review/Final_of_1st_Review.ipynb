{
  "nbformat": 4,
  "nbformat_minor": 0,
  "metadata": {
    "colab": {
      "provenance": []
    },
    "kernelspec": {
      "name": "python3",
      "display_name": "Python 3"
    },
    "language_info": {
      "name": "python"
    }
  },
  "cells": [
    {
      "cell_type": "markdown",
      "source": [
        "# Dataset importing"
      ],
      "metadata": {
        "id": "8iDaZUbo5z89"
      }
    },
    {
      "cell_type": "code",
      "execution_count": 1,
      "metadata": {
        "id": "DfwFvh2W5m5s"
      },
      "outputs": [],
      "source": [
        "import pandas as pd\n",
        "import numpy as np"
      ]
    },
    {
      "cell_type": "code",
      "source": [
        "!wget https://raw.githubusercontent.com/owncodezs/Cyberbullying-classification/main/test.csv\n",
        "!wget https://raw.githubusercontent.com/owncodezs/Cyberbullying-classification/main/train.csv"
      ],
      "metadata": {
        "colab": {
          "base_uri": "https://localhost:8080/"
        },
        "id": "wIklivUr6A3r",
        "outputId": "0c194cec-ed7c-42c7-8d8c-ee15d19c8012"
      },
      "execution_count": 2,
      "outputs": [
        {
          "output_type": "stream",
          "name": "stdout",
          "text": [
            "--2023-07-26 18:58:54--  https://raw.githubusercontent.com/owncodezs/Cyberbullying-classification/main/test.csv\n",
            "Resolving raw.githubusercontent.com (raw.githubusercontent.com)... 185.199.109.133, 185.199.108.133, 185.199.111.133, ...\n",
            "Connecting to raw.githubusercontent.com (raw.githubusercontent.com)|185.199.109.133|:443... connected.\n",
            "HTTP request sent, awaiting response... 200 OK\n",
            "Length: 89724 (88K) [text/plain]\n",
            "Saving to: ‘test.csv’\n",
            "\n",
            "\rtest.csv              0%[                    ]       0  --.-KB/s               \rtest.csv            100%[===================>]  87.62K  --.-KB/s    in 0.005s  \n",
            "\n",
            "2023-07-26 18:58:54 (18.8 MB/s) - ‘test.csv’ saved [89724/89724]\n",
            "\n",
            "--2023-07-26 18:58:54--  https://raw.githubusercontent.com/owncodezs/Cyberbullying-classification/main/train.csv\n",
            "Resolving raw.githubusercontent.com (raw.githubusercontent.com)... 185.199.108.133, 185.199.109.133, 185.199.110.133, ...\n",
            "Connecting to raw.githubusercontent.com (raw.githubusercontent.com)|185.199.108.133|:443... connected.\n",
            "HTTP request sent, awaiting response... 200 OK\n",
            "Length: 791227 (773K) [text/plain]\n",
            "Saving to: ‘train.csv’\n",
            "\n",
            "train.csv           100%[===================>] 772.68K  --.-KB/s    in 0.02s   \n",
            "\n",
            "2023-07-26 18:58:54 (44.1 MB/s) - ‘train.csv’ saved [791227/791227]\n",
            "\n"
          ]
        }
      ]
    },
    {
      "cell_type": "code",
      "source": [
        "train_set = pd.read_csv(\"/content/train.csv\",\n",
        "                   encoding = \"utf-8\",\n",
        "                   engine = \"python\",\n",
        "                   header = 0)\n",
        "\n",
        "test_set = pd.read_csv(\"/content/test.csv\",\n",
        "                   encoding = \"utf-8\",\n",
        "                   engine = \"python\",\n",
        "                   header = 0)"
      ],
      "metadata": {
        "id": "xBJaoLAD6dBd"
      },
      "execution_count": 3,
      "outputs": []
    },
    {
      "cell_type": "code",
      "source": [
        "print('Train dataset shap',train_set.shape)\n",
        "print('Test dataset shap',test_set.shape)"
      ],
      "metadata": {
        "colab": {
          "base_uri": "https://localhost:8080/"
        },
        "id": "mUOPUuv07Usu",
        "outputId": "dbd05fa1-0d33-4e88-b214-52f6217e88d9"
      },
      "execution_count": 4,
      "outputs": [
        {
          "output_type": "stream",
          "name": "stdout",
          "text": [
            "Train dataset shap (11335, 2)\n",
            "Test dataset shap (1260, 2)\n"
          ]
        }
      ]
    },
    {
      "cell_type": "code",
      "source": [
        "print(\"Train datset :\")\n",
        "print(train_set.head())\n",
        "print(\"\\nTest datset :\")\n",
        "print(test_set.head())"
      ],
      "metadata": {
        "colab": {
          "base_uri": "https://localhost:8080/"
        },
        "id": "IVXXcbpM7VGJ",
        "outputId": "cb3422b6-01c4-45e6-aa20-c7e1ed42d616"
      },
      "execution_count": 5,
      "outputs": [
        {
          "output_type": "stream",
          "name": "stdout",
          "text": [
            "Train datset :\n",
            "                                               text  category\n",
            "0          Trailer late ah parthavanga like podunga  Positive\n",
            "1        Move pathutu vanthu trailer pakurvnga yaru  Positive\n",
            "2          Puthupetai dhanush  ah yarellam pathinga  Positive\n",
            "3  Dhanush oda character ,puthu sa erukay , mass ta  Positive\n",
            "4  vera level ippa pesungada mokka nu thalaivaaaaaa  Positive\n",
            "\n",
            "Test datset :\n",
            "                                                text        category\n",
            "0  Daily likes & views pakka vanthavaga ellarukum...        Positive\n",
            "1  25 k dislikes ethuku da intha trailerku poi ap...        Negative\n",
            "2                 #Lyca unna nenacha pavama iruku ya  Mixed_feelings\n",
            "3            It looks like Hindi movie amitab bachan        Positive\n",
            "4  Thalaivarukku nejamavey vayasaagiduchu... siva...        Positive\n"
          ]
        }
      ]
    },
    {
      "cell_type": "markdown",
      "source": [
        "# Preprocess"
      ],
      "metadata": {
        "id": "IKEKQ1lF7Qnq"
      }
    },
    {
      "cell_type": "code",
      "source": [
        "import re\n",
        "import nltk\n",
        "import string\n",
        "from nltk.corpus import stopwords\n",
        "from nltk.tokenize import word_tokenize\n",
        "from nltk.stem.lancaster import LancasterStemmer\n",
        "lancaster_stemmer = LancasterStemmer()\n",
        "from nltk.stem import WordNetLemmatizer\n",
        "wordnet_lemmatizer = WordNetLemmatizer()\n",
        "from tqdm import tqdm\n",
        "nltk.download('punkt')\n",
        "nltk.download('stopwords')\n",
        "nltk.download('wordnet')"
      ],
      "metadata": {
        "colab": {
          "base_uri": "https://localhost:8080/"
        },
        "id": "edTQxUqI6j4a",
        "outputId": "29a2bcd8-6e8c-425a-b633-2e50bbeace61"
      },
      "execution_count": 6,
      "outputs": [
        {
          "output_type": "stream",
          "name": "stderr",
          "text": [
            "[nltk_data] Downloading package punkt to /root/nltk_data...\n",
            "[nltk_data]   Unzipping tokenizers/punkt.zip.\n",
            "[nltk_data] Downloading package stopwords to /root/nltk_data...\n",
            "[nltk_data]   Unzipping corpora/stopwords.zip.\n",
            "[nltk_data] Downloading package wordnet to /root/nltk_data...\n"
          ]
        },
        {
          "output_type": "execute_result",
          "data": {
            "text/plain": [
              "True"
            ]
          },
          "metadata": {},
          "execution_count": 6
        }
      ]
    },
    {
      "cell_type": "code",
      "source": [
        "def pre_clean_text(text):\n",
        "    text = re.sub(r'http\\S+|www\\S+|https\\S+', '', text, flags=re.MULTILINE)\n",
        "    text = re.sub(r'@[A-Za-z0-9_]+', '', text)\n",
        "    text = re.sub(r'\\s+', ' ', text).strip()\n",
        "\n",
        "    return text"
      ],
      "metadata": {
        "id": "Y04NEFks9bs2"
      },
      "execution_count": 7,
      "outputs": []
    },
    {
      "cell_type": "code",
      "source": [
        "def remove_emoticon(text):\n",
        "        text=str(text)\n",
        "\n",
        "        emoji_pattern = re.compile(\"[\"\n",
        "                           u\"\\U0001F600-\\U0001F64F\"  # emoticons\n",
        "                           u\"\\U0001F300-\\U0001F5FF\"  # symbols & pictographs\n",
        "                           u\"\\U0001F680-\\U0001F6FF\"  # transport & map symbols\n",
        "                           u\"\\U0001F1E0-\\U0001F1FF\"  # flags\n",
        "                           u\"\\U00002702-\\U000027B0\"\n",
        "                           u\"\\U000024C2-\\U0001F251\"\n",
        "                           \"]+\", flags=re.UNICODE)\n",
        "        return emoji_pattern.sub(r'', text)"
      ],
      "metadata": {
        "id": "2qMr-Knh9hsD"
      },
      "execution_count": 8,
      "outputs": []
    },
    {
      "cell_type": "code",
      "source": [
        "def remove_punc(text):\n",
        "    text=str(text)\n",
        "    table = str.maketrans(\"\", \"\", string.punctuation)\n",
        "    return text.translate(table)"
      ],
      "metadata": {
        "id": "AZ1wB1wP_-Xl"
      },
      "execution_count": 9,
      "outputs": []
    },
    {
      "cell_type": "code",
      "source": [
        "def tokenize(tweet):\n",
        "   tweet=str(tweet)\n",
        "\n",
        "   return word_tokenize(tweet)"
      ],
      "metadata": {
        "id": "2PqTRjgDAH1X"
      },
      "execution_count": 10,
      "outputs": []
    },
    {
      "cell_type": "code",
      "source": [
        "def remove_stop_words(tokens):\n",
        "   clean_tokens = []\n",
        "   newStopWords = ['rt', 'mkr', 'didn', 'bc', 'n', 'm', 'im', 'll', 'y', 've', 'u', 'ur', 'don', 't', 's', 'co','oru', 'enru', 'matrum', 'indha', 'idhu', 'enru', 'kondu', 'enpathu', 'pala', 'aagum', 'allathu', 'avar', 'naan', 'ullu', 'andha', 'ivar', 'ena', 'muthal', 'enna', 'irundhu', 'sila', 'en', 'pontu', 'venṭum', 'vandhu', 'ithan', 'athu', 'avan', 'thaan', 'palarum', 'ennum', 'melum', 'pinar', 'kondu', 'irukkum', 'thanathu', 'ullathu', 'pothu', 'enrum', 'athan', 'than', 'piragu', 'avargal', 'varai', 'aval', 'nee', 'aagiyathu', 'ullana', 'vandha', 'irundh', 'migavum', 'inggu', 'meethu', 'or', 'ivai', 'indha', 'ithaṉaḷ', 'patri', 'varum', 'veṟu', 'iru', 'ithil', 'pol', 'ippothu', 'avarathu', 'maṭṭum', 'indha', 'enuṁ', 'mel', 'pin', 'cernta', 'ākiyōr', 'enakku', 'innum', 'andha', 'anṟu', 'oṟe', 'miga', 'angu', 'palvēru', 'viṭṭu', 'perum', 'athai', 'paṟṟiya', 'uṉ', 'athik', 'andhak', 'pēr', 'indhaṉāḷ', 'avai', 'athe', 'ēn', 'muṟai', 'yār', 'eṉappaṭum', 'ellām', 'maṭṭumē', 'ingkē', 'angkē', 'iṭam', 'iṭattil', 'athil', 'nām', 'atharku', 'eṉavē', 'piṟa', 'siṟu', 'maṟṟa', 'viṭa', 'endha', 'eṉavum', 'eṉappuṭum', 'eṉiṉum', 'aṭutta', 'ithanai', 'ithai', 'koḷḷa', 'indhath', 'ithaṉāl', 'athāl', 'thavira', 'pol', 'varail', 'caṟṟu', 'eṉak']\n",
        "   stopWords = stopwords.words('english')\n",
        "   stopWords.append(newStopWords)\n",
        "  #  print(stopWords)\n",
        "\n",
        "   for token in tokens:\n",
        "       if token not in stopWords:\n",
        "           if token.replace(' ', '') != '':\n",
        "               if len(token) > 1:\n",
        "                   clean_tokens.append(token)\n",
        "   return clean_tokens"
      ],
      "metadata": {
        "id": "GRxecTleAVaI"
      },
      "execution_count": 11,
      "outputs": []
    },
    {
      "cell_type": "code",
      "source": [
        "def stem_and_lem(tokens):\n",
        "   clean_tokens = []\n",
        "   for token in tokens:\n",
        "       token = wordnet_lemmatizer.lemmatize(token)\n",
        "       token = lancaster_stemmer.stem(token)\n",
        "       if len(token) > 1:\n",
        "           clean_tokens.append(token)\n",
        "   return ' '.join(clean_tokens)\n"
      ],
      "metadata": {
        "id": "FD_Qhv-5AXlu"
      },
      "execution_count": 12,
      "outputs": []
    },
    {
      "cell_type": "code",
      "source": [
        "def dataclean(data):\n",
        "  tqdm.pandas(desc=\"Remove duplicates \")\n",
        "  data.drop_duplicates(subset=['text'], inplace=True)\n",
        "  tqdm.pandas(desc=\"To lower letter\")\n",
        "  data = data.applymap(lambda x: x.lower() if isinstance(x, str) else x)\n",
        "\n",
        "  tqdm.pandas(desc=\"Cleaning Data Phase I...\")\n",
        "  data['pre_clean_text'] = data['text'].progress_apply(pre_clean_text)\n",
        "\n",
        "  tqdm.pandas(desc=\"removing emoji...\")\n",
        "  data['remove_emoticon'] = data['pre_clean_text'].progress_apply(remove_emoticon)\n",
        "\n",
        "\n",
        "  tqdm.pandas(desc=\"removing punctuation...\")\n",
        "  data['remove_punc'] = data['remove_emoticon'].progress_apply(remove_punc)\n",
        "\n",
        "\n",
        "\n",
        "  tqdm.pandas(desc=\"Tokenizing Data...\")\n",
        "  data['tokenize'] = data['remove_punc'].progress_apply(tokenize)\n",
        "\n",
        "  tqdm.pandas(desc=\"Cleaning Data Phase II...\")\n",
        "  data['remove_stop_words'] = data['tokenize'].progress_apply(remove_stop_words)\n",
        "\n",
        "  tqdm.pandas(desc=\"Stemming And Lemmatizing\")\n",
        "  data['stem_and_lem'] = data['remove_stop_words'].progress_apply(stem_and_lem)\n",
        "  tqdm.pandas(desc=\"Cleaning Data Phase III...\")\n",
        "\n",
        "  data.drop(data[(data['category'] == 'unknown_state') | (data['category'] == 'not-tamil') |  (data['category'] == 'mixed_feelings')].index, inplace=True)\n",
        "  # data.drop(data[(data['category'] == 'unknown_state') | (data['category'] == 'not-tamil') |(data['category'] == 'non-tamil') |  (data['category'] == 'mixed_feelings')].index, inplace=True)\n",
        "  # data.drop(data[(data['category'] == 'mixed_feelings')].index, inplace=True)\n",
        "  # replacement_dict = {\n",
        "  #     'positive': 0,\n",
        "  #     'negative': 1,\n",
        "  #     'mixed_feelings':-1,\n",
        "  # }\n",
        "  # # Replace values in the DataFrame\n",
        "  # data['category'].replace(replacement_dict, inplace=True)\n",
        "\n",
        "\n",
        "  # stem_and_lem ---> outlet\n",
        "  return data"
      ],
      "metadata": {
        "id": "FOYDFlZQBy1D"
      },
      "execution_count": 13,
      "outputs": []
    },
    {
      "cell_type": "code",
      "source": [
        "train_set = dataclean(train_set)\n",
        "train_set"
      ],
      "metadata": {
        "colab": {
          "base_uri": "https://localhost:8080/",
          "height": 957
        },
        "id": "hg6J3EHmCDI_",
        "outputId": "06c61de3-f719-4535-a80f-998adcc48ea6"
      },
      "execution_count": 14,
      "outputs": [
        {
          "output_type": "stream",
          "name": "stderr",
          "text": [
            "Cleaning Data Phase I...: 100%|██████████| 11237/11237 [00:00<00:00, 62324.07it/s]\n",
            "removing emoji...: 100%|██████████| 11237/11237 [00:00<00:00, 127641.57it/s]\n",
            "removing punctuation...: 100%|██████████| 11237/11237 [00:00<00:00, 141222.31it/s]\n",
            "Tokenizing Data...: 100%|██████████| 11237/11237 [00:02<00:00, 4241.98it/s]\n",
            "Cleaning Data Phase II...: 100%|██████████| 11237/11237 [00:08<00:00, 1353.28it/s]\n",
            "Stemming And Lemmatizing: 100%|██████████| 11237/11237 [00:12<00:00, 913.12it/s] \n"
          ]
        },
        {
          "output_type": "execute_result",
          "data": {
            "text/plain": [
              "                                                    text  category  \\\n",
              "0               trailer late ah parthavanga like podunga  positive   \n",
              "1             move pathutu vanthu trailer pakurvnga yaru  positive   \n",
              "2               puthupetai dhanush  ah yarellam pathinga  positive   \n",
              "3       dhanush oda character ,puthu sa erukay , mass ta  positive   \n",
              "4       vera level ippa pesungada mokka nu thalaivaaaaaa  positive   \n",
              "...                                                  ...       ...   \n",
              "11328                  shankar anna and ar sir sema mass  positive   \n",
              "11329  intha movie la yuvan music therikum pola thonu...  positive   \n",
              "11330         yuvan shankar raja anna fan's like here...  positive   \n",
              "11331    a masterpiece best revenge film i’ve ever scene  positive   \n",
              "11332              enna pa thala ya kamiya than katringa  positive   \n",
              "\n",
              "                                          pre_clean_text  \\\n",
              "0               trailer late ah parthavanga like podunga   \n",
              "1             move pathutu vanthu trailer pakurvnga yaru   \n",
              "2                puthupetai dhanush ah yarellam pathinga   \n",
              "3       dhanush oda character ,puthu sa erukay , mass ta   \n",
              "4       vera level ippa pesungada mokka nu thalaivaaaaaa   \n",
              "...                                                  ...   \n",
              "11328                  shankar anna and ar sir sema mass   \n",
              "11329  intha movie la yuvan music therikum pola thonu...   \n",
              "11330         yuvan shankar raja anna fan's like here...   \n",
              "11331    a masterpiece best revenge film i’ve ever scene   \n",
              "11332              enna pa thala ya kamiya than katringa   \n",
              "\n",
              "                                         remove_emoticon  \\\n",
              "0               trailer late ah parthavanga like podunga   \n",
              "1             move pathutu vanthu trailer pakurvnga yaru   \n",
              "2                puthupetai dhanush ah yarellam pathinga   \n",
              "3       dhanush oda character ,puthu sa erukay , mass ta   \n",
              "4       vera level ippa pesungada mokka nu thalaivaaaaaa   \n",
              "...                                                  ...   \n",
              "11328                  shankar anna and ar sir sema mass   \n",
              "11329  intha movie la yuvan music therikum pola thonu...   \n",
              "11330         yuvan shankar raja anna fan's like here...   \n",
              "11331    a masterpiece best revenge film i’ve ever scene   \n",
              "11332              enna pa thala ya kamiya than katringa   \n",
              "\n",
              "                                             remove_punc  \\\n",
              "0               trailer late ah parthavanga like podunga   \n",
              "1             move pathutu vanthu trailer pakurvnga yaru   \n",
              "2                puthupetai dhanush ah yarellam pathinga   \n",
              "3         dhanush oda character puthu sa erukay  mass ta   \n",
              "4       vera level ippa pesungada mokka nu thalaivaaaaaa   \n",
              "...                                                  ...   \n",
              "11328                  shankar anna and ar sir sema mass   \n",
              "11329  intha movie la yuvan music therikum pola thonu...   \n",
              "11330             yuvan shankar raja anna fans like here   \n",
              "11331    a masterpiece best revenge film i’ve ever scene   \n",
              "11332              enna pa thala ya kamiya than katringa   \n",
              "\n",
              "                                                tokenize  \\\n",
              "0        [trailer, late, ah, parthavanga, like, podunga]   \n",
              "1      [move, pathutu, vanthu, trailer, pakurvnga, yaru]   \n",
              "2          [puthupetai, dhanush, ah, yarellam, pathinga]   \n",
              "3      [dhanush, oda, character, puthu, sa, erukay, m...   \n",
              "4      [vera, level, ippa, pesungada, mokka, nu, thal...   \n",
              "...                                                  ...   \n",
              "11328          [shankar, anna, and, ar, sir, sema, mass]   \n",
              "11329  [intha, movie, la, yuvan, music, therikum, pol...   \n",
              "11330     [yuvan, shankar, raja, anna, fans, like, here]   \n",
              "11331  [a, masterpiece, best, revenge, film, i, ’, ve...   \n",
              "11332      [enna, pa, thala, ya, kamiya, than, katringa]   \n",
              "\n",
              "                                       remove_stop_words  \\\n",
              "0        [trailer, late, ah, parthavanga, like, podunga]   \n",
              "1      [move, pathutu, vanthu, trailer, pakurvnga, yaru]   \n",
              "2          [puthupetai, dhanush, ah, yarellam, pathinga]   \n",
              "3      [dhanush, oda, character, puthu, sa, erukay, m...   \n",
              "4      [vera, level, ippa, pesungada, mokka, nu, thal...   \n",
              "...                                                  ...   \n",
              "11328               [shankar, anna, ar, sir, sema, mass]   \n",
              "11329  [intha, movie, la, yuvan, music, therikum, pol...   \n",
              "11330           [yuvan, shankar, raja, anna, fans, like]   \n",
              "11331    [masterpiece, best, revenge, film, ever, scene]   \n",
              "11332            [enna, pa, thala, ya, kamiya, katringa]   \n",
              "\n",
              "                                         stem_and_lem  \n",
              "0                  trail lat ah parthavang lik podung  \n",
              "1              mov pathutu vanthu trail pakurvng yaru  \n",
              "2               puthupeta dhanush ah yarellam pathing  \n",
              "3          dhanush od charact puthu sa erukay mass ta  \n",
              "4         ver level ipp pesungad mokk nu thalaivaaaaa  \n",
              "...                                               ...  \n",
              "11328                       shank ann ar sir sem mass  \n",
              "11329  inth movy la yuv mus therik pol thonuthu enaku  \n",
              "11330                       yuv shank raj ann fan lik  \n",
              "11331             masterpiec best reveng film ev scen  \n",
              "11332                    enn pa thal ya kamiy katring  \n",
              "\n",
              "[8993 rows x 8 columns]"
            ],
            "text/html": [
              "\n",
              "\n",
              "  <div id=\"df-eb6d5045-ea75-4c97-b0cc-8ec8f899706f\">\n",
              "    <div class=\"colab-df-container\">\n",
              "      <div>\n",
              "<style scoped>\n",
              "    .dataframe tbody tr th:only-of-type {\n",
              "        vertical-align: middle;\n",
              "    }\n",
              "\n",
              "    .dataframe tbody tr th {\n",
              "        vertical-align: top;\n",
              "    }\n",
              "\n",
              "    .dataframe thead th {\n",
              "        text-align: right;\n",
              "    }\n",
              "</style>\n",
              "<table border=\"1\" class=\"dataframe\">\n",
              "  <thead>\n",
              "    <tr style=\"text-align: right;\">\n",
              "      <th></th>\n",
              "      <th>text</th>\n",
              "      <th>category</th>\n",
              "      <th>pre_clean_text</th>\n",
              "      <th>remove_emoticon</th>\n",
              "      <th>remove_punc</th>\n",
              "      <th>tokenize</th>\n",
              "      <th>remove_stop_words</th>\n",
              "      <th>stem_and_lem</th>\n",
              "    </tr>\n",
              "  </thead>\n",
              "  <tbody>\n",
              "    <tr>\n",
              "      <th>0</th>\n",
              "      <td>trailer late ah parthavanga like podunga</td>\n",
              "      <td>positive</td>\n",
              "      <td>trailer late ah parthavanga like podunga</td>\n",
              "      <td>trailer late ah parthavanga like podunga</td>\n",
              "      <td>trailer late ah parthavanga like podunga</td>\n",
              "      <td>[trailer, late, ah, parthavanga, like, podunga]</td>\n",
              "      <td>[trailer, late, ah, parthavanga, like, podunga]</td>\n",
              "      <td>trail lat ah parthavang lik podung</td>\n",
              "    </tr>\n",
              "    <tr>\n",
              "      <th>1</th>\n",
              "      <td>move pathutu vanthu trailer pakurvnga yaru</td>\n",
              "      <td>positive</td>\n",
              "      <td>move pathutu vanthu trailer pakurvnga yaru</td>\n",
              "      <td>move pathutu vanthu trailer pakurvnga yaru</td>\n",
              "      <td>move pathutu vanthu trailer pakurvnga yaru</td>\n",
              "      <td>[move, pathutu, vanthu, trailer, pakurvnga, yaru]</td>\n",
              "      <td>[move, pathutu, vanthu, trailer, pakurvnga, yaru]</td>\n",
              "      <td>mov pathutu vanthu trail pakurvng yaru</td>\n",
              "    </tr>\n",
              "    <tr>\n",
              "      <th>2</th>\n",
              "      <td>puthupetai dhanush  ah yarellam pathinga</td>\n",
              "      <td>positive</td>\n",
              "      <td>puthupetai dhanush ah yarellam pathinga</td>\n",
              "      <td>puthupetai dhanush ah yarellam pathinga</td>\n",
              "      <td>puthupetai dhanush ah yarellam pathinga</td>\n",
              "      <td>[puthupetai, dhanush, ah, yarellam, pathinga]</td>\n",
              "      <td>[puthupetai, dhanush, ah, yarellam, pathinga]</td>\n",
              "      <td>puthupeta dhanush ah yarellam pathing</td>\n",
              "    </tr>\n",
              "    <tr>\n",
              "      <th>3</th>\n",
              "      <td>dhanush oda character ,puthu sa erukay , mass ta</td>\n",
              "      <td>positive</td>\n",
              "      <td>dhanush oda character ,puthu sa erukay , mass ta</td>\n",
              "      <td>dhanush oda character ,puthu sa erukay , mass ta</td>\n",
              "      <td>dhanush oda character puthu sa erukay  mass ta</td>\n",
              "      <td>[dhanush, oda, character, puthu, sa, erukay, m...</td>\n",
              "      <td>[dhanush, oda, character, puthu, sa, erukay, m...</td>\n",
              "      <td>dhanush od charact puthu sa erukay mass ta</td>\n",
              "    </tr>\n",
              "    <tr>\n",
              "      <th>4</th>\n",
              "      <td>vera level ippa pesungada mokka nu thalaivaaaaaa</td>\n",
              "      <td>positive</td>\n",
              "      <td>vera level ippa pesungada mokka nu thalaivaaaaaa</td>\n",
              "      <td>vera level ippa pesungada mokka nu thalaivaaaaaa</td>\n",
              "      <td>vera level ippa pesungada mokka nu thalaivaaaaaa</td>\n",
              "      <td>[vera, level, ippa, pesungada, mokka, nu, thal...</td>\n",
              "      <td>[vera, level, ippa, pesungada, mokka, nu, thal...</td>\n",
              "      <td>ver level ipp pesungad mokk nu thalaivaaaaa</td>\n",
              "    </tr>\n",
              "    <tr>\n",
              "      <th>...</th>\n",
              "      <td>...</td>\n",
              "      <td>...</td>\n",
              "      <td>...</td>\n",
              "      <td>...</td>\n",
              "      <td>...</td>\n",
              "      <td>...</td>\n",
              "      <td>...</td>\n",
              "      <td>...</td>\n",
              "    </tr>\n",
              "    <tr>\n",
              "      <th>11328</th>\n",
              "      <td>shankar anna and ar sir sema mass</td>\n",
              "      <td>positive</td>\n",
              "      <td>shankar anna and ar sir sema mass</td>\n",
              "      <td>shankar anna and ar sir sema mass</td>\n",
              "      <td>shankar anna and ar sir sema mass</td>\n",
              "      <td>[shankar, anna, and, ar, sir, sema, mass]</td>\n",
              "      <td>[shankar, anna, ar, sir, sema, mass]</td>\n",
              "      <td>shank ann ar sir sem mass</td>\n",
              "    </tr>\n",
              "    <tr>\n",
              "      <th>11329</th>\n",
              "      <td>intha movie la yuvan music therikum pola thonu...</td>\n",
              "      <td>positive</td>\n",
              "      <td>intha movie la yuvan music therikum pola thonu...</td>\n",
              "      <td>intha movie la yuvan music therikum pola thonu...</td>\n",
              "      <td>intha movie la yuvan music therikum pola thonu...</td>\n",
              "      <td>[intha, movie, la, yuvan, music, therikum, pol...</td>\n",
              "      <td>[intha, movie, la, yuvan, music, therikum, pol...</td>\n",
              "      <td>inth movy la yuv mus therik pol thonuthu enaku</td>\n",
              "    </tr>\n",
              "    <tr>\n",
              "      <th>11330</th>\n",
              "      <td>yuvan shankar raja anna fan's like here...</td>\n",
              "      <td>positive</td>\n",
              "      <td>yuvan shankar raja anna fan's like here...</td>\n",
              "      <td>yuvan shankar raja anna fan's like here...</td>\n",
              "      <td>yuvan shankar raja anna fans like here</td>\n",
              "      <td>[yuvan, shankar, raja, anna, fans, like, here]</td>\n",
              "      <td>[yuvan, shankar, raja, anna, fans, like]</td>\n",
              "      <td>yuv shank raj ann fan lik</td>\n",
              "    </tr>\n",
              "    <tr>\n",
              "      <th>11331</th>\n",
              "      <td>a masterpiece best revenge film i’ve ever scene</td>\n",
              "      <td>positive</td>\n",
              "      <td>a masterpiece best revenge film i’ve ever scene</td>\n",
              "      <td>a masterpiece best revenge film i’ve ever scene</td>\n",
              "      <td>a masterpiece best revenge film i’ve ever scene</td>\n",
              "      <td>[a, masterpiece, best, revenge, film, i, ’, ve...</td>\n",
              "      <td>[masterpiece, best, revenge, film, ever, scene]</td>\n",
              "      <td>masterpiec best reveng film ev scen</td>\n",
              "    </tr>\n",
              "    <tr>\n",
              "      <th>11332</th>\n",
              "      <td>enna pa thala ya kamiya than katringa</td>\n",
              "      <td>positive</td>\n",
              "      <td>enna pa thala ya kamiya than katringa</td>\n",
              "      <td>enna pa thala ya kamiya than katringa</td>\n",
              "      <td>enna pa thala ya kamiya than katringa</td>\n",
              "      <td>[enna, pa, thala, ya, kamiya, than, katringa]</td>\n",
              "      <td>[enna, pa, thala, ya, kamiya, katringa]</td>\n",
              "      <td>enn pa thal ya kamiy katring</td>\n",
              "    </tr>\n",
              "  </tbody>\n",
              "</table>\n",
              "<p>8993 rows × 8 columns</p>\n",
              "</div>\n",
              "      <button class=\"colab-df-convert\" onclick=\"convertToInteractive('df-eb6d5045-ea75-4c97-b0cc-8ec8f899706f')\"\n",
              "              title=\"Convert this dataframe to an interactive table.\"\n",
              "              style=\"display:none;\">\n",
              "\n",
              "  <svg xmlns=\"http://www.w3.org/2000/svg\" height=\"24px\"viewBox=\"0 0 24 24\"\n",
              "       width=\"24px\">\n",
              "    <path d=\"M0 0h24v24H0V0z\" fill=\"none\"/>\n",
              "    <path d=\"M18.56 5.44l.94 2.06.94-2.06 2.06-.94-2.06-.94-.94-2.06-.94 2.06-2.06.94zm-11 1L8.5 8.5l.94-2.06 2.06-.94-2.06-.94L8.5 2.5l-.94 2.06-2.06.94zm10 10l.94 2.06.94-2.06 2.06-.94-2.06-.94-.94-2.06-.94 2.06-2.06.94z\"/><path d=\"M17.41 7.96l-1.37-1.37c-.4-.4-.92-.59-1.43-.59-.52 0-1.04.2-1.43.59L10.3 9.45l-7.72 7.72c-.78.78-.78 2.05 0 2.83L4 21.41c.39.39.9.59 1.41.59.51 0 1.02-.2 1.41-.59l7.78-7.78 2.81-2.81c.8-.78.8-2.07 0-2.86zM5.41 20L4 18.59l7.72-7.72 1.47 1.35L5.41 20z\"/>\n",
              "  </svg>\n",
              "      </button>\n",
              "\n",
              "\n",
              "\n",
              "    <div id=\"df-f1ce07f1-d0f8-4282-8c6c-b732fcb87128\">\n",
              "      <button class=\"colab-df-quickchart\" onclick=\"quickchart('df-f1ce07f1-d0f8-4282-8c6c-b732fcb87128')\"\n",
              "              title=\"Suggest charts.\"\n",
              "              style=\"display:none;\">\n",
              "\n",
              "<svg xmlns=\"http://www.w3.org/2000/svg\" height=\"24px\"viewBox=\"0 0 24 24\"\n",
              "     width=\"24px\">\n",
              "    <g>\n",
              "        <path d=\"M19 3H5c-1.1 0-2 .9-2 2v14c0 1.1.9 2 2 2h14c1.1 0 2-.9 2-2V5c0-1.1-.9-2-2-2zM9 17H7v-7h2v7zm4 0h-2V7h2v10zm4 0h-2v-4h2v4z\"/>\n",
              "    </g>\n",
              "</svg>\n",
              "      </button>\n",
              "    </div>\n",
              "\n",
              "<style>\n",
              "  .colab-df-quickchart {\n",
              "    background-color: #E8F0FE;\n",
              "    border: none;\n",
              "    border-radius: 50%;\n",
              "    cursor: pointer;\n",
              "    display: none;\n",
              "    fill: #1967D2;\n",
              "    height: 32px;\n",
              "    padding: 0 0 0 0;\n",
              "    width: 32px;\n",
              "  }\n",
              "\n",
              "  .colab-df-quickchart:hover {\n",
              "    background-color: #E2EBFA;\n",
              "    box-shadow: 0px 1px 2px rgba(60, 64, 67, 0.3), 0px 1px 3px 1px rgba(60, 64, 67, 0.15);\n",
              "    fill: #174EA6;\n",
              "  }\n",
              "\n",
              "  [theme=dark] .colab-df-quickchart {\n",
              "    background-color: #3B4455;\n",
              "    fill: #D2E3FC;\n",
              "  }\n",
              "\n",
              "  [theme=dark] .colab-df-quickchart:hover {\n",
              "    background-color: #434B5C;\n",
              "    box-shadow: 0px 1px 3px 1px rgba(0, 0, 0, 0.15);\n",
              "    filter: drop-shadow(0px 1px 2px rgba(0, 0, 0, 0.3));\n",
              "    fill: #FFFFFF;\n",
              "  }\n",
              "</style>\n",
              "\n",
              "    <script>\n",
              "      async function quickchart(key) {\n",
              "        const containerElement = document.querySelector('#' + key);\n",
              "        const charts = await google.colab.kernel.invokeFunction(\n",
              "            'suggestCharts', [key], {});\n",
              "      }\n",
              "    </script>\n",
              "\n",
              "      <script>\n",
              "\n",
              "function displayQuickchartButton(domScope) {\n",
              "  let quickchartButtonEl =\n",
              "    domScope.querySelector('#df-f1ce07f1-d0f8-4282-8c6c-b732fcb87128 button.colab-df-quickchart');\n",
              "  quickchartButtonEl.style.display =\n",
              "    google.colab.kernel.accessAllowed ? 'block' : 'none';\n",
              "}\n",
              "\n",
              "        displayQuickchartButton(document);\n",
              "      </script>\n",
              "      <style>\n",
              "    .colab-df-container {\n",
              "      display:flex;\n",
              "      flex-wrap:wrap;\n",
              "      gap: 12px;\n",
              "    }\n",
              "\n",
              "    .colab-df-convert {\n",
              "      background-color: #E8F0FE;\n",
              "      border: none;\n",
              "      border-radius: 50%;\n",
              "      cursor: pointer;\n",
              "      display: none;\n",
              "      fill: #1967D2;\n",
              "      height: 32px;\n",
              "      padding: 0 0 0 0;\n",
              "      width: 32px;\n",
              "    }\n",
              "\n",
              "    .colab-df-convert:hover {\n",
              "      background-color: #E2EBFA;\n",
              "      box-shadow: 0px 1px 2px rgba(60, 64, 67, 0.3), 0px 1px 3px 1px rgba(60, 64, 67, 0.15);\n",
              "      fill: #174EA6;\n",
              "    }\n",
              "\n",
              "    [theme=dark] .colab-df-convert {\n",
              "      background-color: #3B4455;\n",
              "      fill: #D2E3FC;\n",
              "    }\n",
              "\n",
              "    [theme=dark] .colab-df-convert:hover {\n",
              "      background-color: #434B5C;\n",
              "      box-shadow: 0px 1px 3px 1px rgba(0, 0, 0, 0.15);\n",
              "      filter: drop-shadow(0px 1px 2px rgba(0, 0, 0, 0.3));\n",
              "      fill: #FFFFFF;\n",
              "    }\n",
              "  </style>\n",
              "\n",
              "      <script>\n",
              "        const buttonEl =\n",
              "          document.querySelector('#df-eb6d5045-ea75-4c97-b0cc-8ec8f899706f button.colab-df-convert');\n",
              "        buttonEl.style.display =\n",
              "          google.colab.kernel.accessAllowed ? 'block' : 'none';\n",
              "\n",
              "        async function convertToInteractive(key) {\n",
              "          const element = document.querySelector('#df-eb6d5045-ea75-4c97-b0cc-8ec8f899706f');\n",
              "          const dataTable =\n",
              "            await google.colab.kernel.invokeFunction('convertToInteractive',\n",
              "                                                     [key], {});\n",
              "          if (!dataTable) return;\n",
              "\n",
              "          const docLinkHtml = 'Like what you see? Visit the ' +\n",
              "            '<a target=\"_blank\" href=https://colab.research.google.com/notebooks/data_table.ipynb>data table notebook</a>'\n",
              "            + ' to learn more about interactive tables.';\n",
              "          element.innerHTML = '';\n",
              "          dataTable['output_type'] = 'display_data';\n",
              "          await google.colab.output.renderOutput(dataTable, element);\n",
              "          const docLink = document.createElement('div');\n",
              "          docLink.innerHTML = docLinkHtml;\n",
              "          element.appendChild(docLink);\n",
              "        }\n",
              "      </script>\n",
              "    </div>\n",
              "  </div>\n"
            ]
          },
          "metadata": {},
          "execution_count": 14
        }
      ]
    },
    {
      "cell_type": "code",
      "source": [
        "test_set = dataclean(test_set)\n",
        "test_set"
      ],
      "metadata": {
        "colab": {
          "base_uri": "https://localhost:8080/",
          "height": 939
        },
        "id": "Xh4DGHQqCGmB",
        "outputId": "86b0fac5-63aa-467c-c0eb-600b6c949bfd"
      },
      "execution_count": 15,
      "outputs": [
        {
          "output_type": "stream",
          "name": "stderr",
          "text": [
            "Cleaning Data Phase I...: 100%|██████████| 1257/1257 [00:00<00:00, 22349.75it/s]\n",
            "removing emoji...: 100%|██████████| 1257/1257 [00:00<00:00, 58135.39it/s]\n",
            "removing punctuation...: 100%|██████████| 1257/1257 [00:00<00:00, 99836.02it/s]\n",
            "Tokenizing Data...: 100%|██████████| 1257/1257 [00:00<00:00, 2768.23it/s]\n",
            "Cleaning Data Phase II...: 100%|██████████| 1257/1257 [00:00<00:00, 1334.11it/s]\n",
            "Stemming And Lemmatizing: 100%|██████████| 1257/1257 [00:00<00:00, 1305.47it/s]\n"
          ]
        },
        {
          "output_type": "execute_result",
          "data": {
            "text/plain": [
              "                                                   text  category  \\\n",
              "0     daily likes & views pakka vanthavaga ellarukum...  positive   \n",
              "1     25 k dislikes ethuku da intha trailerku poi ap...  negative   \n",
              "3               it looks like hindi movie amitab bachan  positive   \n",
              "4     thalaivarukku nejamavey vayasaagiduchu... siva...  positive   \n",
              "5                thala nu sollu thala  nemirinthu nillu  positive   \n",
              "...                                                 ...       ...   \n",
              "1254          earphone la u1 bgm kekum pothu vera level  positive   \n",
              "1255  sappypathy vijayamma bigilu ummpi get more dis...  negative   \n",
              "1256                     stylea erukana ha ha naturally  positive   \n",
              "1257              style la irukana hahaha mass dialogue  negative   \n",
              "1259  naa indha trailer 30 time paathuten pakka pakk...  positive   \n",
              "\n",
              "                                         pre_clean_text  \\\n",
              "0     daily likes & views pakka vanthavaga ellarukum...   \n",
              "1     25 k dislikes ethuku da intha trailerku poi ap...   \n",
              "3               it looks like hindi movie amitab bachan   \n",
              "4     thalaivarukku nejamavey vayasaagiduchu... siva...   \n",
              "5                 thala nu sollu thala nemirinthu nillu   \n",
              "...                                                 ...   \n",
              "1254          earphone la u1 bgm kekum pothu vera level   \n",
              "1255  sappypathy vijayamma bigilu ummpi get more dis...   \n",
              "1256                     stylea erukana ha ha naturally   \n",
              "1257              style la irukana hahaha mass dialogue   \n",
              "1259  naa indha trailer 30 time paathuten pakka pakk...   \n",
              "\n",
              "                                        remove_emoticon  \\\n",
              "0     daily likes & views pakka vanthavaga ellarukum...   \n",
              "1     25 k dislikes ethuku da intha trailerku poi ap...   \n",
              "3               it looks like hindi movie amitab bachan   \n",
              "4     thalaivarukku nejamavey vayasaagiduchu... siva...   \n",
              "5                 thala nu sollu thala nemirinthu nillu   \n",
              "...                                                 ...   \n",
              "1254          earphone la u1 bgm kekum pothu vera level   \n",
              "1255  sappypathy vijayamma bigilu ummpi get more dis...   \n",
              "1256                     stylea erukana ha ha naturally   \n",
              "1257              style la irukana hahaha mass dialogue   \n",
              "1259  naa indha trailer 30 time paathuten pakka pakk...   \n",
              "\n",
              "                                            remove_punc  \\\n",
              "0     daily likes  views pakka vanthavaga ellarukum ...   \n",
              "1     25 k dislikes ethuku da intha trailerku poi ap...   \n",
              "3               it looks like hindi movie amitab bachan   \n",
              "4     thalaivarukku nejamavey vayasaagiduchu sivaji ...   \n",
              "5                 thala nu sollu thala nemirinthu nillu   \n",
              "...                                                 ...   \n",
              "1254          earphone la u1 bgm kekum pothu vera level   \n",
              "1255  sappypathy vijayamma bigilu ummpi get more dis...   \n",
              "1256                     stylea erukana ha ha naturally   \n",
              "1257              style la irukana hahaha mass dialogue   \n",
              "1259  naa indha trailer 30 time paathuten pakka pakk...   \n",
              "\n",
              "                                               tokenize  \\\n",
              "0     [daily, likes, views, pakka, vanthavaga, ellar...   \n",
              "1     [25, k, dislikes, ethuku, da, intha, trailerku...   \n",
              "3       [it, looks, like, hindi, movie, amitab, bachan]   \n",
              "4     [thalaivarukku, nejamavey, vayasaagiduchu, siv...   \n",
              "5          [thala, nu, sollu, thala, nemirinthu, nillu]   \n",
              "...                                                 ...   \n",
              "1254  [earphone, la, u1, bgm, kekum, pothu, vera, le...   \n",
              "1255  [sappypathy, vijayamma, bigilu, ummpi, get, mo...   \n",
              "1256               [stylea, erukana, ha, ha, naturally]   \n",
              "1257       [style, la, irukana, hahaha, mass, dialogue]   \n",
              "1259  [naa, indha, trailer, 30, time, paathuten, pak...   \n",
              "\n",
              "                                      remove_stop_words  \\\n",
              "0     [daily, likes, views, pakka, vanthavaga, ellar...   \n",
              "1     [25, dislikes, ethuku, da, intha, trailerku, p...   \n",
              "3           [looks, like, hindi, movie, amitab, bachan]   \n",
              "4     [thalaivarukku, nejamavey, vayasaagiduchu, siv...   \n",
              "5          [thala, nu, sollu, thala, nemirinthu, nillu]   \n",
              "...                                                 ...   \n",
              "1254  [earphone, la, u1, bgm, kekum, pothu, vera, le...   \n",
              "1255  [sappypathy, vijayamma, bigilu, ummpi, get, di...   \n",
              "1256               [stylea, erukana, ha, ha, naturally]   \n",
              "1257       [style, la, irukana, hahaha, mass, dialogue]   \n",
              "1259  [naa, indha, trailer, 30, time, paathuten, pak...   \n",
              "\n",
              "                                           stem_and_lem  \n",
              "0          dai lik view pakk vanthavag ellaruk vanakkam  \n",
              "1     25 dislik ethuku da inth trailerku poi apd ung...  \n",
              "3                        look lik hind movy amitab bach  \n",
              "4     thalaivarukku nejamavey vayasaagiduchu sivaj t...  \n",
              "5                   thal nu sollu thal nemirinthu nillu  \n",
              "...                                                 ...  \n",
              "1254              earphon la u1 bgm kek pothu ver level  \n",
              "1255  sappypathy vijayamm bigilu ummp get dislik tar...  \n",
              "1256                             style erukan ha ha nat  \n",
              "1257                   styl la irukan hahah mass dialog  \n",
              "1259  naa indh trail 30 tim paathut pakk pakk thal m...  \n",
              "\n",
              "[1019 rows x 8 columns]"
            ],
            "text/html": [
              "\n",
              "\n",
              "  <div id=\"df-a3e02fe8-47e3-41c9-bd09-5e031cfb69c9\">\n",
              "    <div class=\"colab-df-container\">\n",
              "      <div>\n",
              "<style scoped>\n",
              "    .dataframe tbody tr th:only-of-type {\n",
              "        vertical-align: middle;\n",
              "    }\n",
              "\n",
              "    .dataframe tbody tr th {\n",
              "        vertical-align: top;\n",
              "    }\n",
              "\n",
              "    .dataframe thead th {\n",
              "        text-align: right;\n",
              "    }\n",
              "</style>\n",
              "<table border=\"1\" class=\"dataframe\">\n",
              "  <thead>\n",
              "    <tr style=\"text-align: right;\">\n",
              "      <th></th>\n",
              "      <th>text</th>\n",
              "      <th>category</th>\n",
              "      <th>pre_clean_text</th>\n",
              "      <th>remove_emoticon</th>\n",
              "      <th>remove_punc</th>\n",
              "      <th>tokenize</th>\n",
              "      <th>remove_stop_words</th>\n",
              "      <th>stem_and_lem</th>\n",
              "    </tr>\n",
              "  </thead>\n",
              "  <tbody>\n",
              "    <tr>\n",
              "      <th>0</th>\n",
              "      <td>daily likes &amp; views pakka vanthavaga ellarukum...</td>\n",
              "      <td>positive</td>\n",
              "      <td>daily likes &amp; views pakka vanthavaga ellarukum...</td>\n",
              "      <td>daily likes &amp; views pakka vanthavaga ellarukum...</td>\n",
              "      <td>daily likes  views pakka vanthavaga ellarukum ...</td>\n",
              "      <td>[daily, likes, views, pakka, vanthavaga, ellar...</td>\n",
              "      <td>[daily, likes, views, pakka, vanthavaga, ellar...</td>\n",
              "      <td>dai lik view pakk vanthavag ellaruk vanakkam</td>\n",
              "    </tr>\n",
              "    <tr>\n",
              "      <th>1</th>\n",
              "      <td>25 k dislikes ethuku da intha trailerku poi ap...</td>\n",
              "      <td>negative</td>\n",
              "      <td>25 k dislikes ethuku da intha trailerku poi ap...</td>\n",
              "      <td>25 k dislikes ethuku da intha trailerku poi ap...</td>\n",
              "      <td>25 k dislikes ethuku da intha trailerku poi ap...</td>\n",
              "      <td>[25, k, dislikes, ethuku, da, intha, trailerku...</td>\n",
              "      <td>[25, dislikes, ethuku, da, intha, trailerku, p...</td>\n",
              "      <td>25 dislik ethuku da inth trailerku poi apd ung...</td>\n",
              "    </tr>\n",
              "    <tr>\n",
              "      <th>3</th>\n",
              "      <td>it looks like hindi movie amitab bachan</td>\n",
              "      <td>positive</td>\n",
              "      <td>it looks like hindi movie amitab bachan</td>\n",
              "      <td>it looks like hindi movie amitab bachan</td>\n",
              "      <td>it looks like hindi movie amitab bachan</td>\n",
              "      <td>[it, looks, like, hindi, movie, amitab, bachan]</td>\n",
              "      <td>[looks, like, hindi, movie, amitab, bachan]</td>\n",
              "      <td>look lik hind movy amitab bach</td>\n",
              "    </tr>\n",
              "    <tr>\n",
              "      <th>4</th>\n",
              "      <td>thalaivarukku nejamavey vayasaagiduchu... siva...</td>\n",
              "      <td>positive</td>\n",
              "      <td>thalaivarukku nejamavey vayasaagiduchu... siva...</td>\n",
              "      <td>thalaivarukku nejamavey vayasaagiduchu... siva...</td>\n",
              "      <td>thalaivarukku nejamavey vayasaagiduchu sivaji ...</td>\n",
              "      <td>[thalaivarukku, nejamavey, vayasaagiduchu, siv...</td>\n",
              "      <td>[thalaivarukku, nejamavey, vayasaagiduchu, siv...</td>\n",
              "      <td>thalaivarukku nejamavey vayasaagiduchu sivaj t...</td>\n",
              "    </tr>\n",
              "    <tr>\n",
              "      <th>5</th>\n",
              "      <td>thala nu sollu thala  nemirinthu nillu</td>\n",
              "      <td>positive</td>\n",
              "      <td>thala nu sollu thala nemirinthu nillu</td>\n",
              "      <td>thala nu sollu thala nemirinthu nillu</td>\n",
              "      <td>thala nu sollu thala nemirinthu nillu</td>\n",
              "      <td>[thala, nu, sollu, thala, nemirinthu, nillu]</td>\n",
              "      <td>[thala, nu, sollu, thala, nemirinthu, nillu]</td>\n",
              "      <td>thal nu sollu thal nemirinthu nillu</td>\n",
              "    </tr>\n",
              "    <tr>\n",
              "      <th>...</th>\n",
              "      <td>...</td>\n",
              "      <td>...</td>\n",
              "      <td>...</td>\n",
              "      <td>...</td>\n",
              "      <td>...</td>\n",
              "      <td>...</td>\n",
              "      <td>...</td>\n",
              "      <td>...</td>\n",
              "    </tr>\n",
              "    <tr>\n",
              "      <th>1254</th>\n",
              "      <td>earphone la u1 bgm kekum pothu vera level</td>\n",
              "      <td>positive</td>\n",
              "      <td>earphone la u1 bgm kekum pothu vera level</td>\n",
              "      <td>earphone la u1 bgm kekum pothu vera level</td>\n",
              "      <td>earphone la u1 bgm kekum pothu vera level</td>\n",
              "      <td>[earphone, la, u1, bgm, kekum, pothu, vera, le...</td>\n",
              "      <td>[earphone, la, u1, bgm, kekum, pothu, vera, le...</td>\n",
              "      <td>earphon la u1 bgm kek pothu ver level</td>\n",
              "    </tr>\n",
              "    <tr>\n",
              "      <th>1255</th>\n",
              "      <td>sappypathy vijayamma bigilu ummpi get more dis...</td>\n",
              "      <td>negative</td>\n",
              "      <td>sappypathy vijayamma bigilu ummpi get more dis...</td>\n",
              "      <td>sappypathy vijayamma bigilu ummpi get more dis...</td>\n",
              "      <td>sappypathy vijayamma bigilu ummpi get more dis...</td>\n",
              "      <td>[sappypathy, vijayamma, bigilu, ummpi, get, mo...</td>\n",
              "      <td>[sappypathy, vijayamma, bigilu, ummpi, get, di...</td>\n",
              "      <td>sappypathy vijayamm bigilu ummp get dislik tar...</td>\n",
              "    </tr>\n",
              "    <tr>\n",
              "      <th>1256</th>\n",
              "      <td>stylea erukana ha ha naturally</td>\n",
              "      <td>positive</td>\n",
              "      <td>stylea erukana ha ha naturally</td>\n",
              "      <td>stylea erukana ha ha naturally</td>\n",
              "      <td>stylea erukana ha ha naturally</td>\n",
              "      <td>[stylea, erukana, ha, ha, naturally]</td>\n",
              "      <td>[stylea, erukana, ha, ha, naturally]</td>\n",
              "      <td>style erukan ha ha nat</td>\n",
              "    </tr>\n",
              "    <tr>\n",
              "      <th>1257</th>\n",
              "      <td>style la irukana hahaha mass dialogue</td>\n",
              "      <td>negative</td>\n",
              "      <td>style la irukana hahaha mass dialogue</td>\n",
              "      <td>style la irukana hahaha mass dialogue</td>\n",
              "      <td>style la irukana hahaha mass dialogue</td>\n",
              "      <td>[style, la, irukana, hahaha, mass, dialogue]</td>\n",
              "      <td>[style, la, irukana, hahaha, mass, dialogue]</td>\n",
              "      <td>styl la irukan hahah mass dialog</td>\n",
              "    </tr>\n",
              "    <tr>\n",
              "      <th>1259</th>\n",
              "      <td>naa indha trailer 30 time paathuten pakka pakk...</td>\n",
              "      <td>positive</td>\n",
              "      <td>naa indha trailer 30 time paathuten pakka pakk...</td>\n",
              "      <td>naa indha trailer 30 time paathuten pakka pakk...</td>\n",
              "      <td>naa indha trailer 30 time paathuten pakka pakk...</td>\n",
              "      <td>[naa, indha, trailer, 30, time, paathuten, pak...</td>\n",
              "      <td>[naa, indha, trailer, 30, time, paathuten, pak...</td>\n",
              "      <td>naa indh trail 30 tim paathut pakk pakk thal m...</td>\n",
              "    </tr>\n",
              "  </tbody>\n",
              "</table>\n",
              "<p>1019 rows × 8 columns</p>\n",
              "</div>\n",
              "      <button class=\"colab-df-convert\" onclick=\"convertToInteractive('df-a3e02fe8-47e3-41c9-bd09-5e031cfb69c9')\"\n",
              "              title=\"Convert this dataframe to an interactive table.\"\n",
              "              style=\"display:none;\">\n",
              "\n",
              "  <svg xmlns=\"http://www.w3.org/2000/svg\" height=\"24px\"viewBox=\"0 0 24 24\"\n",
              "       width=\"24px\">\n",
              "    <path d=\"M0 0h24v24H0V0z\" fill=\"none\"/>\n",
              "    <path d=\"M18.56 5.44l.94 2.06.94-2.06 2.06-.94-2.06-.94-.94-2.06-.94 2.06-2.06.94zm-11 1L8.5 8.5l.94-2.06 2.06-.94-2.06-.94L8.5 2.5l-.94 2.06-2.06.94zm10 10l.94 2.06.94-2.06 2.06-.94-2.06-.94-.94-2.06-.94 2.06-2.06.94z\"/><path d=\"M17.41 7.96l-1.37-1.37c-.4-.4-.92-.59-1.43-.59-.52 0-1.04.2-1.43.59L10.3 9.45l-7.72 7.72c-.78.78-.78 2.05 0 2.83L4 21.41c.39.39.9.59 1.41.59.51 0 1.02-.2 1.41-.59l7.78-7.78 2.81-2.81c.8-.78.8-2.07 0-2.86zM5.41 20L4 18.59l7.72-7.72 1.47 1.35L5.41 20z\"/>\n",
              "  </svg>\n",
              "      </button>\n",
              "\n",
              "\n",
              "\n",
              "    <div id=\"df-39603e33-f19a-453e-afc5-470657d72104\">\n",
              "      <button class=\"colab-df-quickchart\" onclick=\"quickchart('df-39603e33-f19a-453e-afc5-470657d72104')\"\n",
              "              title=\"Suggest charts.\"\n",
              "              style=\"display:none;\">\n",
              "\n",
              "<svg xmlns=\"http://www.w3.org/2000/svg\" height=\"24px\"viewBox=\"0 0 24 24\"\n",
              "     width=\"24px\">\n",
              "    <g>\n",
              "        <path d=\"M19 3H5c-1.1 0-2 .9-2 2v14c0 1.1.9 2 2 2h14c1.1 0 2-.9 2-2V5c0-1.1-.9-2-2-2zM9 17H7v-7h2v7zm4 0h-2V7h2v10zm4 0h-2v-4h2v4z\"/>\n",
              "    </g>\n",
              "</svg>\n",
              "      </button>\n",
              "    </div>\n",
              "\n",
              "<style>\n",
              "  .colab-df-quickchart {\n",
              "    background-color: #E8F0FE;\n",
              "    border: none;\n",
              "    border-radius: 50%;\n",
              "    cursor: pointer;\n",
              "    display: none;\n",
              "    fill: #1967D2;\n",
              "    height: 32px;\n",
              "    padding: 0 0 0 0;\n",
              "    width: 32px;\n",
              "  }\n",
              "\n",
              "  .colab-df-quickchart:hover {\n",
              "    background-color: #E2EBFA;\n",
              "    box-shadow: 0px 1px 2px rgba(60, 64, 67, 0.3), 0px 1px 3px 1px rgba(60, 64, 67, 0.15);\n",
              "    fill: #174EA6;\n",
              "  }\n",
              "\n",
              "  [theme=dark] .colab-df-quickchart {\n",
              "    background-color: #3B4455;\n",
              "    fill: #D2E3FC;\n",
              "  }\n",
              "\n",
              "  [theme=dark] .colab-df-quickchart:hover {\n",
              "    background-color: #434B5C;\n",
              "    box-shadow: 0px 1px 3px 1px rgba(0, 0, 0, 0.15);\n",
              "    filter: drop-shadow(0px 1px 2px rgba(0, 0, 0, 0.3));\n",
              "    fill: #FFFFFF;\n",
              "  }\n",
              "</style>\n",
              "\n",
              "    <script>\n",
              "      async function quickchart(key) {\n",
              "        const containerElement = document.querySelector('#' + key);\n",
              "        const charts = await google.colab.kernel.invokeFunction(\n",
              "            'suggestCharts', [key], {});\n",
              "      }\n",
              "    </script>\n",
              "\n",
              "      <script>\n",
              "\n",
              "function displayQuickchartButton(domScope) {\n",
              "  let quickchartButtonEl =\n",
              "    domScope.querySelector('#df-39603e33-f19a-453e-afc5-470657d72104 button.colab-df-quickchart');\n",
              "  quickchartButtonEl.style.display =\n",
              "    google.colab.kernel.accessAllowed ? 'block' : 'none';\n",
              "}\n",
              "\n",
              "        displayQuickchartButton(document);\n",
              "      </script>\n",
              "      <style>\n",
              "    .colab-df-container {\n",
              "      display:flex;\n",
              "      flex-wrap:wrap;\n",
              "      gap: 12px;\n",
              "    }\n",
              "\n",
              "    .colab-df-convert {\n",
              "      background-color: #E8F0FE;\n",
              "      border: none;\n",
              "      border-radius: 50%;\n",
              "      cursor: pointer;\n",
              "      display: none;\n",
              "      fill: #1967D2;\n",
              "      height: 32px;\n",
              "      padding: 0 0 0 0;\n",
              "      width: 32px;\n",
              "    }\n",
              "\n",
              "    .colab-df-convert:hover {\n",
              "      background-color: #E2EBFA;\n",
              "      box-shadow: 0px 1px 2px rgba(60, 64, 67, 0.3), 0px 1px 3px 1px rgba(60, 64, 67, 0.15);\n",
              "      fill: #174EA6;\n",
              "    }\n",
              "\n",
              "    [theme=dark] .colab-df-convert {\n",
              "      background-color: #3B4455;\n",
              "      fill: #D2E3FC;\n",
              "    }\n",
              "\n",
              "    [theme=dark] .colab-df-convert:hover {\n",
              "      background-color: #434B5C;\n",
              "      box-shadow: 0px 1px 3px 1px rgba(0, 0, 0, 0.15);\n",
              "      filter: drop-shadow(0px 1px 2px rgba(0, 0, 0, 0.3));\n",
              "      fill: #FFFFFF;\n",
              "    }\n",
              "  </style>\n",
              "\n",
              "      <script>\n",
              "        const buttonEl =\n",
              "          document.querySelector('#df-a3e02fe8-47e3-41c9-bd09-5e031cfb69c9 button.colab-df-convert');\n",
              "        buttonEl.style.display =\n",
              "          google.colab.kernel.accessAllowed ? 'block' : 'none';\n",
              "\n",
              "        async function convertToInteractive(key) {\n",
              "          const element = document.querySelector('#df-a3e02fe8-47e3-41c9-bd09-5e031cfb69c9');\n",
              "          const dataTable =\n",
              "            await google.colab.kernel.invokeFunction('convertToInteractive',\n",
              "                                                     [key], {});\n",
              "          if (!dataTable) return;\n",
              "\n",
              "          const docLinkHtml = 'Like what you see? Visit the ' +\n",
              "            '<a target=\"_blank\" href=https://colab.research.google.com/notebooks/data_table.ipynb>data table notebook</a>'\n",
              "            + ' to learn more about interactive tables.';\n",
              "          element.innerHTML = '';\n",
              "          dataTable['output_type'] = 'display_data';\n",
              "          await google.colab.output.renderOutput(dataTable, element);\n",
              "          const docLink = document.createElement('div');\n",
              "          docLink.innerHTML = docLinkHtml;\n",
              "          element.appendChild(docLink);\n",
              "        }\n",
              "      </script>\n",
              "    </div>\n",
              "  </div>\n"
            ]
          },
          "metadata": {},
          "execution_count": 15
        }
      ]
    },
    {
      "cell_type": "markdown",
      "source": [
        "#Feature Extraction"
      ],
      "metadata": {
        "id": "nsMb51LRCNe8"
      }
    },
    {
      "cell_type": "code",
      "source": [
        "# target Value\n",
        "y_train = train_set['category']\n",
        "y_test = test_set['category']"
      ],
      "metadata": {
        "id": "Sbe-6UQnMeBr"
      },
      "execution_count": 16,
      "outputs": []
    },
    {
      "cell_type": "markdown",
      "source": [
        "##Bag of word"
      ],
      "metadata": {
        "id": "ZLXfd-8RCaz7"
      }
    },
    {
      "cell_type": "code",
      "source": [
        "from sklearn.feature_extraction.text import CountVectorizer"
      ],
      "metadata": {
        "id": "B6RqJ0lUConF"
      },
      "execution_count": 17,
      "outputs": []
    },
    {
      "cell_type": "code",
      "source": [
        "vectorizer = CountVectorizer()\n",
        "X_train_bow = vectorizer.fit_transform(train_set['stem_and_lem'])\n",
        "X_test_bow = vectorizer.transform(test_set['stem_and_lem'])"
      ],
      "metadata": {
        "id": "pjHtU_h4CZ-x"
      },
      "execution_count": 18,
      "outputs": []
    },
    {
      "cell_type": "code",
      "source": [
        "X_train_bow , X_test_bow"
      ],
      "metadata": {
        "colab": {
          "base_uri": "https://localhost:8080/"
        },
        "id": "J2hWKVYoCZK8",
        "outputId": "fb44a79e-70d8-4562-b0c9-7601f0d38044"
      },
      "execution_count": 19,
      "outputs": [
        {
          "output_type": "execute_result",
          "data": {
            "text/plain": [
              "(<8993x14348 sparse matrix of type '<class 'numpy.int64'>'\n",
              " \twith 66038 stored elements in Compressed Sparse Row format>,\n",
              " <1019x14348 sparse matrix of type '<class 'numpy.int64'>'\n",
              " \twith 6377 stored elements in Compressed Sparse Row format>)"
            ]
          },
          "metadata": {},
          "execution_count": 19
        }
      ]
    },
    {
      "cell_type": "code",
      "source": [],
      "metadata": {
        "id": "lRP_lZmmNM6A"
      },
      "execution_count": 19,
      "outputs": []
    },
    {
      "cell_type": "markdown",
      "source": [
        "## TF-IDF"
      ],
      "metadata": {
        "id": "MePED6bCI0U3"
      }
    },
    {
      "cell_type": "code",
      "source": [
        "from sklearn.feature_extraction.text import TfidfVectorizer\n",
        "vectorizer = TfidfVectorizer()\n",
        "X_trainTF_IDF = vectorizer.fit_transform(train_set['stem_and_lem'])\n",
        "X_testTF_IDF = vectorizer.transform(test_set['stem_and_lem'])"
      ],
      "metadata": {
        "id": "ZaNaJqLFJDze"
      },
      "execution_count": 20,
      "outputs": []
    },
    {
      "cell_type": "code",
      "source": [
        "X_trainTF_IDF , X_testTF_IDF #csr"
      ],
      "metadata": {
        "colab": {
          "base_uri": "https://localhost:8080/"
        },
        "id": "ewyDZ9OkNKD9",
        "outputId": "276fdd5a-93ff-421d-81ed-ea125905fb1f"
      },
      "execution_count": 21,
      "outputs": [
        {
          "output_type": "execute_result",
          "data": {
            "text/plain": [
              "(<8993x14348 sparse matrix of type '<class 'numpy.float64'>'\n",
              " \twith 66038 stored elements in Compressed Sparse Row format>,\n",
              " <1019x14348 sparse matrix of type '<class 'numpy.float64'>'\n",
              " \twith 6377 stored elements in Compressed Sparse Row format>)"
            ]
          },
          "metadata": {},
          "execution_count": 21
        }
      ]
    },
    {
      "cell_type": "code",
      "source": [
        "print(X_trainTF_IDF)"
      ],
      "metadata": {
        "id": "dHhHq3anWXgD",
        "outputId": "f74342f9-dac0-4af9-9836-f47cefd08423",
        "colab": {
          "base_uri": "https://localhost:8080/"
        }
      },
      "execution_count": 22,
      "outputs": [
        {
          "output_type": "stream",
          "name": "stdout",
          "text": [
            "  (0, 9094)\t0.36003335008827714\n",
            "  (0, 5765)\t0.2124626497986085\n",
            "  (0, 8588)\t0.599020005874489\n",
            "  (0, 938)\t0.3038432473626021\n",
            "  (0, 5683)\t0.5554319471022834\n",
            "  (0, 12247)\t0.2560962221455208\n",
            "  (1, 14027)\t0.38057368142283293\n",
            "  (1, 8134)\t0.5667044487908944\n",
            "  (1, 12912)\t0.38940158254742296\n",
            "  (1, 8738)\t0.38631289632287186\n",
            "  (1, 6538)\t0.4378378404409478\n",
            "  (1, 12247)\t0.20355962234953262\n",
            "  (2, 8690)\t0.5164218046040746\n",
            "  (2, 14015)\t0.448462008257735\n",
            "  (2, 2397)\t0.3142956226001288\n",
            "  (2, 9739)\t0.6056335312111369\n",
            "  (2, 938)\t0.258101984428707\n",
            "  (3, 11274)\t0.35650600573393865\n",
            "  (3, 6196)\t0.15741536702606299\n",
            "  (3, 3038)\t0.47839836168549066\n",
            "  (3, 10062)\t0.40194150407945234\n",
            "  (3, 9737)\t0.42255253653116476\n",
            "  (3, 2017)\t0.37948179296412915\n",
            "  (3, 7414)\t0.27112465329775576\n",
            "  (3, 2397)\t0.24826648986250507\n",
            "  :\t:\n",
            "  (8989, 6713)\t0.3240403553886455\n",
            "  (8989, 2788)\t0.39972511596922716\n",
            "  (8989, 9202)\t0.297124342188536\n",
            "  (8989, 14245)\t0.30226721761299996\n",
            "  (8989, 3931)\t0.2739542244824918\n",
            "  (8989, 5652)\t0.224611931584475\n",
            "  (8989, 6560)\t0.22077470906253654\n",
            "  (8990, 9785)\t0.5551231653604314\n",
            "  (8990, 10603)\t0.45961136363675237\n",
            "  (8990, 14245)\t0.43641153008368944\n",
            "  (8990, 3233)\t0.28433425048516514\n",
            "  (8990, 1202)\t0.3908728446517278\n",
            "  (8990, 5765)\t0.23772483130943417\n",
            "  (8991, 6248)\t0.526551843330441\n",
            "  (8991, 9982)\t0.49668452001914154\n",
            "  (8991, 3135)\t0.3751022227678383\n",
            "  (8991, 10372)\t0.3338484614355927\n",
            "  (8991, 3295)\t0.35542911983624853\n",
            "  (8991, 1791)\t0.3123480621083054\n",
            "  (8992, 4808)\t0.5629859629142504\n",
            "  (8992, 5030)\t0.5815636897909803\n",
            "  (8992, 13896)\t0.3168042686531932\n",
            "  (8992, 7666)\t0.34896483226556607\n",
            "  (8992, 2859)\t0.2956903441555687\n",
            "  (8992, 11488)\t0.18776661539356998\n"
          ]
        }
      ]
    },
    {
      "cell_type": "markdown",
      "source": [
        "#Model\n"
      ],
      "metadata": {
        "id": "JHVDVziPkEiu"
      }
    },
    {
      "cell_type": "code",
      "source": [
        "from sklearn.feature_selection import SelectKBest, chi2\n",
        "from sklearn.feature_extraction.text import TfidfVectorizer\n",
        "from sklearn.naive_bayes import BernoulliNB\n",
        "from sklearn.svm import SVC\n",
        "from sklearn.linear_model import LogisticRegression\n",
        "from sklearn.neighbors import KNeighborsClassifier\n",
        "from sklearn.metrics import accuracy_score, classification_report, confusion_matrix\n",
        "import matplotlib.pyplot as plt\n",
        "import seaborn as sns"
      ],
      "metadata": {
        "id": "wUwCxd1fkswS"
      },
      "execution_count": 33,
      "outputs": []
    },
    {
      "cell_type": "code",
      "source": [
        "def show_confusion_matrix(matrixs):\n",
        "  plt.figure(figsize=(8, 6))\n",
        "  sns.heatmap(matrixs, annot=True, fmt='d', cmap='Blues', cbar=False)\n",
        "  plt.xlabel('Predicted Labels')\n",
        "  plt.ylabel('True Labels')\n",
        "  plt.title('Confusion Matrix - SVM Classifier')\n",
        "  plt.show()"
      ],
      "metadata": {
        "id": "nLooP88bpR_R"
      },
      "execution_count": 37,
      "outputs": []
    },
    {
      "cell_type": "markdown",
      "source": [
        "##TF-IDF"
      ],
      "metadata": {
        "id": "ByklXMLvlT40"
      }
    },
    {
      "cell_type": "code",
      "source": [
        "k_best = 500\n",
        "selector = SelectKBest(chi2, k=k_best)\n",
        "X_train_tfidf_fs = selector.fit_transform(X_trainTF_IDF, y_train)\n",
        "X_test_tfidf_fs = selector.transform(X_testTF_IDF)\n"
      ],
      "metadata": {
        "id": "SY08aJOWlTFh"
      },
      "execution_count": 24,
      "outputs": []
    },
    {
      "cell_type": "code",
      "source": [
        "#Bernoulli NB\n",
        "bernoulli_nb_classifier = BernoulliNB()\n",
        "bernoulli_nb_classifier.fit(X_train_tfidf_fs, y_train)\n",
        "bernoulli_nb_predictions = bernoulli_nb_classifier.predict(X_test_tfidf_fs)\n",
        "\n",
        "bernoulli_nb_accuracy = accuracy_score(y_test, bernoulli_nb_predictions)\n",
        "print(f\"Bernoulli NB Accuracy with TF-IDF : {bernoulli_nb_accuracy:.2f}\")\n",
        "print(\"\\nBernoulli NB Classification Report with TF-IDF:\")\n",
        "print(classification_report(y_test, bernoulli_nb_predictions))\n",
        "print(\"\\nBernoulli NB Confusion Matrix with TF-IDF:\")\n",
        "print(show_confusion_matrix(confusion_matrix(y_test, bernoulli_nb_predictions)))\n",
        "print(\"\\n\\n\")\n",
        "\n",
        "#SVM\n",
        "svm_classifier = SVC(kernel='linear')\n",
        "svm_classifier.fit(X_train_tfidf_fs, y_train)\n",
        "svm_predictions = svm_classifier.predict(X_test_tfidf_fs)\n",
        "\n",
        "svm_accuracy = accuracy_score(y_test, svm_predictions)\n",
        "print(f\"SVM Accuracy TF-IDF : {svm_accuracy:.2f}\")\n",
        "print(\"\\nSVM Classification Report TF-IDF:\")\n",
        "print(classification_report(y_test, svm_predictions))\n",
        "print(\"\\nSVM Confusion Matrix TF-IDF:\")\n",
        "print(show_confusion_matrix(confusion_matrix(y_test, svm_predictions)))\n",
        "print(\"\\n\\n\")\n",
        "\n",
        "#LR\n",
        "logistic_regression_classifier = LogisticRegression()\n",
        "logistic_regression_classifier.fit(X_train_tfidf_fs, y_train)\n",
        "logistic_regression_predictions = logistic_regression_classifier.predict(X_test_tfidf_fs)\n",
        "\n",
        "logistic_regression_accuracy = accuracy_score(y_test, logistic_regression_predictions)\n",
        "print(f\"LR Accuracy TF-IDF: {logistic_regression_accuracy:.2f}\")\n",
        "print(\"\\nLR Classification Report TF-IDF:\")\n",
        "print(classification_report(y_test, logistic_regression_predictions))\n",
        "print(\"\\nLR Confusion Matrix TF-IDF:\")\n",
        "print(show_confusion_matrix(confusion_matrix(y_test, logistic_regression_predictions)))\n",
        "print(\"\\n\\n\")\n",
        "\n",
        "# KNN\n",
        "knn_classifier = KNeighborsClassifier(n_neighbors=5)  # You can adjust the number of neighbors (n_neighbors) as needed\n",
        "knn_classifier.fit(X_train_tfidf_fs, y_train)\n",
        "knn_predictions = knn_classifier.predict(X_test_tfidf_fs)\n",
        "\n",
        "knn_accuracy = accuracy_score(y_test, knn_predictions)\n",
        "print(f\"KNN Accuracy TF-IDF: {knn_accuracy:.2f}\")\n",
        "print(\"\\nKNN Classification Report with TF-IDF\")\n",
        "print(classification_report(y_test, knn_predictions))\n",
        "print(\"\\nKNN Confusion Matrix with TF-IDF:\")\n",
        "print(show_confusion_matrix((confusion_matrix(y_test, knn_predictions))))\n"
      ],
      "metadata": {
        "colab": {
          "base_uri": "https://localhost:8080/",
          "height": 1000
        },
        "id": "zGzTTcevkM0W",
        "outputId": "32575b3d-8b76-4f44-850c-b06d27e7e2d2"
      },
      "execution_count": 38,
      "outputs": [
        {
          "output_type": "stream",
          "name": "stdout",
          "text": [
            "Bernoulli NB Accuracy with TF-IDF : 0.84\n",
            "\n",
            "Bernoulli NB Classification Report with TF-IDF:\n",
            "              precision    recall  f1-score   support\n",
            "\n",
            "    negative       0.52      0.22      0.31       164\n",
            "    positive       0.87      0.96      0.91       855\n",
            "\n",
            "    accuracy                           0.84      1019\n",
            "   macro avg       0.69      0.59      0.61      1019\n",
            "weighted avg       0.81      0.84      0.81      1019\n",
            "\n",
            "\n",
            "Bernoulli NB Confusion Matrix with TF-IDF:\n"
          ]
        },
        {
          "output_type": "display_data",
          "data": {
            "text/plain": [
              "<Figure size 800x600 with 1 Axes>"
            ],
            "image/png": "[encoded data removed]"
          },
          "metadata": {}
        },
        {
          "output_type": "stream",
          "name": "stdout",
          "text": [
            "None\n",
            "\n",
            "\n",
            "\n",
            "SVM Accuracy TF-IDF : 0.84\n",
            "\n",
            "SVM Classification Report TF-IDF:\n",
            "              precision    recall  f1-score   support\n",
            "\n",
            "    negative       0.53      0.05      0.10       164\n",
            "    positive       0.85      0.99      0.91       855\n",
            "\n",
            "    accuracy                           0.84      1019\n",
            "   macro avg       0.69      0.52      0.51      1019\n",
            "weighted avg       0.79      0.84      0.78      1019\n",
            "\n",
            "\n",
            "SVM Confusion Matrix TF-IDF:\n"
          ]
        },
        {
          "output_type": "display_data",
          "data": {
            "text/plain": [
              "<Figure size 800x600 with 1 Axes>"
            ],
            "image/png": "[encoded data removed]"
          },
          "metadata": {}
        },
        {
          "output_type": "stream",
          "name": "stdout",
          "text": [
            "None\n",
            "\n",
            "\n",
            "\n",
            "LR Accuracy TF-IDF: 0.84\n",
            "\n",
            "LR Classification Report TF-IDF:\n",
            "              precision    recall  f1-score   support\n",
            "\n",
            "    negative       0.69      0.05      0.10       164\n",
            "    positive       0.85      1.00      0.91       855\n",
            "\n",
            "    accuracy                           0.84      1019\n",
            "   macro avg       0.77      0.53      0.51      1019\n",
            "weighted avg       0.82      0.84      0.78      1019\n",
            "\n",
            "\n",
            "LR Confusion Matrix TF-IDF:\n"
          ]
        },
        {
          "output_type": "display_data",
          "data": {
            "text/plain": [
              "<Figure size 800x600 with 1 Axes>"
            ],
            "image/png": "[encoded data removed]"
          },
          "metadata": {}
        },
        {
          "output_type": "stream",
          "name": "stdout",
          "text": [
            "None\n",
            "\n",
            "\n",
            "\n",
            "KNN Accuracy TF-IDF: 0.83\n",
            "\n",
            "KNN Classification Report with TF-IDF\n",
            "              precision    recall  f1-score   support\n",
            "\n",
            "    negative       0.43      0.09      0.15       164\n",
            "    positive       0.85      0.98      0.91       855\n",
            "\n",
            "    accuracy                           0.83      1019\n",
            "   macro avg       0.64      0.53      0.53      1019\n",
            "weighted avg       0.78      0.83      0.79      1019\n",
            "\n",
            "\n",
            "KNN Confusion Matrix with TF-IDF:\n"
          ]
        },
        {
          "output_type": "display_data",
          "data": {
            "text/plain": [
              "<Figure size 800x600 with 1 Axes>"
            ],
            "image/png": "[encoded data removed]"
          },
          "metadata": {}
        },
        {
          "output_type": "stream",
          "name": "stdout",
          "text": [
            "None\n"
          ]
        }
      ]
    },
    {
      "cell_type": "markdown",
      "source": [
        "##BOW"
      ],
      "metadata": {
        "id": "UCoZcdQmlE34"
      }
    },
    {
      "cell_type": "code",
      "source": [
        "from sklearn.feature_selection import SelectKBest, chi2\n",
        "from sklearn.svm import SVC\n",
        "from sklearn.metrics import accuracy_score, classification_report, confusion_matrix"
      ],
      "metadata": {
        "id": "2_ZgGoqPkcdr"
      },
      "execution_count": 39,
      "outputs": []
    },
    {
      "cell_type": "code",
      "source": [
        "k_best = 500\n",
        "selector = SelectKBest(chi2, k=k_best)\n",
        "X_train_bow_fs = selector.fit_transform(X_train_bow, y_train)\n",
        "X_test_bow_fs = selector.transform(X_test_bow)\n",
        "\n",
        "# # SVM\n",
        "# svm_classifier = SVC(kernel='linear')\n",
        "# svm_classifier.fit(X_train_bow_fs, y_train)\n",
        "\n",
        "# svm_predictions = svm_classifier.predict(X_test_bow_fs)\n",
        "\n",
        "# svm_accuracy = accuracy_score(y_test, svm_predictions)\n",
        "\n",
        "# print(f\"SVM Accuracy: {svm_accuracy:.2f}\")\n",
        "# print(classification_report(y_test, svm_predictions))\n"
      ],
      "metadata": {
        "id": "XI0GDKnskGgu"
      },
      "execution_count": 40,
      "outputs": []
    },
    {
      "cell_type": "code",
      "source": [
        "\n",
        "#Bernoulli NB\n",
        "bernoulli_nb_classifier = BernoulliNB()\n",
        "bernoulli_nb_classifier.fit(X_train_bow_fs, y_train)\n",
        "bernoulli_nb_predictions = bernoulli_nb_classifier.predict(X_test_bow_fs)\n",
        "\n",
        "bernoulli_nb_accuracy = accuracy_score(y_test, bernoulli_nb_predictions)\n",
        "print(f\"Bernoulli NB Accuracy with BOW : {bernoulli_nb_accuracy:.2f}\")\n",
        "print(\"\\nBernoulli NB Classification Report with BOW:\")\n",
        "print(classification_report(y_test, bernoulli_nb_predictions))\n",
        "print(\"\\nBernoulli NB Confusion Matrix with BOW:\")\n",
        "print(show_confusion_matrix(confusion_matrix(y_test, bernoulli_nb_predictions)))\n",
        "print(\"\\n\\n\")\n",
        "\n",
        "#SVM\n",
        "svm_classifier = SVC(kernel='linear')\n",
        "svm_classifier.fit(X_train_bow_fs, y_train)\n",
        "svm_predictions = svm_classifier.predict(X_test_bow_fs)\n",
        "\n",
        "svm_accuracy = accuracy_score(y_test, svm_predictions)\n",
        "print(f\"SVM Accuracy BOW : {svm_accuracy:.2f}\")\n",
        "print(\"\\nSVM Classification Report BOW:\")\n",
        "print(classification_report(y_test, svm_predictions))\n",
        "print(\"\\nSVM Confusion Matrix BOW:\")\n",
        "print(show_confusion_matrix(confusion_matrix(y_test, svm_predictions)))\n",
        "print(\"\\n\\n\")\n",
        "\n",
        "#LR\n",
        "logistic_regression_classifier = LogisticRegression()\n",
        "logistic_regression_classifier.fit(X_train_bow_fs, y_train)\n",
        "logistic_regression_predictions = logistic_regression_classifier.predict(X_test_bow_fs)\n",
        "\n",
        "logistic_regression_accuracy = accuracy_score(y_test, logistic_regression_predictions)\n",
        "print(f\"LR Accuracy BOW: {logistic_regression_accuracy:.2f}\")\n",
        "print(\"\\nLR Classification Report BOW:\")\n",
        "print(classification_report(y_test, logistic_regression_predictions))\n",
        "print(\"\\nLR Confusion Matrix BOW:\")\n",
        "print(show_confusion_matrix(confusion_matrix(y_test, logistic_regression_predictions)))\n",
        "print(\"\\n\\n\")\n",
        "\n",
        "# KNN\n",
        "knn_classifier = KNeighborsClassifier(n_neighbors=5)  # You can adjust the number of neighbors (n_neighbors) as needed\n",
        "knn_classifier.fit(X_train_bow_fs, y_train)\n",
        "knn_predictions = knn_classifier.predict(X_test_bow_fs)\n",
        "\n",
        "knn_accuracy = accuracy_score(y_test, knn_predictions)\n",
        "print(f\"KNN Accuracy BOW: {knn_accuracy:.2f}\")\n",
        "print(\"\\nKNN Classification Report with BOW\")\n",
        "print(classification_report(y_test, knn_predictions))\n",
        "print(\"\\nKNN Confusion Matrix with BOW:\")\n",
        "print(show_confusion_matrix((confusion_matrix(y_test, knn_predictions))))\n",
        "\n"
      ],
      "metadata": {
        "colab": {
          "base_uri": "https://localhost:8080/",
          "height": 1000
        },
        "id": "zGhp0rxyrai7",
        "outputId": "45adc4ca-c09c-4820-a3b4-6b9c07534cb6"
      },
      "execution_count": 41,
      "outputs": [
        {
          "output_type": "stream",
          "name": "stdout",
          "text": [
            "Bernoulli NB Accuracy with BOW : 0.83\n",
            "\n",
            "Bernoulli NB Classification Report with BOW:\n",
            "              precision    recall  f1-score   support\n",
            "\n",
            "    negative       0.47      0.24      0.32       164\n",
            "    positive       0.87      0.95      0.91       855\n",
            "\n",
            "    accuracy                           0.83      1019\n",
            "   macro avg       0.67      0.60      0.61      1019\n",
            "weighted avg       0.80      0.83      0.81      1019\n",
            "\n",
            "\n",
            "Bernoulli NB Confusion Matrix with BOW:\n"
          ]
        },
        {
          "output_type": "display_data",
          "data": {
            "text/plain": [
              "<Figure size 800x600 with 1 Axes>"
            ],
            "image/png": "[encoded data removed]"
          },
          "metadata": {}
        },
        {
          "output_type": "stream",
          "name": "stdout",
          "text": [
            "None\n",
            "\n",
            "\n",
            "\n",
            "SVM Accuracy BOW : 0.83\n",
            "\n",
            "SVM Classification Report BOW:\n",
            "              precision    recall  f1-score   support\n",
            "\n",
            "    negative       0.44      0.14      0.21       164\n",
            "    positive       0.85      0.97      0.91       855\n",
            "\n",
            "    accuracy                           0.83      1019\n",
            "   macro avg       0.65      0.55      0.56      1019\n",
            "weighted avg       0.79      0.83      0.80      1019\n",
            "\n",
            "\n",
            "SVM Confusion Matrix BOW:\n"
          ]
        },
        {
          "output_type": "display_data",
          "data": {
            "text/plain": [
              "<Figure size 800x600 with 1 Axes>"
            ],
            "image/png": "[encoded data removed]"
          },
          "metadata": {}
        },
        {
          "output_type": "stream",
          "name": "stdout",
          "text": [
            "None\n",
            "\n",
            "\n",
            "\n",
            "LR Accuracy BOW: 0.84\n",
            "\n",
            "LR Classification Report BOW:\n",
            "              precision    recall  f1-score   support\n",
            "\n",
            "    negative       0.56      0.15      0.24       164\n",
            "    positive       0.86      0.98      0.91       855\n",
            "\n",
            "    accuracy                           0.84      1019\n",
            "   macro avg       0.71      0.56      0.58      1019\n",
            "weighted avg       0.81      0.84      0.80      1019\n",
            "\n",
            "\n",
            "LR Confusion Matrix BOW:\n"
          ]
        },
        {
          "output_type": "display_data",
          "data": {
            "text/plain": [
              "<Figure size 800x600 with 1 Axes>"
            ],
            "image/png": "[encoded data removed]"
          },
          "metadata": {}
        },
        {
          "output_type": "stream",
          "name": "stdout",
          "text": [
            "None\n",
            "\n",
            "\n",
            "\n",
            "KNN Accuracy BOW: 0.83\n",
            "\n",
            "KNN Classification Report with BOW\n",
            "              precision    recall  f1-score   support\n",
            "\n",
            "    negative       0.42      0.08      0.13       164\n",
            "    positive       0.85      0.98      0.91       855\n",
            "\n",
            "    accuracy                           0.83      1019\n",
            "   macro avg       0.63      0.53      0.52      1019\n",
            "weighted avg       0.78      0.83      0.78      1019\n",
            "\n",
            "\n",
            "KNN Confusion Matrix with BOW:\n"
          ]
        },
        {
          "output_type": "display_data",
          "data": {
            "text/plain": [
              "<Figure size 800x600 with 1 Axes>"
            ],
            "image/png": "[encoded data removed]"
          },
          "metadata": {}
        },
        {
          "output_type": "stream",
          "name": "stdout",
          "text": [
            "None\n"
          ]
        }
      ]
    },
    {
      "cell_type": "code",
      "source": [],
      "metadata": {
        "id": "CUnKwO4mrcXD"
      },
      "execution_count": null,
      "outputs": []
    }
  ]
}
